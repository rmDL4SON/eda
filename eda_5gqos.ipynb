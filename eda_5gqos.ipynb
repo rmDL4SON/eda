{
 "cells": [
  {
   "cell_type": "code",
   "execution_count": 35,
   "id": "a77d1efe-e63b-4858-bfd4-1fab7ce4dada",
   "metadata": {},
   "outputs": [],
   "source": [
    "import pandas as pd \n",
    "import numpy as np\n",
    "import warnings \n",
    "import matplotlib.pyplot as plt \n",
    "import seaborn as sns\n",
    "import plotly.express as px\n",
    "warnings.filterwarnings('ignore')"
   ]
  },
  {
   "cell_type": "markdown",
   "id": "906b2ea8-428d-4b29-990e-ca1a50413cfe",
   "metadata": {},
   "source": [
    "### 1. Data explorations"
   ]
  },
  {
   "cell_type": "code",
   "execution_count": 36,
   "id": "65e29885-16ca-4cb4-ac74-033adb5a15a2",
   "metadata": {},
   "outputs": [
    {
     "data": {
      "text/plain": [
       "Index(['Timestamp', 'User_ID', 'Application_Type', 'Signal_Strength',\n",
       "       'Latency', 'Required_Bandwidth', 'Allocated_Bandwidth',\n",
       "       'Resource_Allocation'],\n",
       "      dtype='object')"
      ]
     },
     "execution_count": 36,
     "metadata": {},
     "output_type": "execute_result"
    }
   ],
   "source": [
    "data = pd.read_csv('5gqos.csv')\n",
    "data.columns"
   ]
  },
  {
   "cell_type": "code",
   "execution_count": 37,
   "id": "68db0ddc-e505-4078-a6b8-405edef8ecd5",
   "metadata": {},
   "outputs": [
    {
     "data": {
      "text/html": [
       "<div>\n",
       "<style scoped>\n",
       "    .dataframe tbody tr th:only-of-type {\n",
       "        vertical-align: middle;\n",
       "    }\n",
       "\n",
       "    .dataframe tbody tr th {\n",
       "        vertical-align: top;\n",
       "    }\n",
       "\n",
       "    .dataframe thead th {\n",
       "        text-align: right;\n",
       "    }\n",
       "</style>\n",
       "<table border=\"1\" class=\"dataframe\">\n",
       "  <thead>\n",
       "    <tr style=\"text-align: right;\">\n",
       "      <th></th>\n",
       "      <th>Timestamp</th>\n",
       "      <th>User_ID</th>\n",
       "      <th>Application_Type</th>\n",
       "      <th>Signal_Strength</th>\n",
       "      <th>Latency</th>\n",
       "      <th>Required_Bandwidth</th>\n",
       "      <th>Allocated_Bandwidth</th>\n",
       "      <th>Resource_Allocation</th>\n",
       "    </tr>\n",
       "  </thead>\n",
       "  <tbody>\n",
       "    <tr>\n",
       "      <th>0</th>\n",
       "      <td>9/3/2023 10:00</td>\n",
       "      <td>User_1</td>\n",
       "      <td>Video_Call</td>\n",
       "      <td>-75 dBm</td>\n",
       "      <td>30 ms</td>\n",
       "      <td>10 Mbps</td>\n",
       "      <td>15 Mbps</td>\n",
       "      <td>70%</td>\n",
       "    </tr>\n",
       "    <tr>\n",
       "      <th>1</th>\n",
       "      <td>9/3/2023 10:00</td>\n",
       "      <td>User_2</td>\n",
       "      <td>Voice_Call</td>\n",
       "      <td>-80 dBm</td>\n",
       "      <td>20 ms</td>\n",
       "      <td>100 Kbps</td>\n",
       "      <td>120 Kbps</td>\n",
       "      <td>80%</td>\n",
       "    </tr>\n",
       "    <tr>\n",
       "      <th>2</th>\n",
       "      <td>9/3/2023 10:00</td>\n",
       "      <td>User_3</td>\n",
       "      <td>Streaming</td>\n",
       "      <td>-85 dBm</td>\n",
       "      <td>40 ms</td>\n",
       "      <td>5 Mbps</td>\n",
       "      <td>6 Mbps</td>\n",
       "      <td>75%</td>\n",
       "    </tr>\n",
       "    <tr>\n",
       "      <th>3</th>\n",
       "      <td>9/3/2023 10:00</td>\n",
       "      <td>User_4</td>\n",
       "      <td>Emergency_Service</td>\n",
       "      <td>-70 dBm</td>\n",
       "      <td>10 ms</td>\n",
       "      <td>1 Mbps</td>\n",
       "      <td>1.5 Mbps</td>\n",
       "      <td>90%</td>\n",
       "    </tr>\n",
       "    <tr>\n",
       "      <th>4</th>\n",
       "      <td>9/3/2023 10:00</td>\n",
       "      <td>User_5</td>\n",
       "      <td>Online_Gaming</td>\n",
       "      <td>-78 dBm</td>\n",
       "      <td>25 ms</td>\n",
       "      <td>2 Mbps</td>\n",
       "      <td>3 Mbps</td>\n",
       "      <td>85%</td>\n",
       "    </tr>\n",
       "  </tbody>\n",
       "</table>\n",
       "</div>"
      ],
      "text/plain": [
       "        Timestamp User_ID   Application_Type Signal_Strength Latency  \\\n",
       "0  9/3/2023 10:00  User_1         Video_Call         -75 dBm   30 ms   \n",
       "1  9/3/2023 10:00  User_2         Voice_Call         -80 dBm   20 ms   \n",
       "2  9/3/2023 10:00  User_3          Streaming         -85 dBm   40 ms   \n",
       "3  9/3/2023 10:00  User_4  Emergency_Service         -70 dBm   10 ms   \n",
       "4  9/3/2023 10:00  User_5      Online_Gaming         -78 dBm   25 ms   \n",
       "\n",
       "  Required_Bandwidth Allocated_Bandwidth Resource_Allocation  \n",
       "0            10 Mbps             15 Mbps                 70%  \n",
       "1           100 Kbps            120 Kbps                 80%  \n",
       "2             5 Mbps              6 Mbps                 75%  \n",
       "3             1 Mbps            1.5 Mbps                 90%  \n",
       "4             2 Mbps              3 Mbps                 85%  "
      ]
     },
     "execution_count": 37,
     "metadata": {},
     "output_type": "execute_result"
    }
   ],
   "source": [
    "data.head()"
   ]
  },
  {
   "cell_type": "code",
   "execution_count": 38,
   "id": "1f6bc420-7ec1-4a2c-ad77-0f52aa9a73d6",
   "metadata": {},
   "outputs": [
    {
     "data": {
      "text/html": [
       "<div>\n",
       "<style scoped>\n",
       "    .dataframe tbody tr th:only-of-type {\n",
       "        vertical-align: middle;\n",
       "    }\n",
       "\n",
       "    .dataframe tbody tr th {\n",
       "        vertical-align: top;\n",
       "    }\n",
       "\n",
       "    .dataframe thead th {\n",
       "        text-align: right;\n",
       "    }\n",
       "</style>\n",
       "<table border=\"1\" class=\"dataframe\">\n",
       "  <thead>\n",
       "    <tr style=\"text-align: right;\">\n",
       "      <th></th>\n",
       "      <th>Timestamp</th>\n",
       "      <th>User_ID</th>\n",
       "      <th>Application_Type</th>\n",
       "      <th>Signal_Strength</th>\n",
       "      <th>Latency</th>\n",
       "      <th>Required_Bandwidth</th>\n",
       "      <th>Allocated_Bandwidth</th>\n",
       "      <th>Resource_Allocation</th>\n",
       "    </tr>\n",
       "  </thead>\n",
       "  <tbody>\n",
       "    <tr>\n",
       "      <th>395</th>\n",
       "      <td>9/3/2023 10:06</td>\n",
       "      <td>User_396</td>\n",
       "      <td>Streaming</td>\n",
       "      <td>-110 dBm</td>\n",
       "      <td>61 ms</td>\n",
       "      <td>1.3 Mbps</td>\n",
       "      <td>1.8 Mbps</td>\n",
       "      <td>85%</td>\n",
       "    </tr>\n",
       "    <tr>\n",
       "      <th>396</th>\n",
       "      <td>9/3/2023 10:06</td>\n",
       "      <td>User_397</td>\n",
       "      <td>Video_Call</td>\n",
       "      <td>-40 dBm</td>\n",
       "      <td>53 ms</td>\n",
       "      <td>14.5 Mbps</td>\n",
       "      <td>15.8 Mbps</td>\n",
       "      <td>75%</td>\n",
       "    </tr>\n",
       "    <tr>\n",
       "      <th>397</th>\n",
       "      <td>9/3/2023 10:06</td>\n",
       "      <td>User_398</td>\n",
       "      <td>Video_Streaming</td>\n",
       "      <td>-113 dBm</td>\n",
       "      <td>58 ms</td>\n",
       "      <td>1.0 Mbps</td>\n",
       "      <td>1.4 Mbps</td>\n",
       "      <td>70%</td>\n",
       "    </tr>\n",
       "    <tr>\n",
       "      <th>398</th>\n",
       "      <td>9/3/2023 10:06</td>\n",
       "      <td>User_399</td>\n",
       "      <td>Emergency_Service</td>\n",
       "      <td>-40 dBm</td>\n",
       "      <td>5 ms</td>\n",
       "      <td>0.4 Mbps</td>\n",
       "      <td>0.4 Mbps</td>\n",
       "      <td>70%</td>\n",
       "    </tr>\n",
       "    <tr>\n",
       "      <th>399</th>\n",
       "      <td>9/3/2023 10:06</td>\n",
       "      <td>User_400</td>\n",
       "      <td>Web_Browsing</td>\n",
       "      <td>-113 dBm</td>\n",
       "      <td>0 ms</td>\n",
       "      <td>0.1 Mbps</td>\n",
       "      <td>0.1 Mbps</td>\n",
       "      <td>70%</td>\n",
       "    </tr>\n",
       "  </tbody>\n",
       "</table>\n",
       "</div>"
      ],
      "text/plain": [
       "          Timestamp   User_ID   Application_Type Signal_Strength Latency  \\\n",
       "395  9/3/2023 10:06  User_396          Streaming        -110 dBm   61 ms   \n",
       "396  9/3/2023 10:06  User_397         Video_Call         -40 dBm   53 ms   \n",
       "397  9/3/2023 10:06  User_398    Video_Streaming        -113 dBm   58 ms   \n",
       "398  9/3/2023 10:06  User_399  Emergency_Service         -40 dBm    5 ms   \n",
       "399  9/3/2023 10:06  User_400       Web_Browsing        -113 dBm    0 ms   \n",
       "\n",
       "    Required_Bandwidth Allocated_Bandwidth Resource_Allocation  \n",
       "395           1.3 Mbps            1.8 Mbps                 85%  \n",
       "396          14.5 Mbps           15.8 Mbps                 75%  \n",
       "397           1.0 Mbps            1.4 Mbps                 70%  \n",
       "398           0.4 Mbps            0.4 Mbps                 70%  \n",
       "399           0.1 Mbps            0.1 Mbps                 70%  "
      ]
     },
     "execution_count": 38,
     "metadata": {},
     "output_type": "execute_result"
    }
   ],
   "source": [
    "data.tail()"
   ]
  },
  {
   "cell_type": "code",
   "execution_count": 39,
   "id": "ac56333a-15da-44ee-9456-6ed78d5837b4",
   "metadata": {},
   "outputs": [
    {
     "data": {
      "text/html": [
       "<div>\n",
       "<style scoped>\n",
       "    .dataframe tbody tr th:only-of-type {\n",
       "        vertical-align: middle;\n",
       "    }\n",
       "\n",
       "    .dataframe tbody tr th {\n",
       "        vertical-align: top;\n",
       "    }\n",
       "\n",
       "    .dataframe thead th {\n",
       "        text-align: right;\n",
       "    }\n",
       "</style>\n",
       "<table border=\"1\" class=\"dataframe\">\n",
       "  <thead>\n",
       "    <tr style=\"text-align: right;\">\n",
       "      <th></th>\n",
       "      <th>count</th>\n",
       "      <th>unique</th>\n",
       "      <th>top</th>\n",
       "      <th>freq</th>\n",
       "    </tr>\n",
       "  </thead>\n",
       "  <tbody>\n",
       "    <tr>\n",
       "      <th>Timestamp</th>\n",
       "      <td>400</td>\n",
       "      <td>7</td>\n",
       "      <td>9/3/2023 10:01</td>\n",
       "      <td>60</td>\n",
       "    </tr>\n",
       "    <tr>\n",
       "      <th>User_ID</th>\n",
       "      <td>400</td>\n",
       "      <td>400</td>\n",
       "      <td>User_1</td>\n",
       "      <td>1</td>\n",
       "    </tr>\n",
       "    <tr>\n",
       "      <th>Application_Type</th>\n",
       "      <td>400</td>\n",
       "      <td>11</td>\n",
       "      <td>Video_Call</td>\n",
       "      <td>58</td>\n",
       "    </tr>\n",
       "    <tr>\n",
       "      <th>Signal_Strength</th>\n",
       "      <td>400</td>\n",
       "      <td>84</td>\n",
       "      <td>-97 dBm</td>\n",
       "      <td>9</td>\n",
       "    </tr>\n",
       "    <tr>\n",
       "      <th>Latency</th>\n",
       "      <td>400</td>\n",
       "      <td>87</td>\n",
       "      <td>5 ms</td>\n",
       "      <td>35</td>\n",
       "    </tr>\n",
       "    <tr>\n",
       "      <th>Required_Bandwidth</th>\n",
       "      <td>400</td>\n",
       "      <td>188</td>\n",
       "      <td>0.1 Mbps</td>\n",
       "      <td>16</td>\n",
       "    </tr>\n",
       "    <tr>\n",
       "      <th>Allocated_Bandwidth</th>\n",
       "      <td>400</td>\n",
       "      <td>194</td>\n",
       "      <td>0.1 Mbps</td>\n",
       "      <td>16</td>\n",
       "    </tr>\n",
       "    <tr>\n",
       "      <th>Resource_Allocation</th>\n",
       "      <td>400</td>\n",
       "      <td>9</td>\n",
       "      <td>70%</td>\n",
       "      <td>148</td>\n",
       "    </tr>\n",
       "  </tbody>\n",
       "</table>\n",
       "</div>"
      ],
      "text/plain": [
       "                    count unique             top freq\n",
       "Timestamp             400      7  9/3/2023 10:01   60\n",
       "User_ID               400    400          User_1    1\n",
       "Application_Type      400     11      Video_Call   58\n",
       "Signal_Strength       400     84         -97 dBm    9\n",
       "Latency               400     87            5 ms   35\n",
       "Required_Bandwidth    400    188        0.1 Mbps   16\n",
       "Allocated_Bandwidth   400    194        0.1 Mbps   16\n",
       "Resource_Allocation   400      9             70%  148"
      ]
     },
     "execution_count": 39,
     "metadata": {},
     "output_type": "execute_result"
    }
   ],
   "source": [
    "data.describe().T"
   ]
  },
  {
   "cell_type": "code",
   "execution_count": 40,
   "id": "0f712eb1-bf01-4f8b-83aa-0cc2e9e5ae65",
   "metadata": {},
   "outputs": [
    {
     "name": "stdout",
     "output_type": "stream",
     "text": [
      "<class 'pandas.core.frame.DataFrame'>\n",
      "RangeIndex: 400 entries, 0 to 399\n",
      "Data columns (total 8 columns):\n",
      " #   Column               Non-Null Count  Dtype \n",
      "---  ------               --------------  ----- \n",
      " 0   Timestamp            400 non-null    object\n",
      " 1   User_ID              400 non-null    object\n",
      " 2   Application_Type     400 non-null    object\n",
      " 3   Signal_Strength      400 non-null    object\n",
      " 4   Latency              400 non-null    object\n",
      " 5   Required_Bandwidth   400 non-null    object\n",
      " 6   Allocated_Bandwidth  400 non-null    object\n",
      " 7   Resource_Allocation  400 non-null    object\n",
      "dtypes: object(8)\n",
      "memory usage: 25.1+ KB\n"
     ]
    }
   ],
   "source": [
    "data.info()"
   ]
  },
  {
   "cell_type": "code",
   "execution_count": 41,
   "id": "0dd0ed6a-ec7b-4976-b125-8dbb68e7e43f",
   "metadata": {},
   "outputs": [
    {
     "data": {
      "text/plain": [
       "Timestamp              0\n",
       "User_ID                0\n",
       "Application_Type       0\n",
       "Signal_Strength        0\n",
       "Latency                0\n",
       "Required_Bandwidth     0\n",
       "Allocated_Bandwidth    0\n",
       "Resource_Allocation    0\n",
       "dtype: int64"
      ]
     },
     "execution_count": 41,
     "metadata": {},
     "output_type": "execute_result"
    }
   ],
   "source": [
    "data.isnull().sum()"
   ]
  },
  {
   "cell_type": "markdown",
   "id": "7690654c-3c4d-4d4f-bf7b-42526da6bc36",
   "metadata": {},
   "source": [
    "#### 1.1 Unique Values"
   ]
  },
  {
   "cell_type": "code",
   "execution_count": 42,
   "id": "e765d768-627d-4251-ad1f-729b9df3a92d",
   "metadata": {},
   "outputs": [
    {
     "data": {
      "text/plain": [
       "400"
      ]
     },
     "execution_count": 42,
     "metadata": {},
     "output_type": "execute_result"
    }
   ],
   "source": [
    "data['User_ID'].nunique()"
   ]
  },
  {
   "cell_type": "code",
   "execution_count": 43,
   "id": "2734a3ea-b5ec-452f-90d1-ae3d0d272572",
   "metadata": {},
   "outputs": [
    {
     "data": {
      "text/plain": [
       "array(['Video_Call', 'Voice_Call', 'Streaming', 'Emergency_Service',\n",
       "       'Online_Gaming', 'Background_Download', 'Web_Browsing',\n",
       "       'IoT_Temperature', 'Video_Streaming', 'File_Download', 'VoIP_Call'],\n",
       "      dtype=object)"
      ]
     },
     "execution_count": 43,
     "metadata": {},
     "output_type": "execute_result"
    }
   ],
   "source": [
    "data['Application_Type'].unique()"
   ]
  },
  {
   "cell_type": "code",
   "execution_count": 44,
   "id": "45477545-da1d-452b-9a50-1d9d796b3fd1",
   "metadata": {},
   "outputs": [
    {
     "data": {
      "text/plain": [
       "11"
      ]
     },
     "execution_count": 44,
     "metadata": {},
     "output_type": "execute_result"
    }
   ],
   "source": [
    "data['Application_Type'].nunique()"
   ]
  },
  {
   "cell_type": "code",
   "execution_count": 45,
   "id": "2f7c2588-3dc1-4677-a18d-844922a426e4",
   "metadata": {},
   "outputs": [
    {
     "data": {
      "text/plain": [
       "array(['-75 dBm', '-80 dBm', '-85 dBm', '-70 dBm', '-78 dBm', '-90 dBm',\n",
       "       '-88 dBm', '-95 dBm', '-82 dBm', '-76 dBm', '-79 dBm', '-87 dBm',\n",
       "       '-81 dBm', '-74 dBm', '-84 dBm', '-69 dBm', '-91 dBm', '-96 dBm',\n",
       "       '-83 dBm', '-77 dBm', '-86 dBm', '-73 dBm', '-68 dBm', '-92 dBm',\n",
       "       '-97 dBm', '-72 dBm', '-67 dBm', '-93 dBm', '-98 dBm', '-71 dBm',\n",
       "       '-66 dBm', '-94 dBm', '-99 dBm', '-89 dBm', '-65 dBm', '-100 dBm',\n",
       "       '-64 dBm', '-101 dBm', '-63 dBm', '-102 dBm', '-62 dBm',\n",
       "       '-103 dBm', '-61 dBm', '-104 dBm', '-60 dBm', '-59 dBm', '-58 dBm',\n",
       "       '-57 dBm', '-56 dBm', '-55 dBm', '-54 dBm', '-53 dBm', '-52 dBm',\n",
       "       '-51 dBm', '-105 dBm', '-50 dBm', '-106 dBm', '-107 dBm',\n",
       "       '-49 dBm', '-108 dBm', '-109 dBm', '-48 dBm', '-110 dBm',\n",
       "       '-111 dBm', '-47 dBm', '-112 dBm', '-113 dBm', '-46 dBm',\n",
       "       '-114 dBm', '-115 dBm', '-45 dBm', '-116 dBm', '-44 dBm',\n",
       "       '-117 dBm', '-118 dBm', '-43 dBm', '-119 dBm', '-42 dBm',\n",
       "       '-120 dBm', '-121 dBm', '-41 dBm', '-122 dBm', '-40 dBm',\n",
       "       '-123 dBm'], dtype=object)"
      ]
     },
     "execution_count": 45,
     "metadata": {},
     "output_type": "execute_result"
    }
   ],
   "source": [
    "data['Signal_Strength'].unique()"
   ]
  },
  {
   "cell_type": "code",
   "execution_count": 46,
   "id": "dafb76b7-72d6-4148-98f5-7cf6afcdce96",
   "metadata": {},
   "outputs": [
    {
     "data": {
      "text/plain": [
       "84"
      ]
     },
     "execution_count": 46,
     "metadata": {},
     "output_type": "execute_result"
    }
   ],
   "source": [
    "data['Signal_Strength'].nunique()"
   ]
  },
  {
   "cell_type": "code",
   "execution_count": 47,
   "id": "a489bc11-9470-436f-a0c8-6b15d627856b",
   "metadata": {},
   "outputs": [
    {
     "data": {
      "text/plain": [
       "array(['30 ms', '20 ms', '40 ms', '10 ms', '25 ms', '50 ms', '100 ms',\n",
       "       '35 ms', '45 ms', '32 ms', '24 ms', '28 ms', '22 ms', '29 ms',\n",
       "       '38 ms', '9 ms', '48 ms', '105 ms', '34 ms', '31 ms', '23 ms',\n",
       "       '21 ms', '37 ms', '8 ms', '47 ms', '110 ms', '33 ms', '27 ms',\n",
       "       '36 ms', '7 ms', '46 ms', '26 ms', '104 ms', '103 ms', '102 ms',\n",
       "       '19 ms', '6 ms', '44 ms', '101 ms', '18 ms', '43 ms', '17 ms',\n",
       "       '42 ms', '99 ms', '5 ms', '49 ms', '51 ms', '52 ms', '53 ms',\n",
       "       '54 ms', '55 ms', '56 ms', '39 ms', '16 ms', '57 ms', '15 ms',\n",
       "       '58 ms', '41 ms', '14 ms', '59 ms', '13 ms', '60 ms', '12 ms',\n",
       "       '61 ms', '11 ms', '62 ms', '63 ms', '64 ms', '65 ms', '66 ms',\n",
       "       '67 ms', '68 ms', '4 ms', '69 ms', '3 ms', '70 ms', '2 ms',\n",
       "       '71 ms', '1 ms', '72 ms', '0 ms', '73 ms', '74 ms', '75 ms',\n",
       "       '76 ms', '77 ms', '78 ms'], dtype=object)"
      ]
     },
     "execution_count": 47,
     "metadata": {},
     "output_type": "execute_result"
    }
   ],
   "source": [
    "data['Latency'].unique()"
   ]
  },
  {
   "cell_type": "markdown",
   "id": "294af871-38da-47cc-b91e-e350731e5eaf",
   "metadata": {},
   "source": [
    "#### 1.2 Data Cleaning Using Reguler Expression (Regex)"
   ]
  },
  {
   "cell_type": "code",
   "execution_count": 48,
   "id": "3eb572f2-722e-4c04-88a8-6ca18d6b9659",
   "metadata": {},
   "outputs": [
    {
     "data": {
      "text/html": [
       "<div>\n",
       "<style scoped>\n",
       "    .dataframe tbody tr th:only-of-type {\n",
       "        vertical-align: middle;\n",
       "    }\n",
       "\n",
       "    .dataframe tbody tr th {\n",
       "        vertical-align: top;\n",
       "    }\n",
       "\n",
       "    .dataframe thead th {\n",
       "        text-align: right;\n",
       "    }\n",
       "</style>\n",
       "<table border=\"1\" class=\"dataframe\">\n",
       "  <thead>\n",
       "    <tr style=\"text-align: right;\">\n",
       "      <th></th>\n",
       "      <th>Timestamp</th>\n",
       "      <th>User_ID</th>\n",
       "      <th>Application_Type</th>\n",
       "      <th>Signal_Strength</th>\n",
       "      <th>Latency</th>\n",
       "      <th>Required_Bandwidth</th>\n",
       "      <th>Allocated_Bandwidth</th>\n",
       "      <th>Resource_Allocation</th>\n",
       "    </tr>\n",
       "  </thead>\n",
       "  <tbody>\n",
       "    <tr>\n",
       "      <th>0</th>\n",
       "      <td>9/3/2023 10:00</td>\n",
       "      <td>User_1</td>\n",
       "      <td>Video_Call</td>\n",
       "      <td>75</td>\n",
       "      <td>30</td>\n",
       "      <td>10 Mbps</td>\n",
       "      <td>15 Mbps</td>\n",
       "      <td>70</td>\n",
       "    </tr>\n",
       "    <tr>\n",
       "      <th>1</th>\n",
       "      <td>9/3/2023 10:00</td>\n",
       "      <td>User_2</td>\n",
       "      <td>Voice_Call</td>\n",
       "      <td>80</td>\n",
       "      <td>20</td>\n",
       "      <td>100 Kbps</td>\n",
       "      <td>120 Kbps</td>\n",
       "      <td>80</td>\n",
       "    </tr>\n",
       "    <tr>\n",
       "      <th>2</th>\n",
       "      <td>9/3/2023 10:00</td>\n",
       "      <td>User_3</td>\n",
       "      <td>Streaming</td>\n",
       "      <td>85</td>\n",
       "      <td>40</td>\n",
       "      <td>5 Mbps</td>\n",
       "      <td>6 Mbps</td>\n",
       "      <td>75</td>\n",
       "    </tr>\n",
       "    <tr>\n",
       "      <th>3</th>\n",
       "      <td>9/3/2023 10:00</td>\n",
       "      <td>User_4</td>\n",
       "      <td>Emergency_Service</td>\n",
       "      <td>70</td>\n",
       "      <td>10</td>\n",
       "      <td>1 Mbps</td>\n",
       "      <td>1.5 Mbps</td>\n",
       "      <td>90</td>\n",
       "    </tr>\n",
       "    <tr>\n",
       "      <th>4</th>\n",
       "      <td>9/3/2023 10:00</td>\n",
       "      <td>User_5</td>\n",
       "      <td>Online_Gaming</td>\n",
       "      <td>78</td>\n",
       "      <td>25</td>\n",
       "      <td>2 Mbps</td>\n",
       "      <td>3 Mbps</td>\n",
       "      <td>85</td>\n",
       "    </tr>\n",
       "  </tbody>\n",
       "</table>\n",
       "</div>"
      ],
      "text/plain": [
       "        Timestamp User_ID   Application_Type  Signal_Strength  Latency  \\\n",
       "0  9/3/2023 10:00  User_1         Video_Call               75       30   \n",
       "1  9/3/2023 10:00  User_2         Voice_Call               80       20   \n",
       "2  9/3/2023 10:00  User_3          Streaming               85       40   \n",
       "3  9/3/2023 10:00  User_4  Emergency_Service               70       10   \n",
       "4  9/3/2023 10:00  User_5      Online_Gaming               78       25   \n",
       "\n",
       "  Required_Bandwidth Allocated_Bandwidth  Resource_Allocation  \n",
       "0            10 Mbps             15 Mbps                   70  \n",
       "1           100 Kbps            120 Kbps                   80  \n",
       "2             5 Mbps              6 Mbps                   75  \n",
       "3             1 Mbps            1.5 Mbps                   90  \n",
       "4             2 Mbps              3 Mbps                   85  "
      ]
     },
     "execution_count": 48,
     "metadata": {},
     "output_type": "execute_result"
    }
   ],
   "source": [
    "data['Signal_Strength'] = data['Signal_Strength'].str.extract('(\\d+)').astype(int)\n",
    "data['Latency'] = data['Latency'].str.extract('(\\d+)').astype(int)\n",
    "data['Resource_Allocation'] = data['Resource_Allocation'].str.extract('(\\d+)').astype(int)\n",
    "data.head()"
   ]
  },
  {
   "cell_type": "code",
   "execution_count": 49,
   "id": "1fa656ab-d2df-445c-89ea-59d82d50eda8",
   "metadata": {},
   "outputs": [
    {
     "data": {
      "text/html": [
       "<div>\n",
       "<style scoped>\n",
       "    .dataframe tbody tr th:only-of-type {\n",
       "        vertical-align: middle;\n",
       "    }\n",
       "\n",
       "    .dataframe tbody tr th {\n",
       "        vertical-align: top;\n",
       "    }\n",
       "\n",
       "    .dataframe thead th {\n",
       "        text-align: right;\n",
       "    }\n",
       "</style>\n",
       "<table border=\"1\" class=\"dataframe\">\n",
       "  <thead>\n",
       "    <tr style=\"text-align: right;\">\n",
       "      <th></th>\n",
       "      <th>Timestamp</th>\n",
       "      <th>User_ID</th>\n",
       "      <th>Application_Type</th>\n",
       "      <th>Signal_Strength</th>\n",
       "      <th>Latency</th>\n",
       "      <th>Required_Bandwidth</th>\n",
       "      <th>Allocated_Bandwidth</th>\n",
       "      <th>Resource_Allocation</th>\n",
       "      <th>Size</th>\n",
       "      <th>Unit</th>\n",
       "    </tr>\n",
       "  </thead>\n",
       "  <tbody>\n",
       "    <tr>\n",
       "      <th>0</th>\n",
       "      <td>9/3/2023 10:00</td>\n",
       "      <td>User_1</td>\n",
       "      <td>Video_Call</td>\n",
       "      <td>75</td>\n",
       "      <td>30</td>\n",
       "      <td>10 Mbps</td>\n",
       "      <td>15 Mbps</td>\n",
       "      <td>70</td>\n",
       "      <td>10.0</td>\n",
       "      <td>1024</td>\n",
       "    </tr>\n",
       "    <tr>\n",
       "      <th>1</th>\n",
       "      <td>9/3/2023 10:00</td>\n",
       "      <td>User_2</td>\n",
       "      <td>Voice_Call</td>\n",
       "      <td>80</td>\n",
       "      <td>20</td>\n",
       "      <td>100 Kbps</td>\n",
       "      <td>120 Kbps</td>\n",
       "      <td>80</td>\n",
       "      <td>100.0</td>\n",
       "      <td>1</td>\n",
       "    </tr>\n",
       "    <tr>\n",
       "      <th>2</th>\n",
       "      <td>9/3/2023 10:00</td>\n",
       "      <td>User_3</td>\n",
       "      <td>Streaming</td>\n",
       "      <td>85</td>\n",
       "      <td>40</td>\n",
       "      <td>5 Mbps</td>\n",
       "      <td>6 Mbps</td>\n",
       "      <td>75</td>\n",
       "      <td>5.0</td>\n",
       "      <td>1024</td>\n",
       "    </tr>\n",
       "    <tr>\n",
       "      <th>3</th>\n",
       "      <td>9/3/2023 10:00</td>\n",
       "      <td>User_4</td>\n",
       "      <td>Emergency_Service</td>\n",
       "      <td>70</td>\n",
       "      <td>10</td>\n",
       "      <td>1 Mbps</td>\n",
       "      <td>1.5 Mbps</td>\n",
       "      <td>90</td>\n",
       "      <td>1.0</td>\n",
       "      <td>1024</td>\n",
       "    </tr>\n",
       "    <tr>\n",
       "      <th>4</th>\n",
       "      <td>9/3/2023 10:00</td>\n",
       "      <td>User_5</td>\n",
       "      <td>Online_Gaming</td>\n",
       "      <td>78</td>\n",
       "      <td>25</td>\n",
       "      <td>2 Mbps</td>\n",
       "      <td>3 Mbps</td>\n",
       "      <td>85</td>\n",
       "      <td>2.0</td>\n",
       "      <td>1024</td>\n",
       "    </tr>\n",
       "  </tbody>\n",
       "</table>\n",
       "</div>"
      ],
      "text/plain": [
       "        Timestamp User_ID   Application_Type  Signal_Strength  Latency  \\\n",
       "0  9/3/2023 10:00  User_1         Video_Call               75       30   \n",
       "1  9/3/2023 10:00  User_2         Voice_Call               80       20   \n",
       "2  9/3/2023 10:00  User_3          Streaming               85       40   \n",
       "3  9/3/2023 10:00  User_4  Emergency_Service               70       10   \n",
       "4  9/3/2023 10:00  User_5      Online_Gaming               78       25   \n",
       "\n",
       "  Required_Bandwidth Allocated_Bandwidth  Resource_Allocation   Size  Unit  \n",
       "0            10 Mbps             15 Mbps                   70   10.0  1024  \n",
       "1           100 Kbps            120 Kbps                   80  100.0     1  \n",
       "2             5 Mbps              6 Mbps                   75    5.0  1024  \n",
       "3             1 Mbps            1.5 Mbps                   90    1.0  1024  \n",
       "4             2 Mbps              3 Mbps                   85    2.0  1024  "
      ]
     },
     "execution_count": 49,
     "metadata": {},
     "output_type": "execute_result"
    }
   ],
   "source": [
    "# Converting Required_Bandwidth Unit from Mbps to Kbps\n",
    "# Create two columns from required bandwidth\n",
    "\n",
    "data[['Size','Unit']] = data.Required_Bandwidth.str.split(' ', expand=True)\n",
    "data['Size'] = data.Size.astype(float)\n",
    "data.Unit.replace({'Mbps':1024, 'Kbps':1}, inplace=True)\n",
    "data.head()\n"
   ]
  },
  {
   "cell_type": "code",
   "execution_count": 50,
   "id": "0d88ba27-5509-425e-a52b-0b135e91e9d9",
   "metadata": {},
   "outputs": [
    {
     "data": {
      "text/html": [
       "<div>\n",
       "<style scoped>\n",
       "    .dataframe tbody tr th:only-of-type {\n",
       "        vertical-align: middle;\n",
       "    }\n",
       "\n",
       "    .dataframe tbody tr th {\n",
       "        vertical-align: top;\n",
       "    }\n",
       "\n",
       "    .dataframe thead th {\n",
       "        text-align: right;\n",
       "    }\n",
       "</style>\n",
       "<table border=\"1\" class=\"dataframe\">\n",
       "  <thead>\n",
       "    <tr style=\"text-align: right;\">\n",
       "      <th></th>\n",
       "      <th>Timestamp</th>\n",
       "      <th>User_ID</th>\n",
       "      <th>Application_Type</th>\n",
       "      <th>Signal_Strength</th>\n",
       "      <th>Latency</th>\n",
       "      <th>Required_Bandwidth</th>\n",
       "      <th>Allocated_Bandwidth</th>\n",
       "      <th>Resource_Allocation</th>\n",
       "      <th>Size</th>\n",
       "      <th>Unit</th>\n",
       "      <th>Required_Bandwidth_Size_in_KB</th>\n",
       "    </tr>\n",
       "  </thead>\n",
       "  <tbody>\n",
       "    <tr>\n",
       "      <th>0</th>\n",
       "      <td>9/3/2023 10:00</td>\n",
       "      <td>User_1</td>\n",
       "      <td>Video_Call</td>\n",
       "      <td>75</td>\n",
       "      <td>30</td>\n",
       "      <td>10 Mbps</td>\n",
       "      <td>15 Mbps</td>\n",
       "      <td>70</td>\n",
       "      <td>10.0</td>\n",
       "      <td>1024</td>\n",
       "      <td>10240.0</td>\n",
       "    </tr>\n",
       "    <tr>\n",
       "      <th>1</th>\n",
       "      <td>9/3/2023 10:00</td>\n",
       "      <td>User_2</td>\n",
       "      <td>Voice_Call</td>\n",
       "      <td>80</td>\n",
       "      <td>20</td>\n",
       "      <td>100 Kbps</td>\n",
       "      <td>120 Kbps</td>\n",
       "      <td>80</td>\n",
       "      <td>100.0</td>\n",
       "      <td>1</td>\n",
       "      <td>100.0</td>\n",
       "    </tr>\n",
       "    <tr>\n",
       "      <th>2</th>\n",
       "      <td>9/3/2023 10:00</td>\n",
       "      <td>User_3</td>\n",
       "      <td>Streaming</td>\n",
       "      <td>85</td>\n",
       "      <td>40</td>\n",
       "      <td>5 Mbps</td>\n",
       "      <td>6 Mbps</td>\n",
       "      <td>75</td>\n",
       "      <td>5.0</td>\n",
       "      <td>1024</td>\n",
       "      <td>5120.0</td>\n",
       "    </tr>\n",
       "    <tr>\n",
       "      <th>3</th>\n",
       "      <td>9/3/2023 10:00</td>\n",
       "      <td>User_4</td>\n",
       "      <td>Emergency_Service</td>\n",
       "      <td>70</td>\n",
       "      <td>10</td>\n",
       "      <td>1 Mbps</td>\n",
       "      <td>1.5 Mbps</td>\n",
       "      <td>90</td>\n",
       "      <td>1.0</td>\n",
       "      <td>1024</td>\n",
       "      <td>1024.0</td>\n",
       "    </tr>\n",
       "    <tr>\n",
       "      <th>4</th>\n",
       "      <td>9/3/2023 10:00</td>\n",
       "      <td>User_5</td>\n",
       "      <td>Online_Gaming</td>\n",
       "      <td>78</td>\n",
       "      <td>25</td>\n",
       "      <td>2 Mbps</td>\n",
       "      <td>3 Mbps</td>\n",
       "      <td>85</td>\n",
       "      <td>2.0</td>\n",
       "      <td>1024</td>\n",
       "      <td>2048.0</td>\n",
       "    </tr>\n",
       "  </tbody>\n",
       "</table>\n",
       "</div>"
      ],
      "text/plain": [
       "        Timestamp User_ID   Application_Type  Signal_Strength  Latency  \\\n",
       "0  9/3/2023 10:00  User_1         Video_Call               75       30   \n",
       "1  9/3/2023 10:00  User_2         Voice_Call               80       20   \n",
       "2  9/3/2023 10:00  User_3          Streaming               85       40   \n",
       "3  9/3/2023 10:00  User_4  Emergency_Service               70       10   \n",
       "4  9/3/2023 10:00  User_5      Online_Gaming               78       25   \n",
       "\n",
       "  Required_Bandwidth Allocated_Bandwidth  Resource_Allocation   Size  Unit  \\\n",
       "0            10 Mbps             15 Mbps                   70   10.0  1024   \n",
       "1           100 Kbps            120 Kbps                   80  100.0     1   \n",
       "2             5 Mbps              6 Mbps                   75    5.0  1024   \n",
       "3             1 Mbps            1.5 Mbps                   90    1.0  1024   \n",
       "4             2 Mbps              3 Mbps                   85    2.0  1024   \n",
       "\n",
       "   Required_Bandwidth_Size_in_KB  \n",
       "0                        10240.0  \n",
       "1                          100.0  \n",
       "2                         5120.0  \n",
       "3                         1024.0  \n",
       "4                         2048.0  "
      ]
     },
     "execution_count": 50,
     "metadata": {},
     "output_type": "execute_result"
    }
   ],
   "source": [
    "# Converting Required_Bandwidth Unit from Mbos to Kbps\n",
    "\n",
    "data['Required_Bandwidth_Size_in_KB'] = data.Size * data.Unit\n",
    "data.head()"
   ]
  },
  {
   "cell_type": "code",
   "execution_count": 51,
   "id": "5df5cd09-1328-4cb1-8951-255e217de8c4",
   "metadata": {},
   "outputs": [
    {
     "data": {
      "text/html": [
       "<div>\n",
       "<style scoped>\n",
       "    .dataframe tbody tr th:only-of-type {\n",
       "        vertical-align: middle;\n",
       "    }\n",
       "\n",
       "    .dataframe tbody tr th {\n",
       "        vertical-align: top;\n",
       "    }\n",
       "\n",
       "    .dataframe thead th {\n",
       "        text-align: right;\n",
       "    }\n",
       "</style>\n",
       "<table border=\"1\" class=\"dataframe\">\n",
       "  <thead>\n",
       "    <tr style=\"text-align: right;\">\n",
       "      <th></th>\n",
       "      <th>Timestamp</th>\n",
       "      <th>User_ID</th>\n",
       "      <th>Application_Type</th>\n",
       "      <th>Signal_Strength</th>\n",
       "      <th>Latency</th>\n",
       "      <th>Required_Bandwidth</th>\n",
       "      <th>Allocated_Bandwidth</th>\n",
       "      <th>Resource_Allocation</th>\n",
       "      <th>Required_Bandwidth_Size_in_KB</th>\n",
       "    </tr>\n",
       "  </thead>\n",
       "  <tbody>\n",
       "    <tr>\n",
       "      <th>0</th>\n",
       "      <td>9/3/2023 10:00</td>\n",
       "      <td>User_1</td>\n",
       "      <td>Video_Call</td>\n",
       "      <td>75</td>\n",
       "      <td>30</td>\n",
       "      <td>10 Mbps</td>\n",
       "      <td>15 Mbps</td>\n",
       "      <td>70</td>\n",
       "      <td>10240.0</td>\n",
       "    </tr>\n",
       "    <tr>\n",
       "      <th>1</th>\n",
       "      <td>9/3/2023 10:00</td>\n",
       "      <td>User_2</td>\n",
       "      <td>Voice_Call</td>\n",
       "      <td>80</td>\n",
       "      <td>20</td>\n",
       "      <td>100 Kbps</td>\n",
       "      <td>120 Kbps</td>\n",
       "      <td>80</td>\n",
       "      <td>100.0</td>\n",
       "    </tr>\n",
       "    <tr>\n",
       "      <th>2</th>\n",
       "      <td>9/3/2023 10:00</td>\n",
       "      <td>User_3</td>\n",
       "      <td>Streaming</td>\n",
       "      <td>85</td>\n",
       "      <td>40</td>\n",
       "      <td>5 Mbps</td>\n",
       "      <td>6 Mbps</td>\n",
       "      <td>75</td>\n",
       "      <td>5120.0</td>\n",
       "    </tr>\n",
       "    <tr>\n",
       "      <th>3</th>\n",
       "      <td>9/3/2023 10:00</td>\n",
       "      <td>User_4</td>\n",
       "      <td>Emergency_Service</td>\n",
       "      <td>70</td>\n",
       "      <td>10</td>\n",
       "      <td>1 Mbps</td>\n",
       "      <td>1.5 Mbps</td>\n",
       "      <td>90</td>\n",
       "      <td>1024.0</td>\n",
       "    </tr>\n",
       "    <tr>\n",
       "      <th>4</th>\n",
       "      <td>9/3/2023 10:00</td>\n",
       "      <td>User_5</td>\n",
       "      <td>Online_Gaming</td>\n",
       "      <td>78</td>\n",
       "      <td>25</td>\n",
       "      <td>2 Mbps</td>\n",
       "      <td>3 Mbps</td>\n",
       "      <td>85</td>\n",
       "      <td>2048.0</td>\n",
       "    </tr>\n",
       "  </tbody>\n",
       "</table>\n",
       "</div>"
      ],
      "text/plain": [
       "        Timestamp User_ID   Application_Type  Signal_Strength  Latency  \\\n",
       "0  9/3/2023 10:00  User_1         Video_Call               75       30   \n",
       "1  9/3/2023 10:00  User_2         Voice_Call               80       20   \n",
       "2  9/3/2023 10:00  User_3          Streaming               85       40   \n",
       "3  9/3/2023 10:00  User_4  Emergency_Service               70       10   \n",
       "4  9/3/2023 10:00  User_5      Online_Gaming               78       25   \n",
       "\n",
       "  Required_Bandwidth Allocated_Bandwidth  Resource_Allocation  \\\n",
       "0            10 Mbps             15 Mbps                   70   \n",
       "1           100 Kbps            120 Kbps                   80   \n",
       "2             5 Mbps              6 Mbps                   75   \n",
       "3             1 Mbps            1.5 Mbps                   90   \n",
       "4             2 Mbps              3 Mbps                   85   \n",
       "\n",
       "   Required_Bandwidth_Size_in_KB  \n",
       "0                        10240.0  \n",
       "1                          100.0  \n",
       "2                         5120.0  \n",
       "3                         1024.0  \n",
       "4                         2048.0  "
      ]
     },
     "execution_count": 51,
     "metadata": {},
     "output_type": "execute_result"
    }
   ],
   "source": [
    "data.drop(columns='Size',inplace=True)\n",
    "data.drop(columns='Unit',inplace=True)\n",
    "data.head()"
   ]
  },
  {
   "cell_type": "code",
   "execution_count": 52,
   "id": "f666bb34-e540-4a37-90dd-29880ae81cac",
   "metadata": {},
   "outputs": [
    {
     "data": {
      "text/html": [
       "<div>\n",
       "<style scoped>\n",
       "    .dataframe tbody tr th:only-of-type {\n",
       "        vertical-align: middle;\n",
       "    }\n",
       "\n",
       "    .dataframe tbody tr th {\n",
       "        vertical-align: top;\n",
       "    }\n",
       "\n",
       "    .dataframe thead th {\n",
       "        text-align: right;\n",
       "    }\n",
       "</style>\n",
       "<table border=\"1\" class=\"dataframe\">\n",
       "  <thead>\n",
       "    <tr style=\"text-align: right;\">\n",
       "      <th></th>\n",
       "      <th>Timestamp</th>\n",
       "      <th>User_ID</th>\n",
       "      <th>Application_Type</th>\n",
       "      <th>Signal_Strength</th>\n",
       "      <th>Latency</th>\n",
       "      <th>Required_Bandwidth</th>\n",
       "      <th>Allocated_Bandwidth</th>\n",
       "      <th>Resource_Allocation</th>\n",
       "      <th>Required_Bandwidth_Size_in_KB</th>\n",
       "      <th>Allocated_Bandwidth_Size_in_KB</th>\n",
       "    </tr>\n",
       "  </thead>\n",
       "  <tbody>\n",
       "    <tr>\n",
       "      <th>0</th>\n",
       "      <td>9/3/2023 10:00</td>\n",
       "      <td>User_1</td>\n",
       "      <td>Video_Call</td>\n",
       "      <td>75</td>\n",
       "      <td>30</td>\n",
       "      <td>10 Mbps</td>\n",
       "      <td>15 Mbps</td>\n",
       "      <td>70</td>\n",
       "      <td>10240.0</td>\n",
       "      <td>15360.0</td>\n",
       "    </tr>\n",
       "    <tr>\n",
       "      <th>1</th>\n",
       "      <td>9/3/2023 10:00</td>\n",
       "      <td>User_2</td>\n",
       "      <td>Voice_Call</td>\n",
       "      <td>80</td>\n",
       "      <td>20</td>\n",
       "      <td>100 Kbps</td>\n",
       "      <td>120 Kbps</td>\n",
       "      <td>80</td>\n",
       "      <td>100.0</td>\n",
       "      <td>120.0</td>\n",
       "    </tr>\n",
       "  </tbody>\n",
       "</table>\n",
       "</div>"
      ],
      "text/plain": [
       "        Timestamp User_ID Application_Type  Signal_Strength  Latency  \\\n",
       "0  9/3/2023 10:00  User_1       Video_Call               75       30   \n",
       "1  9/3/2023 10:00  User_2       Voice_Call               80       20   \n",
       "\n",
       "  Required_Bandwidth Allocated_Bandwidth  Resource_Allocation  \\\n",
       "0            10 Mbps             15 Mbps                   70   \n",
       "1           100 Kbps            120 Kbps                   80   \n",
       "\n",
       "   Required_Bandwidth_Size_in_KB  Allocated_Bandwidth_Size_in_KB  \n",
       "0                        10240.0                         15360.0  \n",
       "1                          100.0                           120.0  "
      ]
     },
     "execution_count": 52,
     "metadata": {},
     "output_type": "execute_result"
    }
   ],
   "source": [
    "# Converting Allocated_Bandwidth Unit from Mbps to Kbps\n",
    "\n",
    "data[['Size1','Unit1']] = data.Allocated_Bandwidth.str.split(' ', expand=True)\n",
    "data['Size1'] = data.Size1.astype(float)\n",
    "data.Unit1.replace({'Mbps':1024, 'Kbps':1}, inplace=True)\n",
    "data['Allocated_Bandwidth_Size_in_KB'] = data.Size1 * data.Unit1\n",
    "data.drop(columns='Size1',inplace=True)\n",
    "data.drop(columns='Unit1',inplace=True)\n",
    "data.head(2)"
   ]
  },
  {
   "cell_type": "code",
   "execution_count": 53,
   "id": "965ba593-9412-4439-824a-2483525f5e91",
   "metadata": {},
   "outputs": [
    {
     "data": {
      "text/html": [
       "<div>\n",
       "<style scoped>\n",
       "    .dataframe tbody tr th:only-of-type {\n",
       "        vertical-align: middle;\n",
       "    }\n",
       "\n",
       "    .dataframe tbody tr th {\n",
       "        vertical-align: top;\n",
       "    }\n",
       "\n",
       "    .dataframe thead th {\n",
       "        text-align: right;\n",
       "    }\n",
       "</style>\n",
       "<table border=\"1\" class=\"dataframe\">\n",
       "  <thead>\n",
       "    <tr style=\"text-align: right;\">\n",
       "      <th></th>\n",
       "      <th>Timestamp</th>\n",
       "      <th>User_ID</th>\n",
       "      <th>Application_Type</th>\n",
       "      <th>Signal_Strength</th>\n",
       "      <th>Latency</th>\n",
       "      <th>Resource_Allocation</th>\n",
       "      <th>Required_Bandwidth_Size_in_KB</th>\n",
       "      <th>Allocated_Bandwidth_Size_in_KB</th>\n",
       "    </tr>\n",
       "  </thead>\n",
       "  <tbody>\n",
       "    <tr>\n",
       "      <th>0</th>\n",
       "      <td>9/3/2023 10:00</td>\n",
       "      <td>User_1</td>\n",
       "      <td>Video_Call</td>\n",
       "      <td>75</td>\n",
       "      <td>30</td>\n",
       "      <td>70</td>\n",
       "      <td>10240.0</td>\n",
       "      <td>15360.0</td>\n",
       "    </tr>\n",
       "    <tr>\n",
       "      <th>1</th>\n",
       "      <td>9/3/2023 10:00</td>\n",
       "      <td>User_2</td>\n",
       "      <td>Voice_Call</td>\n",
       "      <td>80</td>\n",
       "      <td>20</td>\n",
       "      <td>80</td>\n",
       "      <td>100.0</td>\n",
       "      <td>120.0</td>\n",
       "    </tr>\n",
       "    <tr>\n",
       "      <th>2</th>\n",
       "      <td>9/3/2023 10:00</td>\n",
       "      <td>User_3</td>\n",
       "      <td>Streaming</td>\n",
       "      <td>85</td>\n",
       "      <td>40</td>\n",
       "      <td>75</td>\n",
       "      <td>5120.0</td>\n",
       "      <td>6144.0</td>\n",
       "    </tr>\n",
       "    <tr>\n",
       "      <th>3</th>\n",
       "      <td>9/3/2023 10:00</td>\n",
       "      <td>User_4</td>\n",
       "      <td>Emergency_Service</td>\n",
       "      <td>70</td>\n",
       "      <td>10</td>\n",
       "      <td>90</td>\n",
       "      <td>1024.0</td>\n",
       "      <td>1536.0</td>\n",
       "    </tr>\n",
       "    <tr>\n",
       "      <th>4</th>\n",
       "      <td>9/3/2023 10:00</td>\n",
       "      <td>User_5</td>\n",
       "      <td>Online_Gaming</td>\n",
       "      <td>78</td>\n",
       "      <td>25</td>\n",
       "      <td>85</td>\n",
       "      <td>2048.0</td>\n",
       "      <td>3072.0</td>\n",
       "    </tr>\n",
       "  </tbody>\n",
       "</table>\n",
       "</div>"
      ],
      "text/plain": [
       "        Timestamp User_ID   Application_Type  Signal_Strength  Latency  \\\n",
       "0  9/3/2023 10:00  User_1         Video_Call               75       30   \n",
       "1  9/3/2023 10:00  User_2         Voice_Call               80       20   \n",
       "2  9/3/2023 10:00  User_3          Streaming               85       40   \n",
       "3  9/3/2023 10:00  User_4  Emergency_Service               70       10   \n",
       "4  9/3/2023 10:00  User_5      Online_Gaming               78       25   \n",
       "\n",
       "   Resource_Allocation  Required_Bandwidth_Size_in_KB  \\\n",
       "0                   70                        10240.0   \n",
       "1                   80                          100.0   \n",
       "2                   75                         5120.0   \n",
       "3                   90                         1024.0   \n",
       "4                   85                         2048.0   \n",
       "\n",
       "   Allocated_Bandwidth_Size_in_KB  \n",
       "0                         15360.0  \n",
       "1                           120.0  \n",
       "2                          6144.0  \n",
       "3                          1536.0  \n",
       "4                          3072.0  "
      ]
     },
     "execution_count": 53,
     "metadata": {},
     "output_type": "execute_result"
    }
   ],
   "source": [
    "data.drop(columns='Allocated_Bandwidth',inplace=True)\n",
    "data.drop(columns='Required_Bandwidth',inplace=True)\n",
    "data.head()"
   ]
  },
  {
   "cell_type": "code",
   "execution_count": 54,
   "id": "6e74160a-2886-4579-8101-038a6e918580",
   "metadata": {},
   "outputs": [
    {
     "data": {
      "text/html": [
       "<div>\n",
       "<style scoped>\n",
       "    .dataframe tbody tr th:only-of-type {\n",
       "        vertical-align: middle;\n",
       "    }\n",
       "\n",
       "    .dataframe tbody tr th {\n",
       "        vertical-align: top;\n",
       "    }\n",
       "\n",
       "    .dataframe thead th {\n",
       "        text-align: right;\n",
       "    }\n",
       "</style>\n",
       "<table border=\"1\" class=\"dataframe\">\n",
       "  <thead>\n",
       "    <tr style=\"text-align: right;\">\n",
       "      <th></th>\n",
       "      <th>Timestamp</th>\n",
       "      <th>User_ID</th>\n",
       "      <th>Application_Type</th>\n",
       "      <th>Signal_Strength</th>\n",
       "      <th>Latency</th>\n",
       "      <th>Resource_Allocation</th>\n",
       "      <th>Required_Bandwidth</th>\n",
       "      <th>Allocated_Bandwidth</th>\n",
       "    </tr>\n",
       "  </thead>\n",
       "  <tbody>\n",
       "    <tr>\n",
       "      <th>0</th>\n",
       "      <td>9/3/2023 10:00</td>\n",
       "      <td>User_1</td>\n",
       "      <td>Video_Call</td>\n",
       "      <td>75</td>\n",
       "      <td>30</td>\n",
       "      <td>70</td>\n",
       "      <td>10240.0</td>\n",
       "      <td>15360.0</td>\n",
       "    </tr>\n",
       "    <tr>\n",
       "      <th>1</th>\n",
       "      <td>9/3/2023 10:00</td>\n",
       "      <td>User_2</td>\n",
       "      <td>Voice_Call</td>\n",
       "      <td>80</td>\n",
       "      <td>20</td>\n",
       "      <td>80</td>\n",
       "      <td>100.0</td>\n",
       "      <td>120.0</td>\n",
       "    </tr>\n",
       "    <tr>\n",
       "      <th>2</th>\n",
       "      <td>9/3/2023 10:00</td>\n",
       "      <td>User_3</td>\n",
       "      <td>Streaming</td>\n",
       "      <td>85</td>\n",
       "      <td>40</td>\n",
       "      <td>75</td>\n",
       "      <td>5120.0</td>\n",
       "      <td>6144.0</td>\n",
       "    </tr>\n",
       "    <tr>\n",
       "      <th>3</th>\n",
       "      <td>9/3/2023 10:00</td>\n",
       "      <td>User_4</td>\n",
       "      <td>Emergency_Service</td>\n",
       "      <td>70</td>\n",
       "      <td>10</td>\n",
       "      <td>90</td>\n",
       "      <td>1024.0</td>\n",
       "      <td>1536.0</td>\n",
       "    </tr>\n",
       "    <tr>\n",
       "      <th>4</th>\n",
       "      <td>9/3/2023 10:00</td>\n",
       "      <td>User_5</td>\n",
       "      <td>Online_Gaming</td>\n",
       "      <td>78</td>\n",
       "      <td>25</td>\n",
       "      <td>85</td>\n",
       "      <td>2048.0</td>\n",
       "      <td>3072.0</td>\n",
       "    </tr>\n",
       "  </tbody>\n",
       "</table>\n",
       "</div>"
      ],
      "text/plain": [
       "        Timestamp User_ID   Application_Type  Signal_Strength  Latency  \\\n",
       "0  9/3/2023 10:00  User_1         Video_Call               75       30   \n",
       "1  9/3/2023 10:00  User_2         Voice_Call               80       20   \n",
       "2  9/3/2023 10:00  User_3          Streaming               85       40   \n",
       "3  9/3/2023 10:00  User_4  Emergency_Service               70       10   \n",
       "4  9/3/2023 10:00  User_5      Online_Gaming               78       25   \n",
       "\n",
       "   Resource_Allocation  Required_Bandwidth  Allocated_Bandwidth  \n",
       "0                   70             10240.0              15360.0  \n",
       "1                   80               100.0                120.0  \n",
       "2                   75              5120.0               6144.0  \n",
       "3                   90              1024.0               1536.0  \n",
       "4                   85              2048.0               3072.0  "
      ]
     },
     "execution_count": 54,
     "metadata": {},
     "output_type": "execute_result"
    }
   ],
   "source": [
    "# Renaming the columns:\n",
    "\n",
    "data.rename(columns = {'Required_Bandwidth_Size_in_KB':'Required_Bandwidth'},inplace=True)\n",
    "data.rename(columns = {'Allocated_Bandwidth_Size_in_KB':'Allocated_Bandwidth'},inplace=True)\n",
    "data.head()"
   ]
  },
  {
   "cell_type": "markdown",
   "id": "77a01fb7-650e-4cbd-b2f2-2556d946ecc9",
   "metadata": {},
   "source": [
    "#### 1.3 Insight "
   ]
  },
  {
   "cell_type": "code",
   "execution_count": 56,
   "id": "e0c49c8e-befa-47d7-a566-5bd7dcafd2d0",
   "metadata": {},
   "outputs": [
    {
     "name": "stdout",
     "output_type": "stream",
     "text": [
      "          Timestamp   User_ID Application_Type  Signal_Strength  Latency  \\\n",
      "394  9/3/2023 10:06  User_395    Online_Gaming               41       47   \n",
      "\n",
      "     Resource_Allocation  Required_Bandwidth  Allocated_Bandwidth  \n",
      "394                   80              6451.2               6758.4  \n",
      "        Timestamp User_ID Application_Type  Signal_Strength  Latency  \\\n",
      "4  9/3/2023 10:00  User_5    Online_Gaming               78       25   \n",
      "\n",
      "   Resource_Allocation  Required_Bandwidth  Allocated_Bandwidth  \n",
      "4                   85              2048.0               3072.0  \n"
     ]
    }
   ],
   "source": [
    "# Which user using Online gaming with least/Max avg bandwidth requirements?\n",
    "\n",
    "new_data_Online_Gaming = data[data['Application_Type']=='Online_Gaming']\n",
    "sorted_Online_Gaming = new_data_Online_Gaming.sort_values(by='Required_Bandwidth')\n",
    "\n",
    "print(sorted_Online_Gaming.tail(1))\n",
    "print(sorted_Online_Gaming.head(1))\n"
   ]
  },
  {
   "cell_type": "code",
   "execution_count": 58,
   "id": "1161a597-cd4f-477a-aa5f-c93e35865efd",
   "metadata": {},
   "outputs": [
    {
     "data": {
      "text/plain": [
       "40"
      ]
     },
     "execution_count": 58,
     "metadata": {},
     "output_type": "execute_result"
    }
   ],
   "source": [
    "# What is the Required_Bandwidth for user with highest signal strength?\n",
    "\n",
    "data.Signal_Strength.min()\n"
   ]
  },
  {
   "cell_type": "code",
   "execution_count": 59,
   "id": "94733890-c9a7-417b-87e4-5792f0a39605",
   "metadata": {},
   "outputs": [
    {
     "data": {
      "text/html": [
       "<div>\n",
       "<style scoped>\n",
       "    .dataframe tbody tr th:only-of-type {\n",
       "        vertical-align: middle;\n",
       "    }\n",
       "\n",
       "    .dataframe tbody tr th {\n",
       "        vertical-align: top;\n",
       "    }\n",
       "\n",
       "    .dataframe thead th {\n",
       "        text-align: right;\n",
       "    }\n",
       "</style>\n",
       "<table border=\"1\" class=\"dataframe\">\n",
       "  <thead>\n",
       "    <tr style=\"text-align: right;\">\n",
       "      <th></th>\n",
       "      <th>Timestamp</th>\n",
       "      <th>User_ID</th>\n",
       "      <th>Application_Type</th>\n",
       "      <th>Signal_Strength</th>\n",
       "      <th>Latency</th>\n",
       "      <th>Resource_Allocation</th>\n",
       "      <th>Required_Bandwidth</th>\n",
       "      <th>Allocated_Bandwidth</th>\n",
       "    </tr>\n",
       "  </thead>\n",
       "  <tbody>\n",
       "    <tr>\n",
       "      <th>390</th>\n",
       "      <td>9/3/2023 10:06</td>\n",
       "      <td>User_391</td>\n",
       "      <td>Emergency_Service</td>\n",
       "      <td>40</td>\n",
       "      <td>5</td>\n",
       "      <td>70</td>\n",
       "      <td>409.6</td>\n",
       "      <td>409.6</td>\n",
       "    </tr>\n",
       "    <tr>\n",
       "      <th>396</th>\n",
       "      <td>9/3/2023 10:06</td>\n",
       "      <td>User_397</td>\n",
       "      <td>Video_Call</td>\n",
       "      <td>40</td>\n",
       "      <td>53</td>\n",
       "      <td>75</td>\n",
       "      <td>14848.0</td>\n",
       "      <td>16179.2</td>\n",
       "    </tr>\n",
       "    <tr>\n",
       "      <th>398</th>\n",
       "      <td>9/3/2023 10:06</td>\n",
       "      <td>User_399</td>\n",
       "      <td>Emergency_Service</td>\n",
       "      <td>40</td>\n",
       "      <td>5</td>\n",
       "      <td>70</td>\n",
       "      <td>409.6</td>\n",
       "      <td>409.6</td>\n",
       "    </tr>\n",
       "  </tbody>\n",
       "</table>\n",
       "</div>"
      ],
      "text/plain": [
       "          Timestamp   User_ID   Application_Type  Signal_Strength  Latency  \\\n",
       "390  9/3/2023 10:06  User_391  Emergency_Service               40        5   \n",
       "396  9/3/2023 10:06  User_397         Video_Call               40       53   \n",
       "398  9/3/2023 10:06  User_399  Emergency_Service               40        5   \n",
       "\n",
       "     Resource_Allocation  Required_Bandwidth  Allocated_Bandwidth  \n",
       "390                   70               409.6                409.6  \n",
       "396                   75             14848.0              16179.2  \n",
       "398                   70               409.6                409.6  "
      ]
     },
     "execution_count": 59,
     "metadata": {},
     "output_type": "execute_result"
    }
   ],
   "source": [
    "data.query(\"Signal_Strength == 40\")"
   ]
  },
  {
   "cell_type": "code",
   "execution_count": 60,
   "id": "675a347f-519b-4bb8-9b6d-f4a74dfc0574",
   "metadata": {},
   "outputs": [
    {
     "data": {
      "text/plain": [
       "14848.0"
      ]
     },
     "execution_count": 60,
     "metadata": {},
     "output_type": "execute_result"
    }
   ],
   "source": [
    "# Which users with highesth Required Bandwidth?\n",
    "\n",
    "data.Required_Bandwidth.max()"
   ]
  },
  {
   "cell_type": "code",
   "execution_count": 61,
   "id": "a1e23d9c-4f08-46cd-8830-c4249304bc5d",
   "metadata": {},
   "outputs": [
    {
     "data": {
      "text/html": [
       "<div>\n",
       "<style scoped>\n",
       "    .dataframe tbody tr th:only-of-type {\n",
       "        vertical-align: middle;\n",
       "    }\n",
       "\n",
       "    .dataframe tbody tr th {\n",
       "        vertical-align: top;\n",
       "    }\n",
       "\n",
       "    .dataframe thead th {\n",
       "        text-align: right;\n",
       "    }\n",
       "</style>\n",
       "<table border=\"1\" class=\"dataframe\">\n",
       "  <thead>\n",
       "    <tr style=\"text-align: right;\">\n",
       "      <th></th>\n",
       "      <th>Timestamp</th>\n",
       "      <th>User_ID</th>\n",
       "      <th>Application_Type</th>\n",
       "      <th>Signal_Strength</th>\n",
       "      <th>Latency</th>\n",
       "      <th>Resource_Allocation</th>\n",
       "      <th>Required_Bandwidth</th>\n",
       "      <th>Allocated_Bandwidth</th>\n",
       "    </tr>\n",
       "  </thead>\n",
       "  <tbody>\n",
       "    <tr>\n",
       "      <th>396</th>\n",
       "      <td>9/3/2023 10:06</td>\n",
       "      <td>User_397</td>\n",
       "      <td>Video_Call</td>\n",
       "      <td>40</td>\n",
       "      <td>53</td>\n",
       "      <td>75</td>\n",
       "      <td>14848.0</td>\n",
       "      <td>16179.2</td>\n",
       "    </tr>\n",
       "  </tbody>\n",
       "</table>\n",
       "</div>"
      ],
      "text/plain": [
       "          Timestamp   User_ID Application_Type  Signal_Strength  Latency  \\\n",
       "396  9/3/2023 10:06  User_397       Video_Call               40       53   \n",
       "\n",
       "     Resource_Allocation  Required_Bandwidth  Allocated_Bandwidth  \n",
       "396                   75             14848.0              16179.2  "
      ]
     },
     "execution_count": 61,
     "metadata": {},
     "output_type": "execute_result"
    }
   ],
   "source": [
    "data.query(\"Required_Bandwidth == 14848\")"
   ]
  },
  {
   "cell_type": "code",
   "execution_count": 62,
   "id": "41bfbdf4-b1bc-4a3a-8f66-f72786ea61e7",
   "metadata": {},
   "outputs": [
    {
     "data": {
      "text/plain": [
       "110"
      ]
     },
     "execution_count": 62,
     "metadata": {},
     "output_type": "execute_result"
    }
   ],
   "source": [
    "# Which user with highest Latency?\n",
    "\n",
    "data.Latency.max()"
   ]
  },
  {
   "cell_type": "code",
   "execution_count": 63,
   "id": "722e2a36-7079-4759-8ede-d44b8ce9deba",
   "metadata": {},
   "outputs": [
    {
     "data": {
      "text/html": [
       "<div>\n",
       "<style scoped>\n",
       "    .dataframe tbody tr th:only-of-type {\n",
       "        vertical-align: middle;\n",
       "    }\n",
       "\n",
       "    .dataframe tbody tr th {\n",
       "        vertical-align: top;\n",
       "    }\n",
       "\n",
       "    .dataframe thead th {\n",
       "        text-align: right;\n",
       "    }\n",
       "</style>\n",
       "<table border=\"1\" class=\"dataframe\">\n",
       "  <thead>\n",
       "    <tr style=\"text-align: right;\">\n",
       "      <th></th>\n",
       "      <th>Timestamp</th>\n",
       "      <th>User_ID</th>\n",
       "      <th>Application_Type</th>\n",
       "      <th>Signal_Strength</th>\n",
       "      <th>Latency</th>\n",
       "      <th>Resource_Allocation</th>\n",
       "      <th>Required_Bandwidth</th>\n",
       "      <th>Allocated_Bandwidth</th>\n",
       "    </tr>\n",
       "  </thead>\n",
       "  <tbody>\n",
       "    <tr>\n",
       "      <th>28</th>\n",
       "      <td>9/3/2023 10:00</td>\n",
       "      <td>User_29</td>\n",
       "      <td>IoT_Temperature</td>\n",
       "      <td>97</td>\n",
       "      <td>110</td>\n",
       "      <td>65</td>\n",
       "      <td>7.0</td>\n",
       "      <td>8.0</td>\n",
       "    </tr>\n",
       "  </tbody>\n",
       "</table>\n",
       "</div>"
      ],
      "text/plain": [
       "         Timestamp  User_ID Application_Type  Signal_Strength  Latency  \\\n",
       "28  9/3/2023 10:00  User_29  IoT_Temperature               97      110   \n",
       "\n",
       "    Resource_Allocation  Required_Bandwidth  Allocated_Bandwidth  \n",
       "28                   65                 7.0                  8.0  "
      ]
     },
     "execution_count": 63,
     "metadata": {},
     "output_type": "execute_result"
    }
   ],
   "source": [
    "data.query(\"Latency == 110\")"
   ]
  },
  {
   "cell_type": "code",
   "execution_count": 64,
   "id": "2236e57e-4847-4347-85d4-b8505d041320",
   "metadata": {},
   "outputs": [
    {
     "data": {
      "text/plain": [
       "Application_Type\n",
       "Background_Download    104.063830\n",
       "IoT_Temperature        100.230769\n",
       "Web_Browsing            99.791667\n",
       "Video_Streaming         93.936170\n",
       "Streaming               89.617021\n",
       "Name: Signal_Strength, dtype: float64"
      ]
     },
     "execution_count": 64,
     "metadata": {},
     "output_type": "execute_result"
    }
   ],
   "source": [
    "# Calculate Average of signal strength on diffrent Application Type\n",
    "\n",
    "app_signsl_strength = data.groupby(['Application_Type'])['Signal_Strength'].mean()\n",
    "app_signsl_strength.nlargest()"
   ]
  },
  {
   "cell_type": "code",
   "execution_count": 65,
   "id": "1f99d7e7-6056-4d67-9523-b13b13fb00e9",
   "metadata": {},
   "outputs": [
    {
     "data": {
      "text/plain": [
       "Application_Type\n",
       "VoIP_Call        89.891304\n",
       "Streaming        84.468085\n",
       "Online_Gaming    80.000000\n",
       "Voice_Call       80.000000\n",
       "Video_Call       74.482759\n",
       "Name: Resource_Allocation, dtype: float64"
      ]
     },
     "execution_count": 65,
     "metadata": {},
     "output_type": "execute_result"
    }
   ],
   "source": [
    "# Average of resource_Allocation on diffrent application?\n",
    "\n",
    "app_Resource_Allocation = data.groupby(['Application_Type'])['Resource_Allocation'].mean()\n",
    "app_Resource_Allocation.nlargest()"
   ]
  },
  {
   "cell_type": "code",
   "execution_count": 66,
   "id": "866fec4a-2fed-4eb1-a11c-fffe72fae3e3",
   "metadata": {},
   "outputs": [
    {
     "data": {
      "text/plain": [
       "Application_Type\n",
       "Background_Download    60.106383\n",
       "Web_Browsing           69.687500\n",
       "File_Download          70.000000\n",
       "Video_Streaming        70.319149\n",
       "IoT_Temperature        70.384615\n",
       "Name: Resource_Allocation, dtype: float64"
      ]
     },
     "execution_count": 66,
     "metadata": {},
     "output_type": "execute_result"
    }
   ],
   "source": [
    "app_Resource_Allocation.nsmallest()"
   ]
  },
  {
   "cell_type": "code",
   "execution_count": null,
   "id": "b3166f1a-0f5b-46b8-b454-f4a83ac6d355",
   "metadata": {},
   "outputs": [],
   "source": []
  },
  {
   "cell_type": "code",
   "execution_count": null,
   "id": "67cdc720-afdd-48df-8552-92660ea757ed",
   "metadata": {},
   "outputs": [],
   "source": []
  },
  {
   "cell_type": "markdown",
   "id": "b6f3a8a3-e8e6-4d99-a34c-4a5aa7893b31",
   "metadata": {},
   "source": [
    "### 2. Visualization"
   ]
  },
  {
   "cell_type": "code",
   "execution_count": 67,
   "id": "6377747b-7444-4c48-99c0-bba7a09253cd",
   "metadata": {},
   "outputs": [
    {
     "data": {
      "application/vnd.plotly.v1+json": {
       "config": {
        "plotlyServerURL": "https://plot.ly"
       },
       "data": [
        {
         "alignmentgroup": "True",
         "hovertemplate": "Application_Type=%{x}<br>Latency=%{y}<extra></extra>",
         "legendgroup": "Video_Call",
         "marker": {
          "color": "#636efa"
         },
         "name": "Video_Call",
         "notched": false,
         "offsetgroup": "Video_Call",
         "orientation": "v",
         "showlegend": true,
         "type": "box",
         "x": [
          "Video_Call",
          "Video_Call",
          "Video_Call",
          "Video_Call",
          "Video_Call",
          "Video_Call",
          "Video_Call",
          "Video_Call",
          "Video_Call",
          "Video_Call",
          "Video_Call",
          "Video_Call",
          "Video_Call",
          "Video_Call",
          "Video_Call",
          "Video_Call",
          "Video_Call",
          "Video_Call",
          "Video_Call",
          "Video_Call",
          "Video_Call",
          "Video_Call",
          "Video_Call",
          "Video_Call",
          "Video_Call",
          "Video_Call",
          "Video_Call",
          "Video_Call",
          "Video_Call",
          "Video_Call",
          "Video_Call",
          "Video_Call",
          "Video_Call",
          "Video_Call",
          "Video_Call",
          "Video_Call",
          "Video_Call",
          "Video_Call",
          "Video_Call",
          "Video_Call",
          "Video_Call",
          "Video_Call",
          "Video_Call",
          "Video_Call",
          "Video_Call",
          "Video_Call",
          "Video_Call",
          "Video_Call",
          "Video_Call",
          "Video_Call",
          "Video_Call",
          "Video_Call",
          "Video_Call",
          "Video_Call",
          "Video_Call",
          "Video_Call",
          "Video_Call",
          "Video_Call"
         ],
         "x0": " ",
         "xaxis": "x",
         "y": [
          30,
          32,
          29,
          31,
          28,
          30,
          27,
          29,
          26,
          30,
          27,
          29,
          26,
          28,
          25,
          27,
          24,
          26,
          23,
          24,
          27,
          25,
          24,
          19,
          26,
          27,
          28,
          25,
          24,
          25,
          26,
          27,
          28,
          29,
          30,
          31,
          32,
          33,
          34,
          35,
          36,
          37,
          38,
          39,
          40,
          41,
          42,
          43,
          44,
          45,
          46,
          47,
          48,
          49,
          50,
          51,
          52,
          53
         ],
         "y0": " ",
         "yaxis": "y"
        },
        {
         "alignmentgroup": "True",
         "hovertemplate": "Application_Type=%{x}<br>Latency=%{y}<extra></extra>",
         "legendgroup": "Voice_Call",
         "marker": {
          "color": "#EF553B"
         },
         "name": "Voice_Call",
         "notched": false,
         "offsetgroup": "Voice_Call",
         "orientation": "v",
         "showlegend": true,
         "type": "box",
         "x": [
          "Voice_Call"
         ],
         "x0": " ",
         "xaxis": "x",
         "y": [
          20
         ],
         "y0": " ",
         "yaxis": "y"
        },
        {
         "alignmentgroup": "True",
         "hovertemplate": "Application_Type=%{x}<br>Latency=%{y}<extra></extra>",
         "legendgroup": "Streaming",
         "marker": {
          "color": "#00cc96"
         },
         "name": "Streaming",
         "notched": false,
         "offsetgroup": "Streaming",
         "orientation": "v",
         "showlegend": true,
         "type": "box",
         "x": [
          "Streaming",
          "Streaming",
          "Streaming",
          "Streaming",
          "Streaming",
          "Streaming",
          "Streaming",
          "Streaming",
          "Streaming",
          "Streaming",
          "Streaming",
          "Streaming",
          "Streaming",
          "Streaming",
          "Streaming",
          "Streaming",
          "Streaming",
          "Streaming",
          "Streaming",
          "Streaming",
          "Streaming",
          "Streaming",
          "Streaming",
          "Streaming",
          "Streaming",
          "Streaming",
          "Streaming",
          "Streaming",
          "Streaming",
          "Streaming",
          "Streaming",
          "Streaming",
          "Streaming",
          "Streaming",
          "Streaming",
          "Streaming",
          "Streaming",
          "Streaming",
          "Streaming",
          "Streaming",
          "Streaming",
          "Streaming",
          "Streaming",
          "Streaming",
          "Streaming",
          "Streaming",
          "Streaming"
         ],
         "x0": " ",
         "xaxis": "x",
         "y": [
          40,
          38,
          37,
          36,
          35,
          35,
          34,
          33,
          32,
          31,
          32,
          31,
          32,
          30,
          32,
          33,
          31,
          32,
          33,
          34,
          35,
          36,
          37,
          38,
          39,
          40,
          41,
          42,
          43,
          44,
          45,
          46,
          47,
          48,
          49,
          50,
          51,
          52,
          53,
          54,
          55,
          56,
          57,
          58,
          59,
          60,
          61
         ],
         "y0": " ",
         "yaxis": "y"
        },
        {
         "alignmentgroup": "True",
         "hovertemplate": "Application_Type=%{x}<br>Latency=%{y}<extra></extra>",
         "legendgroup": "Emergency_Service",
         "marker": {
          "color": "#ab63fa"
         },
         "name": "Emergency_Service",
         "notched": false,
         "offsetgroup": "Emergency_Service",
         "orientation": "v",
         "showlegend": true,
         "type": "box",
         "x": [
          "Emergency_Service",
          "Emergency_Service",
          "Emergency_Service",
          "Emergency_Service",
          "Emergency_Service",
          "Emergency_Service",
          "Emergency_Service",
          "Emergency_Service",
          "Emergency_Service",
          "Emergency_Service",
          "Emergency_Service",
          "Emergency_Service",
          "Emergency_Service",
          "Emergency_Service",
          "Emergency_Service",
          "Emergency_Service",
          "Emergency_Service",
          "Emergency_Service",
          "Emergency_Service",
          "Emergency_Service",
          "Emergency_Service",
          "Emergency_Service",
          "Emergency_Service",
          "Emergency_Service",
          "Emergency_Service",
          "Emergency_Service",
          "Emergency_Service",
          "Emergency_Service",
          "Emergency_Service",
          "Emergency_Service",
          "Emergency_Service",
          "Emergency_Service",
          "Emergency_Service",
          "Emergency_Service",
          "Emergency_Service",
          "Emergency_Service",
          "Emergency_Service",
          "Emergency_Service",
          "Emergency_Service",
          "Emergency_Service",
          "Emergency_Service",
          "Emergency_Service",
          "Emergency_Service",
          "Emergency_Service",
          "Emergency_Service",
          "Emergency_Service",
          "Emergency_Service"
         ],
         "x0": " ",
         "xaxis": "x",
         "y": [
          10,
          9,
          8,
          7,
          7,
          8,
          7,
          6,
          6,
          6,
          6,
          6,
          6,
          5,
          5,
          5,
          5,
          5,
          5,
          5,
          5,
          5,
          5,
          5,
          5,
          5,
          5,
          5,
          5,
          5,
          5,
          5,
          5,
          5,
          5,
          5,
          5,
          5,
          5,
          5,
          5,
          5,
          5,
          5,
          5,
          5,
          5
         ],
         "y0": " ",
         "yaxis": "y"
        },
        {
         "alignmentgroup": "True",
         "hovertemplate": "Application_Type=%{x}<br>Latency=%{y}<extra></extra>",
         "legendgroup": "Online_Gaming",
         "marker": {
          "color": "#FFA15A"
         },
         "name": "Online_Gaming",
         "notched": false,
         "offsetgroup": "Online_Gaming",
         "orientation": "v",
         "showlegend": true,
         "type": "box",
         "x": [
          "Online_Gaming",
          "Online_Gaming",
          "Online_Gaming",
          "Online_Gaming",
          "Online_Gaming",
          "Online_Gaming",
          "Online_Gaming",
          "Online_Gaming",
          "Online_Gaming",
          "Online_Gaming",
          "Online_Gaming",
          "Online_Gaming",
          "Online_Gaming",
          "Online_Gaming",
          "Online_Gaming",
          "Online_Gaming",
          "Online_Gaming",
          "Online_Gaming",
          "Online_Gaming",
          "Online_Gaming",
          "Online_Gaming",
          "Online_Gaming",
          "Online_Gaming",
          "Online_Gaming",
          "Online_Gaming",
          "Online_Gaming",
          "Online_Gaming",
          "Online_Gaming",
          "Online_Gaming",
          "Online_Gaming",
          "Online_Gaming",
          "Online_Gaming",
          "Online_Gaming",
          "Online_Gaming",
          "Online_Gaming",
          "Online_Gaming",
          "Online_Gaming",
          "Online_Gaming",
          "Online_Gaming",
          "Online_Gaming",
          "Online_Gaming",
          "Online_Gaming",
          "Online_Gaming",
          "Online_Gaming",
          "Online_Gaming"
         ],
         "x0": " ",
         "xaxis": "x",
         "y": [
          25,
          24,
          23,
          24,
          25,
          24,
          23,
          22,
          21,
          20,
          22,
          21,
          22,
          20,
          19,
          18,
          19,
          20,
          21,
          22,
          23,
          24,
          25,
          26,
          27,
          28,
          29,
          30,
          31,
          32,
          33,
          34,
          35,
          36,
          37,
          38,
          39,
          40,
          41,
          42,
          43,
          44,
          45,
          46,
          47
         ],
         "y0": " ",
         "yaxis": "y"
        },
        {
         "alignmentgroup": "True",
         "hovertemplate": "Application_Type=%{x}<br>Latency=%{y}<extra></extra>",
         "legendgroup": "Background_Download",
         "marker": {
          "color": "#19d3f3"
         },
         "name": "Background_Download",
         "notched": false,
         "offsetgroup": "Background_Download",
         "orientation": "v",
         "showlegend": true,
         "type": "box",
         "x": [
          "Background_Download",
          "Background_Download",
          "Background_Download",
          "Background_Download",
          "Background_Download",
          "Background_Download",
          "Background_Download",
          "Background_Download",
          "Background_Download",
          "Background_Download",
          "Background_Download",
          "Background_Download",
          "Background_Download",
          "Background_Download",
          "Background_Download",
          "Background_Download",
          "Background_Download",
          "Background_Download",
          "Background_Download",
          "Background_Download",
          "Background_Download",
          "Background_Download",
          "Background_Download",
          "Background_Download",
          "Background_Download",
          "Background_Download",
          "Background_Download",
          "Background_Download",
          "Background_Download",
          "Background_Download",
          "Background_Download",
          "Background_Download",
          "Background_Download",
          "Background_Download",
          "Background_Download",
          "Background_Download",
          "Background_Download",
          "Background_Download",
          "Background_Download",
          "Background_Download",
          "Background_Download",
          "Background_Download",
          "Background_Download",
          "Background_Download",
          "Background_Download",
          "Background_Download",
          "Background_Download"
         ],
         "x0": " ",
         "xaxis": "x",
         "y": [
          50,
          48,
          47,
          46,
          45,
          46,
          45,
          44,
          43,
          42,
          44,
          43,
          44,
          46,
          45,
          47,
          48,
          49,
          50,
          51,
          52,
          53,
          54,
          55,
          56,
          57,
          58,
          59,
          60,
          61,
          62,
          63,
          64,
          65,
          66,
          67,
          68,
          69,
          70,
          71,
          72,
          73,
          74,
          75,
          76,
          77,
          78
         ],
         "y0": " ",
         "yaxis": "y"
        },
        {
         "alignmentgroup": "True",
         "hovertemplate": "Application_Type=%{x}<br>Latency=%{y}<extra></extra>",
         "legendgroup": "Web_Browsing",
         "marker": {
          "color": "#FF6692"
         },
         "name": "Web_Browsing",
         "notched": false,
         "offsetgroup": "Web_Browsing",
         "orientation": "v",
         "showlegend": true,
         "type": "box",
         "x": [
          "Web_Browsing",
          "Web_Browsing",
          "Web_Browsing",
          "Web_Browsing",
          "Web_Browsing",
          "Web_Browsing",
          "Web_Browsing",
          "Web_Browsing",
          "Web_Browsing",
          "Web_Browsing",
          "Web_Browsing",
          "Web_Browsing",
          "Web_Browsing",
          "Web_Browsing",
          "Web_Browsing",
          "Web_Browsing",
          "Web_Browsing",
          "Web_Browsing",
          "Web_Browsing",
          "Web_Browsing",
          "Web_Browsing",
          "Web_Browsing",
          "Web_Browsing",
          "Web_Browsing",
          "Web_Browsing",
          "Web_Browsing",
          "Web_Browsing",
          "Web_Browsing",
          "Web_Browsing",
          "Web_Browsing",
          "Web_Browsing",
          "Web_Browsing",
          "Web_Browsing",
          "Web_Browsing",
          "Web_Browsing",
          "Web_Browsing",
          "Web_Browsing",
          "Web_Browsing",
          "Web_Browsing",
          "Web_Browsing",
          "Web_Browsing",
          "Web_Browsing",
          "Web_Browsing",
          "Web_Browsing",
          "Web_Browsing",
          "Web_Browsing",
          "Web_Browsing",
          "Web_Browsing"
         ],
         "x0": " ",
         "xaxis": "x",
         "y": [
          30,
          28,
          29,
          27,
          28,
          27,
          26,
          25,
          24,
          23,
          25,
          24,
          25,
          28,
          27,
          26,
          25,
          24,
          23,
          22,
          21,
          20,
          19,
          18,
          17,
          16,
          15,
          14,
          13,
          12,
          11,
          10,
          9,
          8,
          7,
          6,
          5,
          4,
          3,
          2,
          1,
          0,
          0,
          0,
          0,
          0,
          0,
          0
         ],
         "y0": " ",
         "yaxis": "y"
        },
        {
         "alignmentgroup": "True",
         "hovertemplate": "Application_Type=%{x}<br>Latency=%{y}<extra></extra>",
         "legendgroup": "IoT_Temperature",
         "marker": {
          "color": "#B6E880"
         },
         "name": "IoT_Temperature",
         "notched": false,
         "offsetgroup": "IoT_Temperature",
         "orientation": "v",
         "showlegend": true,
         "type": "box",
         "x": [
          "IoT_Temperature",
          "IoT_Temperature",
          "IoT_Temperature",
          "IoT_Temperature",
          "IoT_Temperature",
          "IoT_Temperature",
          "IoT_Temperature",
          "IoT_Temperature",
          "IoT_Temperature",
          "IoT_Temperature",
          "IoT_Temperature",
          "IoT_Temperature",
          "IoT_Temperature"
         ],
         "x0": " ",
         "xaxis": "x",
         "y": [
          100,
          105,
          110,
          105,
          104,
          103,
          102,
          101,
          100,
          99,
          100,
          99,
          100
         ],
         "y0": " ",
         "yaxis": "y"
        },
        {
         "alignmentgroup": "True",
         "hovertemplate": "Application_Type=%{x}<br>Latency=%{y}<extra></extra>",
         "legendgroup": "Video_Streaming",
         "marker": {
          "color": "#FF97FF"
         },
         "name": "Video_Streaming",
         "notched": false,
         "offsetgroup": "Video_Streaming",
         "orientation": "v",
         "showlegend": true,
         "type": "box",
         "x": [
          "Video_Streaming",
          "Video_Streaming",
          "Video_Streaming",
          "Video_Streaming",
          "Video_Streaming",
          "Video_Streaming",
          "Video_Streaming",
          "Video_Streaming",
          "Video_Streaming",
          "Video_Streaming",
          "Video_Streaming",
          "Video_Streaming",
          "Video_Streaming",
          "Video_Streaming",
          "Video_Streaming",
          "Video_Streaming",
          "Video_Streaming",
          "Video_Streaming",
          "Video_Streaming",
          "Video_Streaming",
          "Video_Streaming",
          "Video_Streaming",
          "Video_Streaming",
          "Video_Streaming",
          "Video_Streaming",
          "Video_Streaming",
          "Video_Streaming",
          "Video_Streaming",
          "Video_Streaming",
          "Video_Streaming",
          "Video_Streaming",
          "Video_Streaming",
          "Video_Streaming",
          "Video_Streaming",
          "Video_Streaming",
          "Video_Streaming",
          "Video_Streaming",
          "Video_Streaming",
          "Video_Streaming",
          "Video_Streaming",
          "Video_Streaming",
          "Video_Streaming",
          "Video_Streaming",
          "Video_Streaming",
          "Video_Streaming",
          "Video_Streaming",
          "Video_Streaming"
         ],
         "x0": " ",
         "xaxis": "x",
         "y": [
          35,
          34,
          33,
          32,
          31,
          32,
          31,
          30,
          29,
          28,
          29,
          30,
          29,
          29,
          28,
          30,
          31,
          30,
          29,
          31,
          32,
          33,
          34,
          35,
          36,
          37,
          38,
          39,
          40,
          41,
          42,
          43,
          44,
          45,
          46,
          47,
          48,
          49,
          50,
          51,
          52,
          53,
          54,
          55,
          56,
          57,
          58
         ],
         "y0": " ",
         "yaxis": "y"
        },
        {
         "alignmentgroup": "True",
         "hovertemplate": "Application_Type=%{x}<br>Latency=%{y}<extra></extra>",
         "legendgroup": "File_Download",
         "marker": {
          "color": "#FECB52"
         },
         "name": "File_Download",
         "notched": false,
         "offsetgroup": "File_Download",
         "orientation": "v",
         "showlegend": true,
         "type": "box",
         "x": [
          "File_Download"
         ],
         "x0": " ",
         "xaxis": "x",
         "y": [
          45
         ],
         "y0": " ",
         "yaxis": "y"
        },
        {
         "alignmentgroup": "True",
         "hovertemplate": "Application_Type=%{x}<br>Latency=%{y}<extra></extra>",
         "legendgroup": "VoIP_Call",
         "marker": {
          "color": "#636efa"
         },
         "name": "VoIP_Call",
         "notched": false,
         "offsetgroup": "VoIP_Call",
         "orientation": "v",
         "showlegend": true,
         "type": "box",
         "x": [
          "VoIP_Call",
          "VoIP_Call",
          "VoIP_Call",
          "VoIP_Call",
          "VoIP_Call",
          "VoIP_Call",
          "VoIP_Call",
          "VoIP_Call",
          "VoIP_Call",
          "VoIP_Call",
          "VoIP_Call",
          "VoIP_Call",
          "VoIP_Call",
          "VoIP_Call",
          "VoIP_Call",
          "VoIP_Call",
          "VoIP_Call",
          "VoIP_Call",
          "VoIP_Call",
          "VoIP_Call",
          "VoIP_Call",
          "VoIP_Call",
          "VoIP_Call",
          "VoIP_Call",
          "VoIP_Call",
          "VoIP_Call",
          "VoIP_Call",
          "VoIP_Call",
          "VoIP_Call",
          "VoIP_Call",
          "VoIP_Call",
          "VoIP_Call",
          "VoIP_Call",
          "VoIP_Call",
          "VoIP_Call",
          "VoIP_Call",
          "VoIP_Call",
          "VoIP_Call",
          "VoIP_Call",
          "VoIP_Call",
          "VoIP_Call",
          "VoIP_Call",
          "VoIP_Call",
          "VoIP_Call",
          "VoIP_Call",
          "VoIP_Call"
         ],
         "x0": " ",
         "xaxis": "x",
         "y": [
          22,
          21,
          20,
          20,
          21,
          20,
          19,
          18,
          17,
          18,
          19,
          18,
          19,
          20,
          21,
          22,
          23,
          24,
          25,
          26,
          27,
          28,
          29,
          30,
          31,
          32,
          33,
          34,
          35,
          36,
          37,
          38,
          39,
          40,
          41,
          42,
          43,
          44,
          45,
          46,
          47,
          48,
          49,
          50,
          51,
          52
         ],
         "y0": " ",
         "yaxis": "y"
        }
       ],
       "layout": {
        "boxmode": "overlay",
        "height": 600,
        "legend": {
         "title": {
          "text": "Application_Type"
         },
         "tracegroupgap": 0
        },
        "template": {
         "data": {
          "bar": [
           {
            "error_x": {
             "color": "#2a3f5f"
            },
            "error_y": {
             "color": "#2a3f5f"
            },
            "marker": {
             "line": {
              "color": "#E5ECF6",
              "width": 0.5
             },
             "pattern": {
              "fillmode": "overlay",
              "size": 10,
              "solidity": 0.2
             }
            },
            "type": "bar"
           }
          ],
          "barpolar": [
           {
            "marker": {
             "line": {
              "color": "#E5ECF6",
              "width": 0.5
             },
             "pattern": {
              "fillmode": "overlay",
              "size": 10,
              "solidity": 0.2
             }
            },
            "type": "barpolar"
           }
          ],
          "carpet": [
           {
            "aaxis": {
             "endlinecolor": "#2a3f5f",
             "gridcolor": "white",
             "linecolor": "white",
             "minorgridcolor": "white",
             "startlinecolor": "#2a3f5f"
            },
            "baxis": {
             "endlinecolor": "#2a3f5f",
             "gridcolor": "white",
             "linecolor": "white",
             "minorgridcolor": "white",
             "startlinecolor": "#2a3f5f"
            },
            "type": "carpet"
           }
          ],
          "choropleth": [
           {
            "colorbar": {
             "outlinewidth": 0,
             "ticks": ""
            },
            "type": "choropleth"
           }
          ],
          "contour": [
           {
            "colorbar": {
             "outlinewidth": 0,
             "ticks": ""
            },
            "colorscale": [
             [
              0,
              "#0d0887"
             ],
             [
              0.1111111111111111,
              "#46039f"
             ],
             [
              0.2222222222222222,
              "#7201a8"
             ],
             [
              0.3333333333333333,
              "#9c179e"
             ],
             [
              0.4444444444444444,
              "#bd3786"
             ],
             [
              0.5555555555555556,
              "#d8576b"
             ],
             [
              0.6666666666666666,
              "#ed7953"
             ],
             [
              0.7777777777777778,
              "#fb9f3a"
             ],
             [
              0.8888888888888888,
              "#fdca26"
             ],
             [
              1,
              "#f0f921"
             ]
            ],
            "type": "contour"
           }
          ],
          "contourcarpet": [
           {
            "colorbar": {
             "outlinewidth": 0,
             "ticks": ""
            },
            "type": "contourcarpet"
           }
          ],
          "heatmap": [
           {
            "colorbar": {
             "outlinewidth": 0,
             "ticks": ""
            },
            "colorscale": [
             [
              0,
              "#0d0887"
             ],
             [
              0.1111111111111111,
              "#46039f"
             ],
             [
              0.2222222222222222,
              "#7201a8"
             ],
             [
              0.3333333333333333,
              "#9c179e"
             ],
             [
              0.4444444444444444,
              "#bd3786"
             ],
             [
              0.5555555555555556,
              "#d8576b"
             ],
             [
              0.6666666666666666,
              "#ed7953"
             ],
             [
              0.7777777777777778,
              "#fb9f3a"
             ],
             [
              0.8888888888888888,
              "#fdca26"
             ],
             [
              1,
              "#f0f921"
             ]
            ],
            "type": "heatmap"
           }
          ],
          "heatmapgl": [
           {
            "colorbar": {
             "outlinewidth": 0,
             "ticks": ""
            },
            "colorscale": [
             [
              0,
              "#0d0887"
             ],
             [
              0.1111111111111111,
              "#46039f"
             ],
             [
              0.2222222222222222,
              "#7201a8"
             ],
             [
              0.3333333333333333,
              "#9c179e"
             ],
             [
              0.4444444444444444,
              "#bd3786"
             ],
             [
              0.5555555555555556,
              "#d8576b"
             ],
             [
              0.6666666666666666,
              "#ed7953"
             ],
             [
              0.7777777777777778,
              "#fb9f3a"
             ],
             [
              0.8888888888888888,
              "#fdca26"
             ],
             [
              1,
              "#f0f921"
             ]
            ],
            "type": "heatmapgl"
           }
          ],
          "histogram": [
           {
            "marker": {
             "pattern": {
              "fillmode": "overlay",
              "size": 10,
              "solidity": 0.2
             }
            },
            "type": "histogram"
           }
          ],
          "histogram2d": [
           {
            "colorbar": {
             "outlinewidth": 0,
             "ticks": ""
            },
            "colorscale": [
             [
              0,
              "#0d0887"
             ],
             [
              0.1111111111111111,
              "#46039f"
             ],
             [
              0.2222222222222222,
              "#7201a8"
             ],
             [
              0.3333333333333333,
              "#9c179e"
             ],
             [
              0.4444444444444444,
              "#bd3786"
             ],
             [
              0.5555555555555556,
              "#d8576b"
             ],
             [
              0.6666666666666666,
              "#ed7953"
             ],
             [
              0.7777777777777778,
              "#fb9f3a"
             ],
             [
              0.8888888888888888,
              "#fdca26"
             ],
             [
              1,
              "#f0f921"
             ]
            ],
            "type": "histogram2d"
           }
          ],
          "histogram2dcontour": [
           {
            "colorbar": {
             "outlinewidth": 0,
             "ticks": ""
            },
            "colorscale": [
             [
              0,
              "#0d0887"
             ],
             [
              0.1111111111111111,
              "#46039f"
             ],
             [
              0.2222222222222222,
              "#7201a8"
             ],
             [
              0.3333333333333333,
              "#9c179e"
             ],
             [
              0.4444444444444444,
              "#bd3786"
             ],
             [
              0.5555555555555556,
              "#d8576b"
             ],
             [
              0.6666666666666666,
              "#ed7953"
             ],
             [
              0.7777777777777778,
              "#fb9f3a"
             ],
             [
              0.8888888888888888,
              "#fdca26"
             ],
             [
              1,
              "#f0f921"
             ]
            ],
            "type": "histogram2dcontour"
           }
          ],
          "mesh3d": [
           {
            "colorbar": {
             "outlinewidth": 0,
             "ticks": ""
            },
            "type": "mesh3d"
           }
          ],
          "parcoords": [
           {
            "line": {
             "colorbar": {
              "outlinewidth": 0,
              "ticks": ""
             }
            },
            "type": "parcoords"
           }
          ],
          "pie": [
           {
            "automargin": true,
            "type": "pie"
           }
          ],
          "scatter": [
           {
            "fillpattern": {
             "fillmode": "overlay",
             "size": 10,
             "solidity": 0.2
            },
            "type": "scatter"
           }
          ],
          "scatter3d": [
           {
            "line": {
             "colorbar": {
              "outlinewidth": 0,
              "ticks": ""
             }
            },
            "marker": {
             "colorbar": {
              "outlinewidth": 0,
              "ticks": ""
             }
            },
            "type": "scatter3d"
           }
          ],
          "scattercarpet": [
           {
            "marker": {
             "colorbar": {
              "outlinewidth": 0,
              "ticks": ""
             }
            },
            "type": "scattercarpet"
           }
          ],
          "scattergeo": [
           {
            "marker": {
             "colorbar": {
              "outlinewidth": 0,
              "ticks": ""
             }
            },
            "type": "scattergeo"
           }
          ],
          "scattergl": [
           {
            "marker": {
             "colorbar": {
              "outlinewidth": 0,
              "ticks": ""
             }
            },
            "type": "scattergl"
           }
          ],
          "scattermapbox": [
           {
            "marker": {
             "colorbar": {
              "outlinewidth": 0,
              "ticks": ""
             }
            },
            "type": "scattermapbox"
           }
          ],
          "scatterpolar": [
           {
            "marker": {
             "colorbar": {
              "outlinewidth": 0,
              "ticks": ""
             }
            },
            "type": "scatterpolar"
           }
          ],
          "scatterpolargl": [
           {
            "marker": {
             "colorbar": {
              "outlinewidth": 0,
              "ticks": ""
             }
            },
            "type": "scatterpolargl"
           }
          ],
          "scatterternary": [
           {
            "marker": {
             "colorbar": {
              "outlinewidth": 0,
              "ticks": ""
             }
            },
            "type": "scatterternary"
           }
          ],
          "surface": [
           {
            "colorbar": {
             "outlinewidth": 0,
             "ticks": ""
            },
            "colorscale": [
             [
              0,
              "#0d0887"
             ],
             [
              0.1111111111111111,
              "#46039f"
             ],
             [
              0.2222222222222222,
              "#7201a8"
             ],
             [
              0.3333333333333333,
              "#9c179e"
             ],
             [
              0.4444444444444444,
              "#bd3786"
             ],
             [
              0.5555555555555556,
              "#d8576b"
             ],
             [
              0.6666666666666666,
              "#ed7953"
             ],
             [
              0.7777777777777778,
              "#fb9f3a"
             ],
             [
              0.8888888888888888,
              "#fdca26"
             ],
             [
              1,
              "#f0f921"
             ]
            ],
            "type": "surface"
           }
          ],
          "table": [
           {
            "cells": {
             "fill": {
              "color": "#EBF0F8"
             },
             "line": {
              "color": "white"
             }
            },
            "header": {
             "fill": {
              "color": "#C8D4E3"
             },
             "line": {
              "color": "white"
             }
            },
            "type": "table"
           }
          ]
         },
         "layout": {
          "annotationdefaults": {
           "arrowcolor": "#2a3f5f",
           "arrowhead": 0,
           "arrowwidth": 1
          },
          "autotypenumbers": "strict",
          "coloraxis": {
           "colorbar": {
            "outlinewidth": 0,
            "ticks": ""
           }
          },
          "colorscale": {
           "diverging": [
            [
             0,
             "#8e0152"
            ],
            [
             0.1,
             "#c51b7d"
            ],
            [
             0.2,
             "#de77ae"
            ],
            [
             0.3,
             "#f1b6da"
            ],
            [
             0.4,
             "#fde0ef"
            ],
            [
             0.5,
             "#f7f7f7"
            ],
            [
             0.6,
             "#e6f5d0"
            ],
            [
             0.7,
             "#b8e186"
            ],
            [
             0.8,
             "#7fbc41"
            ],
            [
             0.9,
             "#4d9221"
            ],
            [
             1,
             "#276419"
            ]
           ],
           "sequential": [
            [
             0,
             "#0d0887"
            ],
            [
             0.1111111111111111,
             "#46039f"
            ],
            [
             0.2222222222222222,
             "#7201a8"
            ],
            [
             0.3333333333333333,
             "#9c179e"
            ],
            [
             0.4444444444444444,
             "#bd3786"
            ],
            [
             0.5555555555555556,
             "#d8576b"
            ],
            [
             0.6666666666666666,
             "#ed7953"
            ],
            [
             0.7777777777777778,
             "#fb9f3a"
            ],
            [
             0.8888888888888888,
             "#fdca26"
            ],
            [
             1,
             "#f0f921"
            ]
           ],
           "sequentialminus": [
            [
             0,
             "#0d0887"
            ],
            [
             0.1111111111111111,
             "#46039f"
            ],
            [
             0.2222222222222222,
             "#7201a8"
            ],
            [
             0.3333333333333333,
             "#9c179e"
            ],
            [
             0.4444444444444444,
             "#bd3786"
            ],
            [
             0.5555555555555556,
             "#d8576b"
            ],
            [
             0.6666666666666666,
             "#ed7953"
            ],
            [
             0.7777777777777778,
             "#fb9f3a"
            ],
            [
             0.8888888888888888,
             "#fdca26"
            ],
            [
             1,
             "#f0f921"
            ]
           ]
          },
          "colorway": [
           "#636efa",
           "#EF553B",
           "#00cc96",
           "#ab63fa",
           "#FFA15A",
           "#19d3f3",
           "#FF6692",
           "#B6E880",
           "#FF97FF",
           "#FECB52"
          ],
          "font": {
           "color": "#2a3f5f"
          },
          "geo": {
           "bgcolor": "white",
           "lakecolor": "white",
           "landcolor": "#E5ECF6",
           "showlakes": true,
           "showland": true,
           "subunitcolor": "white"
          },
          "hoverlabel": {
           "align": "left"
          },
          "hovermode": "closest",
          "mapbox": {
           "style": "light"
          },
          "paper_bgcolor": "white",
          "plot_bgcolor": "#E5ECF6",
          "polar": {
           "angularaxis": {
            "gridcolor": "white",
            "linecolor": "white",
            "ticks": ""
           },
           "bgcolor": "#E5ECF6",
           "radialaxis": {
            "gridcolor": "white",
            "linecolor": "white",
            "ticks": ""
           }
          },
          "scene": {
           "xaxis": {
            "backgroundcolor": "#E5ECF6",
            "gridcolor": "white",
            "gridwidth": 2,
            "linecolor": "white",
            "showbackground": true,
            "ticks": "",
            "zerolinecolor": "white"
           },
           "yaxis": {
            "backgroundcolor": "#E5ECF6",
            "gridcolor": "white",
            "gridwidth": 2,
            "linecolor": "white",
            "showbackground": true,
            "ticks": "",
            "zerolinecolor": "white"
           },
           "zaxis": {
            "backgroundcolor": "#E5ECF6",
            "gridcolor": "white",
            "gridwidth": 2,
            "linecolor": "white",
            "showbackground": true,
            "ticks": "",
            "zerolinecolor": "white"
           }
          },
          "shapedefaults": {
           "line": {
            "color": "#2a3f5f"
           }
          },
          "ternary": {
           "aaxis": {
            "gridcolor": "white",
            "linecolor": "white",
            "ticks": ""
           },
           "baxis": {
            "gridcolor": "white",
            "linecolor": "white",
            "ticks": ""
           },
           "bgcolor": "#E5ECF6",
           "caxis": {
            "gridcolor": "white",
            "linecolor": "white",
            "ticks": ""
           }
          },
          "title": {
           "x": 0.05
          },
          "xaxis": {
           "automargin": true,
           "gridcolor": "white",
           "linecolor": "white",
           "ticks": "",
           "title": {
            "standoff": 15
           },
           "zerolinecolor": "white",
           "zerolinewidth": 2
          },
          "yaxis": {
           "automargin": true,
           "gridcolor": "white",
           "linecolor": "white",
           "ticks": "",
           "title": {
            "standoff": 15
           },
           "zerolinecolor": "white",
           "zerolinewidth": 2
          }
         }
        },
        "title": {
         "text": "Latency by Application Type",
         "x": 0.5
        },
        "width": 900,
        "xaxis": {
         "anchor": "y",
         "autorange": false,
         "categoryarray": [
          "Video_Call",
          "Voice_Call",
          "Streaming",
          "Emergency_Service",
          "Online_Gaming",
          "Background_Download",
          "Web_Browsing",
          "IoT_Temperature",
          "Video_Streaming",
          "File_Download",
          "VoIP_Call"
         ],
         "categoryorder": "array",
         "domain": [
          0,
          1
         ],
         "range": [
          -2.077205882352938,
          12.086192810457513
         ],
         "tickangle": 45,
         "title": {
          "text": "Application_Type"
         },
         "type": "category"
        },
        "yaxis": {
         "anchor": "x",
         "autorange": false,
         "domain": [
          0,
          1
         ],
         "range": [
          -35.35528589428164,
          139.14896339750305
         ],
         "title": {
          "text": "Latency"
         },
         "type": "linear"
        }
       }
      },
      "image/png": "[encoded data removed]",
      "text/html": [
       "<div>                            <div id=\"e7421835-7ede-4477-b597-50952b3827b1\" class=\"plotly-graph-div\" style=\"height:600px; width:900px;\"></div>            <script type=\"text/javascript\">                require([\"plotly\"], function(Plotly) {                    window.PLOTLYENV=window.PLOTLYENV || {};                                    if (document.getElementById(\"e7421835-7ede-4477-b597-50952b3827b1\")) {                    Plotly.newPlot(                        \"e7421835-7ede-4477-b597-50952b3827b1\",                        [{\"alignmentgroup\":\"True\",\"hovertemplate\":\"Application_Type=%{x}\\u003cbr\\u003eLatency=%{y}\\u003cextra\\u003e\\u003c\\u002fextra\\u003e\",\"legendgroup\":\"Video_Call\",\"marker\":{\"color\":\"#636efa\"},\"name\":\"Video_Call\",\"notched\":false,\"offsetgroup\":\"Video_Call\",\"orientation\":\"v\",\"showlegend\":true,\"x\":[\"Video_Call\",\"Video_Call\",\"Video_Call\",\"Video_Call\",\"Video_Call\",\"Video_Call\",\"Video_Call\",\"Video_Call\",\"Video_Call\",\"Video_Call\",\"Video_Call\",\"Video_Call\",\"Video_Call\",\"Video_Call\",\"Video_Call\",\"Video_Call\",\"Video_Call\",\"Video_Call\",\"Video_Call\",\"Video_Call\",\"Video_Call\",\"Video_Call\",\"Video_Call\",\"Video_Call\",\"Video_Call\",\"Video_Call\",\"Video_Call\",\"Video_Call\",\"Video_Call\",\"Video_Call\",\"Video_Call\",\"Video_Call\",\"Video_Call\",\"Video_Call\",\"Video_Call\",\"Video_Call\",\"Video_Call\",\"Video_Call\",\"Video_Call\",\"Video_Call\",\"Video_Call\",\"Video_Call\",\"Video_Call\",\"Video_Call\",\"Video_Call\",\"Video_Call\",\"Video_Call\",\"Video_Call\",\"Video_Call\",\"Video_Call\",\"Video_Call\",\"Video_Call\",\"Video_Call\",\"Video_Call\",\"Video_Call\",\"Video_Call\",\"Video_Call\",\"Video_Call\"],\"x0\":\" \",\"xaxis\":\"x\",\"y\":[30,32,29,31,28,30,27,29,26,30,27,29,26,28,25,27,24,26,23,24,27,25,24,19,26,27,28,25,24,25,26,27,28,29,30,31,32,33,34,35,36,37,38,39,40,41,42,43,44,45,46,47,48,49,50,51,52,53],\"y0\":\" \",\"yaxis\":\"y\",\"type\":\"box\"},{\"alignmentgroup\":\"True\",\"hovertemplate\":\"Application_Type=%{x}\\u003cbr\\u003eLatency=%{y}\\u003cextra\\u003e\\u003c\\u002fextra\\u003e\",\"legendgroup\":\"Voice_Call\",\"marker\":{\"color\":\"#EF553B\"},\"name\":\"Voice_Call\",\"notched\":false,\"offsetgroup\":\"Voice_Call\",\"orientation\":\"v\",\"showlegend\":true,\"x\":[\"Voice_Call\"],\"x0\":\" \",\"xaxis\":\"x\",\"y\":[20],\"y0\":\" \",\"yaxis\":\"y\",\"type\":\"box\"},{\"alignmentgroup\":\"True\",\"hovertemplate\":\"Application_Type=%{x}\\u003cbr\\u003eLatency=%{y}\\u003cextra\\u003e\\u003c\\u002fextra\\u003e\",\"legendgroup\":\"Streaming\",\"marker\":{\"color\":\"#00cc96\"},\"name\":\"Streaming\",\"notched\":false,\"offsetgroup\":\"Streaming\",\"orientation\":\"v\",\"showlegend\":true,\"x\":[\"Streaming\",\"Streaming\",\"Streaming\",\"Streaming\",\"Streaming\",\"Streaming\",\"Streaming\",\"Streaming\",\"Streaming\",\"Streaming\",\"Streaming\",\"Streaming\",\"Streaming\",\"Streaming\",\"Streaming\",\"Streaming\",\"Streaming\",\"Streaming\",\"Streaming\",\"Streaming\",\"Streaming\",\"Streaming\",\"Streaming\",\"Streaming\",\"Streaming\",\"Streaming\",\"Streaming\",\"Streaming\",\"Streaming\",\"Streaming\",\"Streaming\",\"Streaming\",\"Streaming\",\"Streaming\",\"Streaming\",\"Streaming\",\"Streaming\",\"Streaming\",\"Streaming\",\"Streaming\",\"Streaming\",\"Streaming\",\"Streaming\",\"Streaming\",\"Streaming\",\"Streaming\",\"Streaming\"],\"x0\":\" \",\"xaxis\":\"x\",\"y\":[40,38,37,36,35,35,34,33,32,31,32,31,32,30,32,33,31,32,33,34,35,36,37,38,39,40,41,42,43,44,45,46,47,48,49,50,51,52,53,54,55,56,57,58,59,60,61],\"y0\":\" \",\"yaxis\":\"y\",\"type\":\"box\"},{\"alignmentgroup\":\"True\",\"hovertemplate\":\"Application_Type=%{x}\\u003cbr\\u003eLatency=%{y}\\u003cextra\\u003e\\u003c\\u002fextra\\u003e\",\"legendgroup\":\"Emergency_Service\",\"marker\":{\"color\":\"#ab63fa\"},\"name\":\"Emergency_Service\",\"notched\":false,\"offsetgroup\":\"Emergency_Service\",\"orientation\":\"v\",\"showlegend\":true,\"x\":[\"Emergency_Service\",\"Emergency_Service\",\"Emergency_Service\",\"Emergency_Service\",\"Emergency_Service\",\"Emergency_Service\",\"Emergency_Service\",\"Emergency_Service\",\"Emergency_Service\",\"Emergency_Service\",\"Emergency_Service\",\"Emergency_Service\",\"Emergency_Service\",\"Emergency_Service\",\"Emergency_Service\",\"Emergency_Service\",\"Emergency_Service\",\"Emergency_Service\",\"Emergency_Service\",\"Emergency_Service\",\"Emergency_Service\",\"Emergency_Service\",\"Emergency_Service\",\"Emergency_Service\",\"Emergency_Service\",\"Emergency_Service\",\"Emergency_Service\",\"Emergency_Service\",\"Emergency_Service\",\"Emergency_Service\",\"Emergency_Service\",\"Emergency_Service\",\"Emergency_Service\",\"Emergency_Service\",\"Emergency_Service\",\"Emergency_Service\",\"Emergency_Service\",\"Emergency_Service\",\"Emergency_Service\",\"Emergency_Service\",\"Emergency_Service\",\"Emergency_Service\",\"Emergency_Service\",\"Emergency_Service\",\"Emergency_Service\",\"Emergency_Service\",\"Emergency_Service\"],\"x0\":\" \",\"xaxis\":\"x\",\"y\":[10,9,8,7,7,8,7,6,6,6,6,6,6,5,5,5,5,5,5,5,5,5,5,5,5,5,5,5,5,5,5,5,5,5,5,5,5,5,5,5,5,5,5,5,5,5,5],\"y0\":\" \",\"yaxis\":\"y\",\"type\":\"box\"},{\"alignmentgroup\":\"True\",\"hovertemplate\":\"Application_Type=%{x}\\u003cbr\\u003eLatency=%{y}\\u003cextra\\u003e\\u003c\\u002fextra\\u003e\",\"legendgroup\":\"Online_Gaming\",\"marker\":{\"color\":\"#FFA15A\"},\"name\":\"Online_Gaming\",\"notched\":false,\"offsetgroup\":\"Online_Gaming\",\"orientation\":\"v\",\"showlegend\":true,\"x\":[\"Online_Gaming\",\"Online_Gaming\",\"Online_Gaming\",\"Online_Gaming\",\"Online_Gaming\",\"Online_Gaming\",\"Online_Gaming\",\"Online_Gaming\",\"Online_Gaming\",\"Online_Gaming\",\"Online_Gaming\",\"Online_Gaming\",\"Online_Gaming\",\"Online_Gaming\",\"Online_Gaming\",\"Online_Gaming\",\"Online_Gaming\",\"Online_Gaming\",\"Online_Gaming\",\"Online_Gaming\",\"Online_Gaming\",\"Online_Gaming\",\"Online_Gaming\",\"Online_Gaming\",\"Online_Gaming\",\"Online_Gaming\",\"Online_Gaming\",\"Online_Gaming\",\"Online_Gaming\",\"Online_Gaming\",\"Online_Gaming\",\"Online_Gaming\",\"Online_Gaming\",\"Online_Gaming\",\"Online_Gaming\",\"Online_Gaming\",\"Online_Gaming\",\"Online_Gaming\",\"Online_Gaming\",\"Online_Gaming\",\"Online_Gaming\",\"Online_Gaming\",\"Online_Gaming\",\"Online_Gaming\",\"Online_Gaming\"],\"x0\":\" \",\"xaxis\":\"x\",\"y\":[25,24,23,24,25,24,23,22,21,20,22,21,22,20,19,18,19,20,21,22,23,24,25,26,27,28,29,30,31,32,33,34,35,36,37,38,39,40,41,42,43,44,45,46,47],\"y0\":\" \",\"yaxis\":\"y\",\"type\":\"box\"},{\"alignmentgroup\":\"True\",\"hovertemplate\":\"Application_Type=%{x}\\u003cbr\\u003eLatency=%{y}\\u003cextra\\u003e\\u003c\\u002fextra\\u003e\",\"legendgroup\":\"Background_Download\",\"marker\":{\"color\":\"#19d3f3\"},\"name\":\"Background_Download\",\"notched\":false,\"offsetgroup\":\"Background_Download\",\"orientation\":\"v\",\"showlegend\":true,\"x\":[\"Background_Download\",\"Background_Download\",\"Background_Download\",\"Background_Download\",\"Background_Download\",\"Background_Download\",\"Background_Download\",\"Background_Download\",\"Background_Download\",\"Background_Download\",\"Background_Download\",\"Background_Download\",\"Background_Download\",\"Background_Download\",\"Background_Download\",\"Background_Download\",\"Background_Download\",\"Background_Download\",\"Background_Download\",\"Background_Download\",\"Background_Download\",\"Background_Download\",\"Background_Download\",\"Background_Download\",\"Background_Download\",\"Background_Download\",\"Background_Download\",\"Background_Download\",\"Background_Download\",\"Background_Download\",\"Background_Download\",\"Background_Download\",\"Background_Download\",\"Background_Download\",\"Background_Download\",\"Background_Download\",\"Background_Download\",\"Background_Download\",\"Background_Download\",\"Background_Download\",\"Background_Download\",\"Background_Download\",\"Background_Download\",\"Background_Download\",\"Background_Download\",\"Background_Download\",\"Background_Download\"],\"x0\":\" \",\"xaxis\":\"x\",\"y\":[50,48,47,46,45,46,45,44,43,42,44,43,44,46,45,47,48,49,50,51,52,53,54,55,56,57,58,59,60,61,62,63,64,65,66,67,68,69,70,71,72,73,74,75,76,77,78],\"y0\":\" \",\"yaxis\":\"y\",\"type\":\"box\"},{\"alignmentgroup\":\"True\",\"hovertemplate\":\"Application_Type=%{x}\\u003cbr\\u003eLatency=%{y}\\u003cextra\\u003e\\u003c\\u002fextra\\u003e\",\"legendgroup\":\"Web_Browsing\",\"marker\":{\"color\":\"#FF6692\"},\"name\":\"Web_Browsing\",\"notched\":false,\"offsetgroup\":\"Web_Browsing\",\"orientation\":\"v\",\"showlegend\":true,\"x\":[\"Web_Browsing\",\"Web_Browsing\",\"Web_Browsing\",\"Web_Browsing\",\"Web_Browsing\",\"Web_Browsing\",\"Web_Browsing\",\"Web_Browsing\",\"Web_Browsing\",\"Web_Browsing\",\"Web_Browsing\",\"Web_Browsing\",\"Web_Browsing\",\"Web_Browsing\",\"Web_Browsing\",\"Web_Browsing\",\"Web_Browsing\",\"Web_Browsing\",\"Web_Browsing\",\"Web_Browsing\",\"Web_Browsing\",\"Web_Browsing\",\"Web_Browsing\",\"Web_Browsing\",\"Web_Browsing\",\"Web_Browsing\",\"Web_Browsing\",\"Web_Browsing\",\"Web_Browsing\",\"Web_Browsing\",\"Web_Browsing\",\"Web_Browsing\",\"Web_Browsing\",\"Web_Browsing\",\"Web_Browsing\",\"Web_Browsing\",\"Web_Browsing\",\"Web_Browsing\",\"Web_Browsing\",\"Web_Browsing\",\"Web_Browsing\",\"Web_Browsing\",\"Web_Browsing\",\"Web_Browsing\",\"Web_Browsing\",\"Web_Browsing\",\"Web_Browsing\",\"Web_Browsing\"],\"x0\":\" \",\"xaxis\":\"x\",\"y\":[30,28,29,27,28,27,26,25,24,23,25,24,25,28,27,26,25,24,23,22,21,20,19,18,17,16,15,14,13,12,11,10,9,8,7,6,5,4,3,2,1,0,0,0,0,0,0,0],\"y0\":\" \",\"yaxis\":\"y\",\"type\":\"box\"},{\"alignmentgroup\":\"True\",\"hovertemplate\":\"Application_Type=%{x}\\u003cbr\\u003eLatency=%{y}\\u003cextra\\u003e\\u003c\\u002fextra\\u003e\",\"legendgroup\":\"IoT_Temperature\",\"marker\":{\"color\":\"#B6E880\"},\"name\":\"IoT_Temperature\",\"notched\":false,\"offsetgroup\":\"IoT_Temperature\",\"orientation\":\"v\",\"showlegend\":true,\"x\":[\"IoT_Temperature\",\"IoT_Temperature\",\"IoT_Temperature\",\"IoT_Temperature\",\"IoT_Temperature\",\"IoT_Temperature\",\"IoT_Temperature\",\"IoT_Temperature\",\"IoT_Temperature\",\"IoT_Temperature\",\"IoT_Temperature\",\"IoT_Temperature\",\"IoT_Temperature\"],\"x0\":\" \",\"xaxis\":\"x\",\"y\":[100,105,110,105,104,103,102,101,100,99,100,99,100],\"y0\":\" \",\"yaxis\":\"y\",\"type\":\"box\"},{\"alignmentgroup\":\"True\",\"hovertemplate\":\"Application_Type=%{x}\\u003cbr\\u003eLatency=%{y}\\u003cextra\\u003e\\u003c\\u002fextra\\u003e\",\"legendgroup\":\"Video_Streaming\",\"marker\":{\"color\":\"#FF97FF\"},\"name\":\"Video_Streaming\",\"notched\":false,\"offsetgroup\":\"Video_Streaming\",\"orientation\":\"v\",\"showlegend\":true,\"x\":[\"Video_Streaming\",\"Video_Streaming\",\"Video_Streaming\",\"Video_Streaming\",\"Video_Streaming\",\"Video_Streaming\",\"Video_Streaming\",\"Video_Streaming\",\"Video_Streaming\",\"Video_Streaming\",\"Video_Streaming\",\"Video_Streaming\",\"Video_Streaming\",\"Video_Streaming\",\"Video_Streaming\",\"Video_Streaming\",\"Video_Streaming\",\"Video_Streaming\",\"Video_Streaming\",\"Video_Streaming\",\"Video_Streaming\",\"Video_Streaming\",\"Video_Streaming\",\"Video_Streaming\",\"Video_Streaming\",\"Video_Streaming\",\"Video_Streaming\",\"Video_Streaming\",\"Video_Streaming\",\"Video_Streaming\",\"Video_Streaming\",\"Video_Streaming\",\"Video_Streaming\",\"Video_Streaming\",\"Video_Streaming\",\"Video_Streaming\",\"Video_Streaming\",\"Video_Streaming\",\"Video_Streaming\",\"Video_Streaming\",\"Video_Streaming\",\"Video_Streaming\",\"Video_Streaming\",\"Video_Streaming\",\"Video_Streaming\",\"Video_Streaming\",\"Video_Streaming\"],\"x0\":\" \",\"xaxis\":\"x\",\"y\":[35,34,33,32,31,32,31,30,29,28,29,30,29,29,28,30,31,30,29,31,32,33,34,35,36,37,38,39,40,41,42,43,44,45,46,47,48,49,50,51,52,53,54,55,56,57,58],\"y0\":\" \",\"yaxis\":\"y\",\"type\":\"box\"},{\"alignmentgroup\":\"True\",\"hovertemplate\":\"Application_Type=%{x}\\u003cbr\\u003eLatency=%{y}\\u003cextra\\u003e\\u003c\\u002fextra\\u003e\",\"legendgroup\":\"File_Download\",\"marker\":{\"color\":\"#FECB52\"},\"name\":\"File_Download\",\"notched\":false,\"offsetgroup\":\"File_Download\",\"orientation\":\"v\",\"showlegend\":true,\"x\":[\"File_Download\"],\"x0\":\" \",\"xaxis\":\"x\",\"y\":[45],\"y0\":\" \",\"yaxis\":\"y\",\"type\":\"box\"},{\"alignmentgroup\":\"True\",\"hovertemplate\":\"Application_Type=%{x}\\u003cbr\\u003eLatency=%{y}\\u003cextra\\u003e\\u003c\\u002fextra\\u003e\",\"legendgroup\":\"VoIP_Call\",\"marker\":{\"color\":\"#636efa\"},\"name\":\"VoIP_Call\",\"notched\":false,\"offsetgroup\":\"VoIP_Call\",\"orientation\":\"v\",\"showlegend\":true,\"x\":[\"VoIP_Call\",\"VoIP_Call\",\"VoIP_Call\",\"VoIP_Call\",\"VoIP_Call\",\"VoIP_Call\",\"VoIP_Call\",\"VoIP_Call\",\"VoIP_Call\",\"VoIP_Call\",\"VoIP_Call\",\"VoIP_Call\",\"VoIP_Call\",\"VoIP_Call\",\"VoIP_Call\",\"VoIP_Call\",\"VoIP_Call\",\"VoIP_Call\",\"VoIP_Call\",\"VoIP_Call\",\"VoIP_Call\",\"VoIP_Call\",\"VoIP_Call\",\"VoIP_Call\",\"VoIP_Call\",\"VoIP_Call\",\"VoIP_Call\",\"VoIP_Call\",\"VoIP_Call\",\"VoIP_Call\",\"VoIP_Call\",\"VoIP_Call\",\"VoIP_Call\",\"VoIP_Call\",\"VoIP_Call\",\"VoIP_Call\",\"VoIP_Call\",\"VoIP_Call\",\"VoIP_Call\",\"VoIP_Call\",\"VoIP_Call\",\"VoIP_Call\",\"VoIP_Call\",\"VoIP_Call\",\"VoIP_Call\",\"VoIP_Call\"],\"x0\":\" \",\"xaxis\":\"x\",\"y\":[22,21,20,20,21,20,19,18,17,18,19,18,19,20,21,22,23,24,25,26,27,28,29,30,31,32,33,34,35,36,37,38,39,40,41,42,43,44,45,46,47,48,49,50,51,52],\"y0\":\" \",\"yaxis\":\"y\",\"type\":\"box\"}],                        {\"template\":{\"data\":{\"histogram2dcontour\":[{\"type\":\"histogram2dcontour\",\"colorbar\":{\"outlinewidth\":0,\"ticks\":\"\"},\"colorscale\":[[0.0,\"#0d0887\"],[0.1111111111111111,\"#46039f\"],[0.2222222222222222,\"#7201a8\"],[0.3333333333333333,\"#9c179e\"],[0.4444444444444444,\"#bd3786\"],[0.5555555555555556,\"#d8576b\"],[0.6666666666666666,\"#ed7953\"],[0.7777777777777778,\"#fb9f3a\"],[0.8888888888888888,\"#fdca26\"],[1.0,\"#f0f921\"]]}],\"choropleth\":[{\"type\":\"choropleth\",\"colorbar\":{\"outlinewidth\":0,\"ticks\":\"\"}}],\"histogram2d\":[{\"type\":\"histogram2d\",\"colorbar\":{\"outlinewidth\":0,\"ticks\":\"\"},\"colorscale\":[[0.0,\"#0d0887\"],[0.1111111111111111,\"#46039f\"],[0.2222222222222222,\"#7201a8\"],[0.3333333333333333,\"#9c179e\"],[0.4444444444444444,\"#bd3786\"],[0.5555555555555556,\"#d8576b\"],[0.6666666666666666,\"#ed7953\"],[0.7777777777777778,\"#fb9f3a\"],[0.8888888888888888,\"#fdca26\"],[1.0,\"#f0f921\"]]}],\"heatmap\":[{\"type\":\"heatmap\",\"colorbar\":{\"outlinewidth\":0,\"ticks\":\"\"},\"colorscale\":[[0.0,\"#0d0887\"],[0.1111111111111111,\"#46039f\"],[0.2222222222222222,\"#7201a8\"],[0.3333333333333333,\"#9c179e\"],[0.4444444444444444,\"#bd3786\"],[0.5555555555555556,\"#d8576b\"],[0.6666666666666666,\"#ed7953\"],[0.7777777777777778,\"#fb9f3a\"],[0.8888888888888888,\"#fdca26\"],[1.0,\"#f0f921\"]]}],\"heatmapgl\":[{\"type\":\"heatmapgl\",\"colorbar\":{\"outlinewidth\":0,\"ticks\":\"\"},\"colorscale\":[[0.0,\"#0d0887\"],[0.1111111111111111,\"#46039f\"],[0.2222222222222222,\"#7201a8\"],[0.3333333333333333,\"#9c179e\"],[0.4444444444444444,\"#bd3786\"],[0.5555555555555556,\"#d8576b\"],[0.6666666666666666,\"#ed7953\"],[0.7777777777777778,\"#fb9f3a\"],[0.8888888888888888,\"#fdca26\"],[1.0,\"#f0f921\"]]}],\"contourcarpet\":[{\"type\":\"contourcarpet\",\"colorbar\":{\"outlinewidth\":0,\"ticks\":\"\"}}],\"contour\":[{\"type\":\"contour\",\"colorbar\":{\"outlinewidth\":0,\"ticks\":\"\"},\"colorscale\":[[0.0,\"#0d0887\"],[0.1111111111111111,\"#46039f\"],[0.2222222222222222,\"#7201a8\"],[0.3333333333333333,\"#9c179e\"],[0.4444444444444444,\"#bd3786\"],[0.5555555555555556,\"#d8576b\"],[0.6666666666666666,\"#ed7953\"],[0.7777777777777778,\"#fb9f3a\"],[0.8888888888888888,\"#fdca26\"],[1.0,\"#f0f921\"]]}],\"surface\":[{\"type\":\"surface\",\"colorbar\":{\"outlinewidth\":0,\"ticks\":\"\"},\"colorscale\":[[0.0,\"#0d0887\"],[0.1111111111111111,\"#46039f\"],[0.2222222222222222,\"#7201a8\"],[0.3333333333333333,\"#9c179e\"],[0.4444444444444444,\"#bd3786\"],[0.5555555555555556,\"#d8576b\"],[0.6666666666666666,\"#ed7953\"],[0.7777777777777778,\"#fb9f3a\"],[0.8888888888888888,\"#fdca26\"],[1.0,\"#f0f921\"]]}],\"mesh3d\":[{\"type\":\"mesh3d\",\"colorbar\":{\"outlinewidth\":0,\"ticks\":\"\"}}],\"scatter\":[{\"fillpattern\":{\"fillmode\":\"overlay\",\"size\":10,\"solidity\":0.2},\"type\":\"scatter\"}],\"parcoords\":[{\"type\":\"parcoords\",\"line\":{\"colorbar\":{\"outlinewidth\":0,\"ticks\":\"\"}}}],\"scatterpolargl\":[{\"type\":\"scatterpolargl\",\"marker\":{\"colorbar\":{\"outlinewidth\":0,\"ticks\":\"\"}}}],\"bar\":[{\"error_x\":{\"color\":\"#2a3f5f\"},\"error_y\":{\"color\":\"#2a3f5f\"},\"marker\":{\"line\":{\"color\":\"#E5ECF6\",\"width\":0.5},\"pattern\":{\"fillmode\":\"overlay\",\"size\":10,\"solidity\":0.2}},\"type\":\"bar\"}],\"scattergeo\":[{\"type\":\"scattergeo\",\"marker\":{\"colorbar\":{\"outlinewidth\":0,\"ticks\":\"\"}}}],\"scatterpolar\":[{\"type\":\"scatterpolar\",\"marker\":{\"colorbar\":{\"outlinewidth\":0,\"ticks\":\"\"}}}],\"histogram\":[{\"marker\":{\"pattern\":{\"fillmode\":\"overlay\",\"size\":10,\"solidity\":0.2}},\"type\":\"histogram\"}],\"scattergl\":[{\"type\":\"scattergl\",\"marker\":{\"colorbar\":{\"outlinewidth\":0,\"ticks\":\"\"}}}],\"scatter3d\":[{\"type\":\"scatter3d\",\"line\":{\"colorbar\":{\"outlinewidth\":0,\"ticks\":\"\"}},\"marker\":{\"colorbar\":{\"outlinewidth\":0,\"ticks\":\"\"}}}],\"scattermapbox\":[{\"type\":\"scattermapbox\",\"marker\":{\"colorbar\":{\"outlinewidth\":0,\"ticks\":\"\"}}}],\"scatterternary\":[{\"type\":\"scatterternary\",\"marker\":{\"colorbar\":{\"outlinewidth\":0,\"ticks\":\"\"}}}],\"scattercarpet\":[{\"type\":\"scattercarpet\",\"marker\":{\"colorbar\":{\"outlinewidth\":0,\"ticks\":\"\"}}}],\"carpet\":[{\"aaxis\":{\"endlinecolor\":\"#2a3f5f\",\"gridcolor\":\"white\",\"linecolor\":\"white\",\"minorgridcolor\":\"white\",\"startlinecolor\":\"#2a3f5f\"},\"baxis\":{\"endlinecolor\":\"#2a3f5f\",\"gridcolor\":\"white\",\"linecolor\":\"white\",\"minorgridcolor\":\"white\",\"startlinecolor\":\"#2a3f5f\"},\"type\":\"carpet\"}],\"table\":[{\"cells\":{\"fill\":{\"color\":\"#EBF0F8\"},\"line\":{\"color\":\"white\"}},\"header\":{\"fill\":{\"color\":\"#C8D4E3\"},\"line\":{\"color\":\"white\"}},\"type\":\"table\"}],\"barpolar\":[{\"marker\":{\"line\":{\"color\":\"#E5ECF6\",\"width\":0.5},\"pattern\":{\"fillmode\":\"overlay\",\"size\":10,\"solidity\":0.2}},\"type\":\"barpolar\"}],\"pie\":[{\"automargin\":true,\"type\":\"pie\"}]},\"layout\":{\"autotypenumbers\":\"strict\",\"colorway\":[\"#636efa\",\"#EF553B\",\"#00cc96\",\"#ab63fa\",\"#FFA15A\",\"#19d3f3\",\"#FF6692\",\"#B6E880\",\"#FF97FF\",\"#FECB52\"],\"font\":{\"color\":\"#2a3f5f\"},\"hovermode\":\"closest\",\"hoverlabel\":{\"align\":\"left\"},\"paper_bgcolor\":\"white\",\"plot_bgcolor\":\"#E5ECF6\",\"polar\":{\"bgcolor\":\"#E5ECF6\",\"angularaxis\":{\"gridcolor\":\"white\",\"linecolor\":\"white\",\"ticks\":\"\"},\"radialaxis\":{\"gridcolor\":\"white\",\"linecolor\":\"white\",\"ticks\":\"\"}},\"ternary\":{\"bgcolor\":\"#E5ECF6\",\"aaxis\":{\"gridcolor\":\"white\",\"linecolor\":\"white\",\"ticks\":\"\"},\"baxis\":{\"gridcolor\":\"white\",\"linecolor\":\"white\",\"ticks\":\"\"},\"caxis\":{\"gridcolor\":\"white\",\"linecolor\":\"white\",\"ticks\":\"\"}},\"coloraxis\":{\"colorbar\":{\"outlinewidth\":0,\"ticks\":\"\"}},\"colorscale\":{\"sequential\":[[0.0,\"#0d0887\"],[0.1111111111111111,\"#46039f\"],[0.2222222222222222,\"#7201a8\"],[0.3333333333333333,\"#9c179e\"],[0.4444444444444444,\"#bd3786\"],[0.5555555555555556,\"#d8576b\"],[0.6666666666666666,\"#ed7953\"],[0.7777777777777778,\"#fb9f3a\"],[0.8888888888888888,\"#fdca26\"],[1.0,\"#f0f921\"]],\"sequentialminus\":[[0.0,\"#0d0887\"],[0.1111111111111111,\"#46039f\"],[0.2222222222222222,\"#7201a8\"],[0.3333333333333333,\"#9c179e\"],[0.4444444444444444,\"#bd3786\"],[0.5555555555555556,\"#d8576b\"],[0.6666666666666666,\"#ed7953\"],[0.7777777777777778,\"#fb9f3a\"],[0.8888888888888888,\"#fdca26\"],[1.0,\"#f0f921\"]],\"diverging\":[[0,\"#8e0152\"],[0.1,\"#c51b7d\"],[0.2,\"#de77ae\"],[0.3,\"#f1b6da\"],[0.4,\"#fde0ef\"],[0.5,\"#f7f7f7\"],[0.6,\"#e6f5d0\"],[0.7,\"#b8e186\"],[0.8,\"#7fbc41\"],[0.9,\"#4d9221\"],[1,\"#276419\"]]},\"xaxis\":{\"gridcolor\":\"white\",\"linecolor\":\"white\",\"ticks\":\"\",\"title\":{\"standoff\":15},\"zerolinecolor\":\"white\",\"automargin\":true,\"zerolinewidth\":2},\"yaxis\":{\"gridcolor\":\"white\",\"linecolor\":\"white\",\"ticks\":\"\",\"title\":{\"standoff\":15},\"zerolinecolor\":\"white\",\"automargin\":true,\"zerolinewidth\":2},\"scene\":{\"xaxis\":{\"backgroundcolor\":\"#E5ECF6\",\"gridcolor\":\"white\",\"linecolor\":\"white\",\"showbackground\":true,\"ticks\":\"\",\"zerolinecolor\":\"white\",\"gridwidth\":2},\"yaxis\":{\"backgroundcolor\":\"#E5ECF6\",\"gridcolor\":\"white\",\"linecolor\":\"white\",\"showbackground\":true,\"ticks\":\"\",\"zerolinecolor\":\"white\",\"gridwidth\":2},\"zaxis\":{\"backgroundcolor\":\"#E5ECF6\",\"gridcolor\":\"white\",\"linecolor\":\"white\",\"showbackground\":true,\"ticks\":\"\",\"zerolinecolor\":\"white\",\"gridwidth\":2}},\"shapedefaults\":{\"line\":{\"color\":\"#2a3f5f\"}},\"annotationdefaults\":{\"arrowcolor\":\"#2a3f5f\",\"arrowhead\":0,\"arrowwidth\":1},\"geo\":{\"bgcolor\":\"white\",\"landcolor\":\"#E5ECF6\",\"subunitcolor\":\"white\",\"showland\":true,\"showlakes\":true,\"lakecolor\":\"white\"},\"title\":{\"x\":0.05},\"mapbox\":{\"style\":\"light\"}}},\"xaxis\":{\"anchor\":\"y\",\"domain\":[0.0,1.0],\"title\":{\"text\":\"Application_Type\"},\"categoryorder\":\"array\",\"categoryarray\":[\"Video_Call\",\"Voice_Call\",\"Streaming\",\"Emergency_Service\",\"Online_Gaming\",\"Background_Download\",\"Web_Browsing\",\"IoT_Temperature\",\"Video_Streaming\",\"File_Download\",\"VoIP_Call\"],\"tickangle\":45},\"yaxis\":{\"anchor\":\"x\",\"domain\":[0.0,1.0],\"title\":{\"text\":\"Latency\"}},\"legend\":{\"title\":{\"text\":\"Application_Type\"},\"tracegroupgap\":0},\"title\":{\"text\":\"Latency by Application Type\",\"x\":0.5},\"boxmode\":\"overlay\",\"width\":900,\"height\":600},                        {\"responsive\": true}                    ).then(function(){\n",
       "                            \n",
       "var gd = document.getElementById('e7421835-7ede-4477-b597-50952b3827b1');\n",
       "var x = new MutationObserver(function (mutations, observer) {{\n",
       "        var display = window.getComputedStyle(gd).display;\n",
       "        if (!display || display === 'none') {{\n",
       "            console.log([gd, 'removed!']);\n",
       "            Plotly.purge(gd);\n",
       "            observer.disconnect();\n",
       "        }}\n",
       "}});\n",
       "\n",
       "// Listen for the removal of the full notebook cells\n",
       "var notebookContainer = gd.closest('#notebook-container');\n",
       "if (notebookContainer) {{\n",
       "    x.observe(notebookContainer, {childList: true});\n",
       "}}\n",
       "\n",
       "// Listen for the clearing of the current output cell\n",
       "var outputEl = gd.closest('.output');\n",
       "if (outputEl) {{\n",
       "    x.observe(outputEl, {childList: true});\n",
       "}}\n",
       "\n",
       "                        })                };                });            </script>        </div>"
      ]
     },
     "metadata": {},
     "output_type": "display_data"
    }
   ],
   "source": [
    "import plotly.express as px\n",
    "\n",
    "# Assuming 'data' is a pandas DataFrame with columns 'Application_Type' and 'Latency'\n",
    "fig = px.box(data, x='Application_Type', y='Latency', color='Application_Type', title='Latency by Application Type')\n",
    "\n",
    "# Update layout for title and x-axis tick rotation\n",
    "fig.update_layout(\n",
    "    title={'text': 'Latency by Application Type', 'x': 0.5},\n",
    "    xaxis={'tickangle': 45},\n",
    "    width=900,\n",
    "    height=600\n",
    ")\n",
    "\n",
    "# Show the plot\n",
    "fig.show()"
   ]
  },
  {
   "cell_type": "code",
   "execution_count": 68,
   "id": "3bca0032-1e64-43e3-be74-c53e2860e5af",
   "metadata": {},
   "outputs": [
    {
     "data": {
      "application/vnd.plotly.v1+json": {
       "config": {
        "plotlyServerURL": "https://plot.ly"
       },
       "data": [
        {
         "alignmentgroup": "True",
         "hovertemplate": "Application_Type=%{x}<br>Signal_Strength=%{y}<extra></extra>",
         "legendgroup": "Video_Call",
         "marker": {
          "color": "#636efa"
         },
         "name": "Video_Call",
         "notched": false,
         "offsetgroup": "Video_Call",
         "orientation": "v",
         "showlegend": true,
         "type": "box",
         "x": [
          "Video_Call",
          "Video_Call",
          "Video_Call",
          "Video_Call",
          "Video_Call",
          "Video_Call",
          "Video_Call",
          "Video_Call",
          "Video_Call",
          "Video_Call",
          "Video_Call",
          "Video_Call",
          "Video_Call",
          "Video_Call",
          "Video_Call",
          "Video_Call",
          "Video_Call",
          "Video_Call",
          "Video_Call",
          "Video_Call",
          "Video_Call",
          "Video_Call",
          "Video_Call",
          "Video_Call",
          "Video_Call",
          "Video_Call",
          "Video_Call",
          "Video_Call",
          "Video_Call",
          "Video_Call",
          "Video_Call",
          "Video_Call",
          "Video_Call",
          "Video_Call",
          "Video_Call",
          "Video_Call",
          "Video_Call",
          "Video_Call",
          "Video_Call",
          "Video_Call",
          "Video_Call",
          "Video_Call",
          "Video_Call",
          "Video_Call",
          "Video_Call",
          "Video_Call",
          "Video_Call",
          "Video_Call",
          "Video_Call",
          "Video_Call",
          "Video_Call",
          "Video_Call",
          "Video_Call",
          "Video_Call",
          "Video_Call",
          "Video_Call",
          "Video_Call",
          "Video_Call"
         ],
         "x0": " ",
         "xaxis": "x",
         "y": [
          75,
          76,
          74,
          77,
          73,
          78,
          72,
          79,
          71,
          80,
          70,
          81,
          69,
          82,
          68,
          83,
          67,
          84,
          66,
          67,
          83,
          68,
          67,
          85,
          66,
          67,
          68,
          66,
          65,
          64,
          63,
          63,
          62,
          61,
          60,
          59,
          58,
          57,
          56,
          55,
          54,
          53,
          52,
          51,
          50,
          49,
          48,
          47,
          46,
          45,
          45,
          44,
          43,
          43,
          42,
          41,
          41,
          40
         ],
         "y0": " ",
         "yaxis": "y"
        },
        {
         "alignmentgroup": "True",
         "hovertemplate": "Application_Type=%{x}<br>Signal_Strength=%{y}<extra></extra>",
         "legendgroup": "Voice_Call",
         "marker": {
          "color": "#EF553B"
         },
         "name": "Voice_Call",
         "notched": false,
         "offsetgroup": "Voice_Call",
         "orientation": "v",
         "showlegend": true,
         "type": "box",
         "x": [
          "Voice_Call"
         ],
         "x0": " ",
         "xaxis": "x",
         "y": [
          80
         ],
         "y0": " ",
         "yaxis": "y"
        },
        {
         "alignmentgroup": "True",
         "hovertemplate": "Application_Type=%{x}<br>Signal_Strength=%{y}<extra></extra>",
         "legendgroup": "Streaming",
         "marker": {
          "color": "#00cc96"
         },
         "name": "Streaming",
         "notched": false,
         "offsetgroup": "Streaming",
         "orientation": "v",
         "showlegend": true,
         "type": "box",
         "x": [
          "Streaming",
          "Streaming",
          "Streaming",
          "Streaming",
          "Streaming",
          "Streaming",
          "Streaming",
          "Streaming",
          "Streaming",
          "Streaming",
          "Streaming",
          "Streaming",
          "Streaming",
          "Streaming",
          "Streaming",
          "Streaming",
          "Streaming",
          "Streaming",
          "Streaming",
          "Streaming",
          "Streaming",
          "Streaming",
          "Streaming",
          "Streaming",
          "Streaming",
          "Streaming",
          "Streaming",
          "Streaming",
          "Streaming",
          "Streaming",
          "Streaming",
          "Streaming",
          "Streaming",
          "Streaming",
          "Streaming",
          "Streaming",
          "Streaming",
          "Streaming",
          "Streaming",
          "Streaming",
          "Streaming",
          "Streaming",
          "Streaming",
          "Streaming",
          "Streaming",
          "Streaming",
          "Streaming"
         ],
         "x0": " ",
         "xaxis": "x",
         "y": [
          85,
          84,
          83,
          82,
          81,
          80,
          79,
          78,
          77,
          76,
          77,
          76,
          77,
          75,
          78,
          79,
          80,
          81,
          82,
          83,
          84,
          85,
          86,
          87,
          88,
          89,
          90,
          91,
          92,
          93,
          94,
          95,
          96,
          97,
          98,
          99,
          100,
          101,
          102,
          103,
          104,
          105,
          106,
          107,
          108,
          109,
          110
         ],
         "y0": " ",
         "yaxis": "y"
        },
        {
         "alignmentgroup": "True",
         "hovertemplate": "Application_Type=%{x}<br>Signal_Strength=%{y}<extra></extra>",
         "legendgroup": "Emergency_Service",
         "marker": {
          "color": "#ab63fa"
         },
         "name": "Emergency_Service",
         "notched": false,
         "offsetgroup": "Emergency_Service",
         "orientation": "v",
         "showlegend": true,
         "type": "box",
         "x": [
          "Emergency_Service",
          "Emergency_Service",
          "Emergency_Service",
          "Emergency_Service",
          "Emergency_Service",
          "Emergency_Service",
          "Emergency_Service",
          "Emergency_Service",
          "Emergency_Service",
          "Emergency_Service",
          "Emergency_Service",
          "Emergency_Service",
          "Emergency_Service",
          "Emergency_Service",
          "Emergency_Service",
          "Emergency_Service",
          "Emergency_Service",
          "Emergency_Service",
          "Emergency_Service",
          "Emergency_Service",
          "Emergency_Service",
          "Emergency_Service",
          "Emergency_Service",
          "Emergency_Service",
          "Emergency_Service",
          "Emergency_Service",
          "Emergency_Service",
          "Emergency_Service",
          "Emergency_Service",
          "Emergency_Service",
          "Emergency_Service",
          "Emergency_Service",
          "Emergency_Service",
          "Emergency_Service",
          "Emergency_Service",
          "Emergency_Service",
          "Emergency_Service",
          "Emergency_Service",
          "Emergency_Service",
          "Emergency_Service",
          "Emergency_Service",
          "Emergency_Service",
          "Emergency_Service",
          "Emergency_Service",
          "Emergency_Service",
          "Emergency_Service",
          "Emergency_Service"
         ],
         "x0": " ",
         "xaxis": "x",
         "y": [
          70,
          69,
          68,
          67,
          66,
          65,
          64,
          63,
          62,
          61,
          62,
          61,
          62,
          60,
          59,
          58,
          58,
          57,
          57,
          56,
          55,
          54,
          54,
          53,
          53,
          52,
          52,
          51,
          50,
          50,
          49,
          49,
          48,
          48,
          47,
          47,
          46,
          46,
          45,
          44,
          44,
          43,
          42,
          42,
          41,
          40,
          40
         ],
         "y0": " ",
         "yaxis": "y"
        },
        {
         "alignmentgroup": "True",
         "hovertemplate": "Application_Type=%{x}<br>Signal_Strength=%{y}<extra></extra>",
         "legendgroup": "Online_Gaming",
         "marker": {
          "color": "#FFA15A"
         },
         "name": "Online_Gaming",
         "notched": false,
         "offsetgroup": "Online_Gaming",
         "orientation": "v",
         "showlegend": true,
         "type": "box",
         "x": [
          "Online_Gaming",
          "Online_Gaming",
          "Online_Gaming",
          "Online_Gaming",
          "Online_Gaming",
          "Online_Gaming",
          "Online_Gaming",
          "Online_Gaming",
          "Online_Gaming",
          "Online_Gaming",
          "Online_Gaming",
          "Online_Gaming",
          "Online_Gaming",
          "Online_Gaming",
          "Online_Gaming",
          "Online_Gaming",
          "Online_Gaming",
          "Online_Gaming",
          "Online_Gaming",
          "Online_Gaming",
          "Online_Gaming",
          "Online_Gaming",
          "Online_Gaming",
          "Online_Gaming",
          "Online_Gaming",
          "Online_Gaming",
          "Online_Gaming",
          "Online_Gaming",
          "Online_Gaming",
          "Online_Gaming",
          "Online_Gaming",
          "Online_Gaming",
          "Online_Gaming",
          "Online_Gaming",
          "Online_Gaming",
          "Online_Gaming",
          "Online_Gaming",
          "Online_Gaming",
          "Online_Gaming",
          "Online_Gaming",
          "Online_Gaming",
          "Online_Gaming",
          "Online_Gaming",
          "Online_Gaming",
          "Online_Gaming"
         ],
         "x0": " ",
         "xaxis": "x",
         "y": [
          78,
          79,
          80,
          79,
          78,
          77,
          76,
          75,
          74,
          73,
          74,
          72,
          74,
          72,
          71,
          70,
          69,
          68,
          67,
          66,
          65,
          64,
          63,
          62,
          61,
          60,
          59,
          58,
          57,
          56,
          55,
          54,
          53,
          52,
          51,
          50,
          49,
          48,
          47,
          46,
          45,
          44,
          43,
          42,
          41
         ],
         "y0": " ",
         "yaxis": "y"
        },
        {
         "alignmentgroup": "True",
         "hovertemplate": "Application_Type=%{x}<br>Signal_Strength=%{y}<extra></extra>",
         "legendgroup": "Background_Download",
         "marker": {
          "color": "#19d3f3"
         },
         "name": "Background_Download",
         "notched": false,
         "offsetgroup": "Background_Download",
         "orientation": "v",
         "showlegend": true,
         "type": "box",
         "x": [
          "Background_Download",
          "Background_Download",
          "Background_Download",
          "Background_Download",
          "Background_Download",
          "Background_Download",
          "Background_Download",
          "Background_Download",
          "Background_Download",
          "Background_Download",
          "Background_Download",
          "Background_Download",
          "Background_Download",
          "Background_Download",
          "Background_Download",
          "Background_Download",
          "Background_Download",
          "Background_Download",
          "Background_Download",
          "Background_Download",
          "Background_Download",
          "Background_Download",
          "Background_Download",
          "Background_Download",
          "Background_Download",
          "Background_Download",
          "Background_Download",
          "Background_Download",
          "Background_Download",
          "Background_Download",
          "Background_Download",
          "Background_Download",
          "Background_Download",
          "Background_Download",
          "Background_Download",
          "Background_Download",
          "Background_Download",
          "Background_Download",
          "Background_Download",
          "Background_Download",
          "Background_Download",
          "Background_Download",
          "Background_Download",
          "Background_Download",
          "Background_Download",
          "Background_Download",
          "Background_Download"
         ],
         "x0": " ",
         "xaxis": "x",
         "y": [
          90,
          91,
          92,
          93,
          94,
          95,
          96,
          97,
          98,
          99,
          97,
          98,
          97,
          99,
          96,
          95,
          94,
          97,
          98,
          98,
          99,
          100,
          100,
          101,
          102,
          102,
          103,
          104,
          105,
          106,
          107,
          108,
          109,
          110,
          111,
          112,
          113,
          114,
          115,
          116,
          117,
          118,
          119,
          120,
          121,
          122,
          123
         ],
         "y0": " ",
         "yaxis": "y"
        },
        {
         "alignmentgroup": "True",
         "hovertemplate": "Application_Type=%{x}<br>Signal_Strength=%{y}<extra></extra>",
         "legendgroup": "Web_Browsing",
         "marker": {
          "color": "#FF6692"
         },
         "name": "Web_Browsing",
         "notched": false,
         "offsetgroup": "Web_Browsing",
         "orientation": "v",
         "showlegend": true,
         "type": "box",
         "x": [
          "Web_Browsing",
          "Web_Browsing",
          "Web_Browsing",
          "Web_Browsing",
          "Web_Browsing",
          "Web_Browsing",
          "Web_Browsing",
          "Web_Browsing",
          "Web_Browsing",
          "Web_Browsing",
          "Web_Browsing",
          "Web_Browsing",
          "Web_Browsing",
          "Web_Browsing",
          "Web_Browsing",
          "Web_Browsing",
          "Web_Browsing",
          "Web_Browsing",
          "Web_Browsing",
          "Web_Browsing",
          "Web_Browsing",
          "Web_Browsing",
          "Web_Browsing",
          "Web_Browsing",
          "Web_Browsing",
          "Web_Browsing",
          "Web_Browsing",
          "Web_Browsing",
          "Web_Browsing",
          "Web_Browsing",
          "Web_Browsing",
          "Web_Browsing",
          "Web_Browsing",
          "Web_Browsing",
          "Web_Browsing",
          "Web_Browsing",
          "Web_Browsing",
          "Web_Browsing",
          "Web_Browsing",
          "Web_Browsing",
          "Web_Browsing",
          "Web_Browsing",
          "Web_Browsing",
          "Web_Browsing",
          "Web_Browsing",
          "Web_Browsing",
          "Web_Browsing",
          "Web_Browsing"
         ],
         "x0": " ",
         "xaxis": "x",
         "y": [
          88,
          87,
          86,
          88,
          87,
          89,
          90,
          91,
          92,
          93,
          92,
          94,
          92,
          85,
          94,
          95,
          96,
          97,
          97,
          98,
          98,
          99,
          100,
          101,
          101,
          102,
          102,
          103,
          103,
          104,
          104,
          105,
          105,
          105,
          106,
          106,
          107,
          107,
          108,
          108,
          109,
          109,
          110,
          110,
          111,
          111,
          112,
          113
         ],
         "y0": " ",
         "yaxis": "y"
        },
        {
         "alignmentgroup": "True",
         "hovertemplate": "Application_Type=%{x}<br>Signal_Strength=%{y}<extra></extra>",
         "legendgroup": "IoT_Temperature",
         "marker": {
          "color": "#B6E880"
         },
         "name": "IoT_Temperature",
         "notched": false,
         "offsetgroup": "IoT_Temperature",
         "orientation": "v",
         "showlegend": true,
         "type": "box",
         "x": [
          "IoT_Temperature",
          "IoT_Temperature",
          "IoT_Temperature",
          "IoT_Temperature",
          "IoT_Temperature",
          "IoT_Temperature",
          "IoT_Temperature",
          "IoT_Temperature",
          "IoT_Temperature",
          "IoT_Temperature",
          "IoT_Temperature",
          "IoT_Temperature",
          "IoT_Temperature"
         ],
         "x0": " ",
         "xaxis": "x",
         "y": [
          95,
          96,
          97,
          98,
          99,
          100,
          101,
          102,
          103,
          104,
          103,
          102,
          103
         ],
         "y0": " ",
         "yaxis": "y"
        },
        {
         "alignmentgroup": "True",
         "hovertemplate": "Application_Type=%{x}<br>Signal_Strength=%{y}<extra></extra>",
         "legendgroup": "Video_Streaming",
         "marker": {
          "color": "#FF97FF"
         },
         "name": "Video_Streaming",
         "notched": false,
         "offsetgroup": "Video_Streaming",
         "orientation": "v",
         "showlegend": true,
         "type": "box",
         "x": [
          "Video_Streaming",
          "Video_Streaming",
          "Video_Streaming",
          "Video_Streaming",
          "Video_Streaming",
          "Video_Streaming",
          "Video_Streaming",
          "Video_Streaming",
          "Video_Streaming",
          "Video_Streaming",
          "Video_Streaming",
          "Video_Streaming",
          "Video_Streaming",
          "Video_Streaming",
          "Video_Streaming",
          "Video_Streaming",
          "Video_Streaming",
          "Video_Streaming",
          "Video_Streaming",
          "Video_Streaming",
          "Video_Streaming",
          "Video_Streaming",
          "Video_Streaming",
          "Video_Streaming",
          "Video_Streaming",
          "Video_Streaming",
          "Video_Streaming",
          "Video_Streaming",
          "Video_Streaming",
          "Video_Streaming",
          "Video_Streaming",
          "Video_Streaming",
          "Video_Streaming",
          "Video_Streaming",
          "Video_Streaming",
          "Video_Streaming",
          "Video_Streaming",
          "Video_Streaming",
          "Video_Streaming",
          "Video_Streaming",
          "Video_Streaming",
          "Video_Streaming",
          "Video_Streaming",
          "Video_Streaming",
          "Video_Streaming",
          "Video_Streaming",
          "Video_Streaming"
         ],
         "x0": " ",
         "xaxis": "x",
         "y": [
          82,
          83,
          84,
          85,
          86,
          87,
          88,
          89,
          90,
          91,
          90,
          89,
          90,
          80,
          81,
          82,
          83,
          84,
          85,
          86,
          87,
          88,
          89,
          90,
          91,
          92,
          93,
          94,
          95,
          96,
          97,
          98,
          99,
          100,
          101,
          102,
          103,
          104,
          105,
          106,
          107,
          108,
          109,
          110,
          111,
          112,
          113
         ],
         "y0": " ",
         "yaxis": "y"
        },
        {
         "alignmentgroup": "True",
         "hovertemplate": "Application_Type=%{x}<br>Signal_Strength=%{y}<extra></extra>",
         "legendgroup": "File_Download",
         "marker": {
          "color": "#FECB52"
         },
         "name": "File_Download",
         "notched": false,
         "offsetgroup": "File_Download",
         "orientation": "v",
         "showlegend": true,
         "type": "box",
         "x": [
          "File_Download"
         ],
         "x0": " ",
         "xaxis": "x",
         "y": [
          75
         ],
         "y0": " ",
         "yaxis": "y"
        },
        {
         "alignmentgroup": "True",
         "hovertemplate": "Application_Type=%{x}<br>Signal_Strength=%{y}<extra></extra>",
         "legendgroup": "VoIP_Call",
         "marker": {
          "color": "#636efa"
         },
         "name": "VoIP_Call",
         "notched": false,
         "offsetgroup": "VoIP_Call",
         "orientation": "v",
         "showlegend": true,
         "type": "box",
         "x": [
          "VoIP_Call",
          "VoIP_Call",
          "VoIP_Call",
          "VoIP_Call",
          "VoIP_Call",
          "VoIP_Call",
          "VoIP_Call",
          "VoIP_Call",
          "VoIP_Call",
          "VoIP_Call",
          "VoIP_Call",
          "VoIP_Call",
          "VoIP_Call",
          "VoIP_Call",
          "VoIP_Call",
          "VoIP_Call",
          "VoIP_Call",
          "VoIP_Call",
          "VoIP_Call",
          "VoIP_Call",
          "VoIP_Call",
          "VoIP_Call",
          "VoIP_Call",
          "VoIP_Call",
          "VoIP_Call",
          "VoIP_Call",
          "VoIP_Call",
          "VoIP_Call",
          "VoIP_Call",
          "VoIP_Call",
          "VoIP_Call",
          "VoIP_Call",
          "VoIP_Call",
          "VoIP_Call",
          "VoIP_Call",
          "VoIP_Call",
          "VoIP_Call",
          "VoIP_Call",
          "VoIP_Call",
          "VoIP_Call",
          "VoIP_Call",
          "VoIP_Call",
          "VoIP_Call",
          "VoIP_Call",
          "VoIP_Call",
          "VoIP_Call"
         ],
         "x0": " ",
         "xaxis": "x",
         "y": [
          81,
          82,
          83,
          84,
          85,
          86,
          87,
          88,
          89,
          86,
          85,
          88,
          86,
          88,
          87,
          86,
          85,
          84,
          83,
          82,
          81,
          80,
          79,
          78,
          77,
          76,
          75,
          74,
          73,
          72,
          71,
          70,
          69,
          68,
          67,
          66,
          65,
          64,
          63,
          62,
          61,
          60,
          59,
          58,
          57,
          56
         ],
         "y0": " ",
         "yaxis": "y"
        }
       ],
       "layout": {
        "boxmode": "overlay",
        "height": 600,
        "legend": {
         "title": {
          "text": "Application_Type"
         },
         "tracegroupgap": 0
        },
        "template": {
         "data": {
          "bar": [
           {
            "error_x": {
             "color": "#2a3f5f"
            },
            "error_y": {
             "color": "#2a3f5f"
            },
            "marker": {
             "line": {
              "color": "#E5ECF6",
              "width": 0.5
             },
             "pattern": {
              "fillmode": "overlay",
              "size": 10,
              "solidity": 0.2
             }
            },
            "type": "bar"
           }
          ],
          "barpolar": [
           {
            "marker": {
             "line": {
              "color": "#E5ECF6",
              "width": 0.5
             },
             "pattern": {
              "fillmode": "overlay",
              "size": 10,
              "solidity": 0.2
             }
            },
            "type": "barpolar"
           }
          ],
          "carpet": [
           {
            "aaxis": {
             "endlinecolor": "#2a3f5f",
             "gridcolor": "white",
             "linecolor": "white",
             "minorgridcolor": "white",
             "startlinecolor": "#2a3f5f"
            },
            "baxis": {
             "endlinecolor": "#2a3f5f",
             "gridcolor": "white",
             "linecolor": "white",
             "minorgridcolor": "white",
             "startlinecolor": "#2a3f5f"
            },
            "type": "carpet"
           }
          ],
          "choropleth": [
           {
            "colorbar": {
             "outlinewidth": 0,
             "ticks": ""
            },
            "type": "choropleth"
           }
          ],
          "contour": [
           {
            "colorbar": {
             "outlinewidth": 0,
             "ticks": ""
            },
            "colorscale": [
             [
              0,
              "#0d0887"
             ],
             [
              0.1111111111111111,
              "#46039f"
             ],
             [
              0.2222222222222222,
              "#7201a8"
             ],
             [
              0.3333333333333333,
              "#9c179e"
             ],
             [
              0.4444444444444444,
              "#bd3786"
             ],
             [
              0.5555555555555556,
              "#d8576b"
             ],
             [
              0.6666666666666666,
              "#ed7953"
             ],
             [
              0.7777777777777778,
              "#fb9f3a"
             ],
             [
              0.8888888888888888,
              "#fdca26"
             ],
             [
              1,
              "#f0f921"
             ]
            ],
            "type": "contour"
           }
          ],
          "contourcarpet": [
           {
            "colorbar": {
             "outlinewidth": 0,
             "ticks": ""
            },
            "type": "contourcarpet"
           }
          ],
          "heatmap": [
           {
            "colorbar": {
             "outlinewidth": 0,
             "ticks": ""
            },
            "colorscale": [
             [
              0,
              "#0d0887"
             ],
             [
              0.1111111111111111,
              "#46039f"
             ],
             [
              0.2222222222222222,
              "#7201a8"
             ],
             [
              0.3333333333333333,
              "#9c179e"
             ],
             [
              0.4444444444444444,
              "#bd3786"
             ],
             [
              0.5555555555555556,
              "#d8576b"
             ],
             [
              0.6666666666666666,
              "#ed7953"
             ],
             [
              0.7777777777777778,
              "#fb9f3a"
             ],
             [
              0.8888888888888888,
              "#fdca26"
             ],
             [
              1,
              "#f0f921"
             ]
            ],
            "type": "heatmap"
           }
          ],
          "heatmapgl": [
           {
            "colorbar": {
             "outlinewidth": 0,
             "ticks": ""
            },
            "colorscale": [
             [
              0,
              "#0d0887"
             ],
             [
              0.1111111111111111,
              "#46039f"
             ],
             [
              0.2222222222222222,
              "#7201a8"
             ],
             [
              0.3333333333333333,
              "#9c179e"
             ],
             [
              0.4444444444444444,
              "#bd3786"
             ],
             [
              0.5555555555555556,
              "#d8576b"
             ],
             [
              0.6666666666666666,
              "#ed7953"
             ],
             [
              0.7777777777777778,
              "#fb9f3a"
             ],
             [
              0.8888888888888888,
              "#fdca26"
             ],
             [
              1,
              "#f0f921"
             ]
            ],
            "type": "heatmapgl"
           }
          ],
          "histogram": [
           {
            "marker": {
             "pattern": {
              "fillmode": "overlay",
              "size": 10,
              "solidity": 0.2
             }
            },
            "type": "histogram"
           }
          ],
          "histogram2d": [
           {
            "colorbar": {
             "outlinewidth": 0,
             "ticks": ""
            },
            "colorscale": [
             [
              0,
              "#0d0887"
             ],
             [
              0.1111111111111111,
              "#46039f"
             ],
             [
              0.2222222222222222,
              "#7201a8"
             ],
             [
              0.3333333333333333,
              "#9c179e"
             ],
             [
              0.4444444444444444,
              "#bd3786"
             ],
             [
              0.5555555555555556,
              "#d8576b"
             ],
             [
              0.6666666666666666,
              "#ed7953"
             ],
             [
              0.7777777777777778,
              "#fb9f3a"
             ],
             [
              0.8888888888888888,
              "#fdca26"
             ],
             [
              1,
              "#f0f921"
             ]
            ],
            "type": "histogram2d"
           }
          ],
          "histogram2dcontour": [
           {
            "colorbar": {
             "outlinewidth": 0,
             "ticks": ""
            },
            "colorscale": [
             [
              0,
              "#0d0887"
             ],
             [
              0.1111111111111111,
              "#46039f"
             ],
             [
              0.2222222222222222,
              "#7201a8"
             ],
             [
              0.3333333333333333,
              "#9c179e"
             ],
             [
              0.4444444444444444,
              "#bd3786"
             ],
             [
              0.5555555555555556,
              "#d8576b"
             ],
             [
              0.6666666666666666,
              "#ed7953"
             ],
             [
              0.7777777777777778,
              "#fb9f3a"
             ],
             [
              0.8888888888888888,
              "#fdca26"
             ],
             [
              1,
              "#f0f921"
             ]
            ],
            "type": "histogram2dcontour"
           }
          ],
          "mesh3d": [
           {
            "colorbar": {
             "outlinewidth": 0,
             "ticks": ""
            },
            "type": "mesh3d"
           }
          ],
          "parcoords": [
           {
            "line": {
             "colorbar": {
              "outlinewidth": 0,
              "ticks": ""
             }
            },
            "type": "parcoords"
           }
          ],
          "pie": [
           {
            "automargin": true,
            "type": "pie"
           }
          ],
          "scatter": [
           {
            "fillpattern": {
             "fillmode": "overlay",
             "size": 10,
             "solidity": 0.2
            },
            "type": "scatter"
           }
          ],
          "scatter3d": [
           {
            "line": {
             "colorbar": {
              "outlinewidth": 0,
              "ticks": ""
             }
            },
            "marker": {
             "colorbar": {
              "outlinewidth": 0,
              "ticks": ""
             }
            },
            "type": "scatter3d"
           }
          ],
          "scattercarpet": [
           {
            "marker": {
             "colorbar": {
              "outlinewidth": 0,
              "ticks": ""
             }
            },
            "type": "scattercarpet"
           }
          ],
          "scattergeo": [
           {
            "marker": {
             "colorbar": {
              "outlinewidth": 0,
              "ticks": ""
             }
            },
            "type": "scattergeo"
           }
          ],
          "scattergl": [
           {
            "marker": {
             "colorbar": {
              "outlinewidth": 0,
              "ticks": ""
             }
            },
            "type": "scattergl"
           }
          ],
          "scattermapbox": [
           {
            "marker": {
             "colorbar": {
              "outlinewidth": 0,
              "ticks": ""
             }
            },
            "type": "scattermapbox"
           }
          ],
          "scatterpolar": [
           {
            "marker": {
             "colorbar": {
              "outlinewidth": 0,
              "ticks": ""
             }
            },
            "type": "scatterpolar"
           }
          ],
          "scatterpolargl": [
           {
            "marker": {
             "colorbar": {
              "outlinewidth": 0,
              "ticks": ""
             }
            },
            "type": "scatterpolargl"
           }
          ],
          "scatterternary": [
           {
            "marker": {
             "colorbar": {
              "outlinewidth": 0,
              "ticks": ""
             }
            },
            "type": "scatterternary"
           }
          ],
          "surface": [
           {
            "colorbar": {
             "outlinewidth": 0,
             "ticks": ""
            },
            "colorscale": [
             [
              0,
              "#0d0887"
             ],
             [
              0.1111111111111111,
              "#46039f"
             ],
             [
              0.2222222222222222,
              "#7201a8"
             ],
             [
              0.3333333333333333,
              "#9c179e"
             ],
             [
              0.4444444444444444,
              "#bd3786"
             ],
             [
              0.5555555555555556,
              "#d8576b"
             ],
             [
              0.6666666666666666,
              "#ed7953"
             ],
             [
              0.7777777777777778,
              "#fb9f3a"
             ],
             [
              0.8888888888888888,
              "#fdca26"
             ],
             [
              1,
              "#f0f921"
             ]
            ],
            "type": "surface"
           }
          ],
          "table": [
           {
            "cells": {
             "fill": {
              "color": "#EBF0F8"
             },
             "line": {
              "color": "white"
             }
            },
            "header": {
             "fill": {
              "color": "#C8D4E3"
             },
             "line": {
              "color": "white"
             }
            },
            "type": "table"
           }
          ]
         },
         "layout": {
          "annotationdefaults": {
           "arrowcolor": "#2a3f5f",
           "arrowhead": 0,
           "arrowwidth": 1
          },
          "autotypenumbers": "strict",
          "coloraxis": {
           "colorbar": {
            "outlinewidth": 0,
            "ticks": ""
           }
          },
          "colorscale": {
           "diverging": [
            [
             0,
             "#8e0152"
            ],
            [
             0.1,
             "#c51b7d"
            ],
            [
             0.2,
             "#de77ae"
            ],
            [
             0.3,
             "#f1b6da"
            ],
            [
             0.4,
             "#fde0ef"
            ],
            [
             0.5,
             "#f7f7f7"
            ],
            [
             0.6,
             "#e6f5d0"
            ],
            [
             0.7,
             "#b8e186"
            ],
            [
             0.8,
             "#7fbc41"
            ],
            [
             0.9,
             "#4d9221"
            ],
            [
             1,
             "#276419"
            ]
           ],
           "sequential": [
            [
             0,
             "#0d0887"
            ],
            [
             0.1111111111111111,
             "#46039f"
            ],
            [
             0.2222222222222222,
             "#7201a8"
            ],
            [
             0.3333333333333333,
             "#9c179e"
            ],
            [
             0.4444444444444444,
             "#bd3786"
            ],
            [
             0.5555555555555556,
             "#d8576b"
            ],
            [
             0.6666666666666666,
             "#ed7953"
            ],
            [
             0.7777777777777778,
             "#fb9f3a"
            ],
            [
             0.8888888888888888,
             "#fdca26"
            ],
            [
             1,
             "#f0f921"
            ]
           ],
           "sequentialminus": [
            [
             0,
             "#0d0887"
            ],
            [
             0.1111111111111111,
             "#46039f"
            ],
            [
             0.2222222222222222,
             "#7201a8"
            ],
            [
             0.3333333333333333,
             "#9c179e"
            ],
            [
             0.4444444444444444,
             "#bd3786"
            ],
            [
             0.5555555555555556,
             "#d8576b"
            ],
            [
             0.6666666666666666,
             "#ed7953"
            ],
            [
             0.7777777777777778,
             "#fb9f3a"
            ],
            [
             0.8888888888888888,
             "#fdca26"
            ],
            [
             1,
             "#f0f921"
            ]
           ]
          },
          "colorway": [
           "#636efa",
           "#EF553B",
           "#00cc96",
           "#ab63fa",
           "#FFA15A",
           "#19d3f3",
           "#FF6692",
           "#B6E880",
           "#FF97FF",
           "#FECB52"
          ],
          "font": {
           "color": "#2a3f5f"
          },
          "geo": {
           "bgcolor": "white",
           "lakecolor": "white",
           "landcolor": "#E5ECF6",
           "showlakes": true,
           "showland": true,
           "subunitcolor": "white"
          },
          "hoverlabel": {
           "align": "left"
          },
          "hovermode": "closest",
          "mapbox": {
           "style": "light"
          },
          "paper_bgcolor": "white",
          "plot_bgcolor": "#E5ECF6",
          "polar": {
           "angularaxis": {
            "gridcolor": "white",
            "linecolor": "white",
            "ticks": ""
           },
           "bgcolor": "#E5ECF6",
           "radialaxis": {
            "gridcolor": "white",
            "linecolor": "white",
            "ticks": ""
           }
          },
          "scene": {
           "xaxis": {
            "backgroundcolor": "#E5ECF6",
            "gridcolor": "white",
            "gridwidth": 2,
            "linecolor": "white",
            "showbackground": true,
            "ticks": "",
            "zerolinecolor": "white"
           },
           "yaxis": {
            "backgroundcolor": "#E5ECF6",
            "gridcolor": "white",
            "gridwidth": 2,
            "linecolor": "white",
            "showbackground": true,
            "ticks": "",
            "zerolinecolor": "white"
           },
           "zaxis": {
            "backgroundcolor": "#E5ECF6",
            "gridcolor": "white",
            "gridwidth": 2,
            "linecolor": "white",
            "showbackground": true,
            "ticks": "",
            "zerolinecolor": "white"
           }
          },
          "shapedefaults": {
           "line": {
            "color": "#2a3f5f"
           }
          },
          "ternary": {
           "aaxis": {
            "gridcolor": "white",
            "linecolor": "white",
            "ticks": ""
           },
           "baxis": {
            "gridcolor": "white",
            "linecolor": "white",
            "ticks": ""
           },
           "bgcolor": "#E5ECF6",
           "caxis": {
            "gridcolor": "white",
            "linecolor": "white",
            "ticks": ""
           }
          },
          "title": {
           "x": 0.05
          },
          "xaxis": {
           "automargin": true,
           "gridcolor": "white",
           "linecolor": "white",
           "ticks": "",
           "title": {
            "standoff": 15
           },
           "zerolinecolor": "white",
           "zerolinewidth": 2
          },
          "yaxis": {
           "automargin": true,
           "gridcolor": "white",
           "linecolor": "white",
           "ticks": "",
           "title": {
            "standoff": 15
           },
           "zerolinecolor": "white",
           "zerolinewidth": 2
          }
         }
        },
        "title": {
         "text": "Signal_Strength by Application Type",
         "x": 0.5
        },
        "width": 900,
        "xaxis": {
         "anchor": "y",
         "autorange": true,
         "categoryarray": [
          "Video_Call",
          "Voice_Call",
          "Streaming",
          "Emergency_Service",
          "Online_Gaming",
          "Background_Download",
          "Web_Browsing",
          "IoT_Temperature",
          "Video_Streaming",
          "File_Download",
          "VoIP_Call"
         ],
         "categoryorder": "array",
         "domain": [
          0,
          1
         ],
         "range": [
          -0.5,
          10.5
         ],
         "tickangle": 45,
         "title": {
          "text": "Application_Type"
         },
         "type": "category"
        },
        "yaxis": {
         "anchor": "x",
         "autorange": true,
         "domain": [
          0,
          1
         ],
         "range": [
          35.388888888888886,
          127.61111111111111
         ],
         "title": {
          "text": "Signal_Strength"
         },
         "type": "linear"
        }
       }
      },
      "image/png": "[encoded data removed]",
      "text/html": [
       "<div>                            <div id=\"d8f0f0ac-e13c-439d-b68b-f9ba11824411\" class=\"plotly-graph-div\" style=\"height:600px; width:900px;\"></div>            <script type=\"text/javascript\">                require([\"plotly\"], function(Plotly) {                    window.PLOTLYENV=window.PLOTLYENV || {};                                    if (document.getElementById(\"d8f0f0ac-e13c-439d-b68b-f9ba11824411\")) {                    Plotly.newPlot(                        \"d8f0f0ac-e13c-439d-b68b-f9ba11824411\",                        [{\"alignmentgroup\":\"True\",\"hovertemplate\":\"Application_Type=%{x}\\u003cbr\\u003eSignal_Strength=%{y}\\u003cextra\\u003e\\u003c\\u002fextra\\u003e\",\"legendgroup\":\"Video_Call\",\"marker\":{\"color\":\"#636efa\"},\"name\":\"Video_Call\",\"notched\":false,\"offsetgroup\":\"Video_Call\",\"orientation\":\"v\",\"showlegend\":true,\"x\":[\"Video_Call\",\"Video_Call\",\"Video_Call\",\"Video_Call\",\"Video_Call\",\"Video_Call\",\"Video_Call\",\"Video_Call\",\"Video_Call\",\"Video_Call\",\"Video_Call\",\"Video_Call\",\"Video_Call\",\"Video_Call\",\"Video_Call\",\"Video_Call\",\"Video_Call\",\"Video_Call\",\"Video_Call\",\"Video_Call\",\"Video_Call\",\"Video_Call\",\"Video_Call\",\"Video_Call\",\"Video_Call\",\"Video_Call\",\"Video_Call\",\"Video_Call\",\"Video_Call\",\"Video_Call\",\"Video_Call\",\"Video_Call\",\"Video_Call\",\"Video_Call\",\"Video_Call\",\"Video_Call\",\"Video_Call\",\"Video_Call\",\"Video_Call\",\"Video_Call\",\"Video_Call\",\"Video_Call\",\"Video_Call\",\"Video_Call\",\"Video_Call\",\"Video_Call\",\"Video_Call\",\"Video_Call\",\"Video_Call\",\"Video_Call\",\"Video_Call\",\"Video_Call\",\"Video_Call\",\"Video_Call\",\"Video_Call\",\"Video_Call\",\"Video_Call\",\"Video_Call\"],\"x0\":\" \",\"xaxis\":\"x\",\"y\":[75,76,74,77,73,78,72,79,71,80,70,81,69,82,68,83,67,84,66,67,83,68,67,85,66,67,68,66,65,64,63,63,62,61,60,59,58,57,56,55,54,53,52,51,50,49,48,47,46,45,45,44,43,43,42,41,41,40],\"y0\":\" \",\"yaxis\":\"y\",\"type\":\"box\"},{\"alignmentgroup\":\"True\",\"hovertemplate\":\"Application_Type=%{x}\\u003cbr\\u003eSignal_Strength=%{y}\\u003cextra\\u003e\\u003c\\u002fextra\\u003e\",\"legendgroup\":\"Voice_Call\",\"marker\":{\"color\":\"#EF553B\"},\"name\":\"Voice_Call\",\"notched\":false,\"offsetgroup\":\"Voice_Call\",\"orientation\":\"v\",\"showlegend\":true,\"x\":[\"Voice_Call\"],\"x0\":\" \",\"xaxis\":\"x\",\"y\":[80],\"y0\":\" \",\"yaxis\":\"y\",\"type\":\"box\"},{\"alignmentgroup\":\"True\",\"hovertemplate\":\"Application_Type=%{x}\\u003cbr\\u003eSignal_Strength=%{y}\\u003cextra\\u003e\\u003c\\u002fextra\\u003e\",\"legendgroup\":\"Streaming\",\"marker\":{\"color\":\"#00cc96\"},\"name\":\"Streaming\",\"notched\":false,\"offsetgroup\":\"Streaming\",\"orientation\":\"v\",\"showlegend\":true,\"x\":[\"Streaming\",\"Streaming\",\"Streaming\",\"Streaming\",\"Streaming\",\"Streaming\",\"Streaming\",\"Streaming\",\"Streaming\",\"Streaming\",\"Streaming\",\"Streaming\",\"Streaming\",\"Streaming\",\"Streaming\",\"Streaming\",\"Streaming\",\"Streaming\",\"Streaming\",\"Streaming\",\"Streaming\",\"Streaming\",\"Streaming\",\"Streaming\",\"Streaming\",\"Streaming\",\"Streaming\",\"Streaming\",\"Streaming\",\"Streaming\",\"Streaming\",\"Streaming\",\"Streaming\",\"Streaming\",\"Streaming\",\"Streaming\",\"Streaming\",\"Streaming\",\"Streaming\",\"Streaming\",\"Streaming\",\"Streaming\",\"Streaming\",\"Streaming\",\"Streaming\",\"Streaming\",\"Streaming\"],\"x0\":\" \",\"xaxis\":\"x\",\"y\":[85,84,83,82,81,80,79,78,77,76,77,76,77,75,78,79,80,81,82,83,84,85,86,87,88,89,90,91,92,93,94,95,96,97,98,99,100,101,102,103,104,105,106,107,108,109,110],\"y0\":\" \",\"yaxis\":\"y\",\"type\":\"box\"},{\"alignmentgroup\":\"True\",\"hovertemplate\":\"Application_Type=%{x}\\u003cbr\\u003eSignal_Strength=%{y}\\u003cextra\\u003e\\u003c\\u002fextra\\u003e\",\"legendgroup\":\"Emergency_Service\",\"marker\":{\"color\":\"#ab63fa\"},\"name\":\"Emergency_Service\",\"notched\":false,\"offsetgroup\":\"Emergency_Service\",\"orientation\":\"v\",\"showlegend\":true,\"x\":[\"Emergency_Service\",\"Emergency_Service\",\"Emergency_Service\",\"Emergency_Service\",\"Emergency_Service\",\"Emergency_Service\",\"Emergency_Service\",\"Emergency_Service\",\"Emergency_Service\",\"Emergency_Service\",\"Emergency_Service\",\"Emergency_Service\",\"Emergency_Service\",\"Emergency_Service\",\"Emergency_Service\",\"Emergency_Service\",\"Emergency_Service\",\"Emergency_Service\",\"Emergency_Service\",\"Emergency_Service\",\"Emergency_Service\",\"Emergency_Service\",\"Emergency_Service\",\"Emergency_Service\",\"Emergency_Service\",\"Emergency_Service\",\"Emergency_Service\",\"Emergency_Service\",\"Emergency_Service\",\"Emergency_Service\",\"Emergency_Service\",\"Emergency_Service\",\"Emergency_Service\",\"Emergency_Service\",\"Emergency_Service\",\"Emergency_Service\",\"Emergency_Service\",\"Emergency_Service\",\"Emergency_Service\",\"Emergency_Service\",\"Emergency_Service\",\"Emergency_Service\",\"Emergency_Service\",\"Emergency_Service\",\"Emergency_Service\",\"Emergency_Service\",\"Emergency_Service\"],\"x0\":\" \",\"xaxis\":\"x\",\"y\":[70,69,68,67,66,65,64,63,62,61,62,61,62,60,59,58,58,57,57,56,55,54,54,53,53,52,52,51,50,50,49,49,48,48,47,47,46,46,45,44,44,43,42,42,41,40,40],\"y0\":\" \",\"yaxis\":\"y\",\"type\":\"box\"},{\"alignmentgroup\":\"True\",\"hovertemplate\":\"Application_Type=%{x}\\u003cbr\\u003eSignal_Strength=%{y}\\u003cextra\\u003e\\u003c\\u002fextra\\u003e\",\"legendgroup\":\"Online_Gaming\",\"marker\":{\"color\":\"#FFA15A\"},\"name\":\"Online_Gaming\",\"notched\":false,\"offsetgroup\":\"Online_Gaming\",\"orientation\":\"v\",\"showlegend\":true,\"x\":[\"Online_Gaming\",\"Online_Gaming\",\"Online_Gaming\",\"Online_Gaming\",\"Online_Gaming\",\"Online_Gaming\",\"Online_Gaming\",\"Online_Gaming\",\"Online_Gaming\",\"Online_Gaming\",\"Online_Gaming\",\"Online_Gaming\",\"Online_Gaming\",\"Online_Gaming\",\"Online_Gaming\",\"Online_Gaming\",\"Online_Gaming\",\"Online_Gaming\",\"Online_Gaming\",\"Online_Gaming\",\"Online_Gaming\",\"Online_Gaming\",\"Online_Gaming\",\"Online_Gaming\",\"Online_Gaming\",\"Online_Gaming\",\"Online_Gaming\",\"Online_Gaming\",\"Online_Gaming\",\"Online_Gaming\",\"Online_Gaming\",\"Online_Gaming\",\"Online_Gaming\",\"Online_Gaming\",\"Online_Gaming\",\"Online_Gaming\",\"Online_Gaming\",\"Online_Gaming\",\"Online_Gaming\",\"Online_Gaming\",\"Online_Gaming\",\"Online_Gaming\",\"Online_Gaming\",\"Online_Gaming\",\"Online_Gaming\"],\"x0\":\" \",\"xaxis\":\"x\",\"y\":[78,79,80,79,78,77,76,75,74,73,74,72,74,72,71,70,69,68,67,66,65,64,63,62,61,60,59,58,57,56,55,54,53,52,51,50,49,48,47,46,45,44,43,42,41],\"y0\":\" \",\"yaxis\":\"y\",\"type\":\"box\"},{\"alignmentgroup\":\"True\",\"hovertemplate\":\"Application_Type=%{x}\\u003cbr\\u003eSignal_Strength=%{y}\\u003cextra\\u003e\\u003c\\u002fextra\\u003e\",\"legendgroup\":\"Background_Download\",\"marker\":{\"color\":\"#19d3f3\"},\"name\":\"Background_Download\",\"notched\":false,\"offsetgroup\":\"Background_Download\",\"orientation\":\"v\",\"showlegend\":true,\"x\":[\"Background_Download\",\"Background_Download\",\"Background_Download\",\"Background_Download\",\"Background_Download\",\"Background_Download\",\"Background_Download\",\"Background_Download\",\"Background_Download\",\"Background_Download\",\"Background_Download\",\"Background_Download\",\"Background_Download\",\"Background_Download\",\"Background_Download\",\"Background_Download\",\"Background_Download\",\"Background_Download\",\"Background_Download\",\"Background_Download\",\"Background_Download\",\"Background_Download\",\"Background_Download\",\"Background_Download\",\"Background_Download\",\"Background_Download\",\"Background_Download\",\"Background_Download\",\"Background_Download\",\"Background_Download\",\"Background_Download\",\"Background_Download\",\"Background_Download\",\"Background_Download\",\"Background_Download\",\"Background_Download\",\"Background_Download\",\"Background_Download\",\"Background_Download\",\"Background_Download\",\"Background_Download\",\"Background_Download\",\"Background_Download\",\"Background_Download\",\"Background_Download\",\"Background_Download\",\"Background_Download\"],\"x0\":\" \",\"xaxis\":\"x\",\"y\":[90,91,92,93,94,95,96,97,98,99,97,98,97,99,96,95,94,97,98,98,99,100,100,101,102,102,103,104,105,106,107,108,109,110,111,112,113,114,115,116,117,118,119,120,121,122,123],\"y0\":\" \",\"yaxis\":\"y\",\"type\":\"box\"},{\"alignmentgroup\":\"True\",\"hovertemplate\":\"Application_Type=%{x}\\u003cbr\\u003eSignal_Strength=%{y}\\u003cextra\\u003e\\u003c\\u002fextra\\u003e\",\"legendgroup\":\"Web_Browsing\",\"marker\":{\"color\":\"#FF6692\"},\"name\":\"Web_Browsing\",\"notched\":false,\"offsetgroup\":\"Web_Browsing\",\"orientation\":\"v\",\"showlegend\":true,\"x\":[\"Web_Browsing\",\"Web_Browsing\",\"Web_Browsing\",\"Web_Browsing\",\"Web_Browsing\",\"Web_Browsing\",\"Web_Browsing\",\"Web_Browsing\",\"Web_Browsing\",\"Web_Browsing\",\"Web_Browsing\",\"Web_Browsing\",\"Web_Browsing\",\"Web_Browsing\",\"Web_Browsing\",\"Web_Browsing\",\"Web_Browsing\",\"Web_Browsing\",\"Web_Browsing\",\"Web_Browsing\",\"Web_Browsing\",\"Web_Browsing\",\"Web_Browsing\",\"Web_Browsing\",\"Web_Browsing\",\"Web_Browsing\",\"Web_Browsing\",\"Web_Browsing\",\"Web_Browsing\",\"Web_Browsing\",\"Web_Browsing\",\"Web_Browsing\",\"Web_Browsing\",\"Web_Browsing\",\"Web_Browsing\",\"Web_Browsing\",\"Web_Browsing\",\"Web_Browsing\",\"Web_Browsing\",\"Web_Browsing\",\"Web_Browsing\",\"Web_Browsing\",\"Web_Browsing\",\"Web_Browsing\",\"Web_Browsing\",\"Web_Browsing\",\"Web_Browsing\",\"Web_Browsing\"],\"x0\":\" \",\"xaxis\":\"x\",\"y\":[88,87,86,88,87,89,90,91,92,93,92,94,92,85,94,95,96,97,97,98,98,99,100,101,101,102,102,103,103,104,104,105,105,105,106,106,107,107,108,108,109,109,110,110,111,111,112,113],\"y0\":\" \",\"yaxis\":\"y\",\"type\":\"box\"},{\"alignmentgroup\":\"True\",\"hovertemplate\":\"Application_Type=%{x}\\u003cbr\\u003eSignal_Strength=%{y}\\u003cextra\\u003e\\u003c\\u002fextra\\u003e\",\"legendgroup\":\"IoT_Temperature\",\"marker\":{\"color\":\"#B6E880\"},\"name\":\"IoT_Temperature\",\"notched\":false,\"offsetgroup\":\"IoT_Temperature\",\"orientation\":\"v\",\"showlegend\":true,\"x\":[\"IoT_Temperature\",\"IoT_Temperature\",\"IoT_Temperature\",\"IoT_Temperature\",\"IoT_Temperature\",\"IoT_Temperature\",\"IoT_Temperature\",\"IoT_Temperature\",\"IoT_Temperature\",\"IoT_Temperature\",\"IoT_Temperature\",\"IoT_Temperature\",\"IoT_Temperature\"],\"x0\":\" \",\"xaxis\":\"x\",\"y\":[95,96,97,98,99,100,101,102,103,104,103,102,103],\"y0\":\" \",\"yaxis\":\"y\",\"type\":\"box\"},{\"alignmentgroup\":\"True\",\"hovertemplate\":\"Application_Type=%{x}\\u003cbr\\u003eSignal_Strength=%{y}\\u003cextra\\u003e\\u003c\\u002fextra\\u003e\",\"legendgroup\":\"Video_Streaming\",\"marker\":{\"color\":\"#FF97FF\"},\"name\":\"Video_Streaming\",\"notched\":false,\"offsetgroup\":\"Video_Streaming\",\"orientation\":\"v\",\"showlegend\":true,\"x\":[\"Video_Streaming\",\"Video_Streaming\",\"Video_Streaming\",\"Video_Streaming\",\"Video_Streaming\",\"Video_Streaming\",\"Video_Streaming\",\"Video_Streaming\",\"Video_Streaming\",\"Video_Streaming\",\"Video_Streaming\",\"Video_Streaming\",\"Video_Streaming\",\"Video_Streaming\",\"Video_Streaming\",\"Video_Streaming\",\"Video_Streaming\",\"Video_Streaming\",\"Video_Streaming\",\"Video_Streaming\",\"Video_Streaming\",\"Video_Streaming\",\"Video_Streaming\",\"Video_Streaming\",\"Video_Streaming\",\"Video_Streaming\",\"Video_Streaming\",\"Video_Streaming\",\"Video_Streaming\",\"Video_Streaming\",\"Video_Streaming\",\"Video_Streaming\",\"Video_Streaming\",\"Video_Streaming\",\"Video_Streaming\",\"Video_Streaming\",\"Video_Streaming\",\"Video_Streaming\",\"Video_Streaming\",\"Video_Streaming\",\"Video_Streaming\",\"Video_Streaming\",\"Video_Streaming\",\"Video_Streaming\",\"Video_Streaming\",\"Video_Streaming\",\"Video_Streaming\"],\"x0\":\" \",\"xaxis\":\"x\",\"y\":[82,83,84,85,86,87,88,89,90,91,90,89,90,80,81,82,83,84,85,86,87,88,89,90,91,92,93,94,95,96,97,98,99,100,101,102,103,104,105,106,107,108,109,110,111,112,113],\"y0\":\" \",\"yaxis\":\"y\",\"type\":\"box\"},{\"alignmentgroup\":\"True\",\"hovertemplate\":\"Application_Type=%{x}\\u003cbr\\u003eSignal_Strength=%{y}\\u003cextra\\u003e\\u003c\\u002fextra\\u003e\",\"legendgroup\":\"File_Download\",\"marker\":{\"color\":\"#FECB52\"},\"name\":\"File_Download\",\"notched\":false,\"offsetgroup\":\"File_Download\",\"orientation\":\"v\",\"showlegend\":true,\"x\":[\"File_Download\"],\"x0\":\" \",\"xaxis\":\"x\",\"y\":[75],\"y0\":\" \",\"yaxis\":\"y\",\"type\":\"box\"},{\"alignmentgroup\":\"True\",\"hovertemplate\":\"Application_Type=%{x}\\u003cbr\\u003eSignal_Strength=%{y}\\u003cextra\\u003e\\u003c\\u002fextra\\u003e\",\"legendgroup\":\"VoIP_Call\",\"marker\":{\"color\":\"#636efa\"},\"name\":\"VoIP_Call\",\"notched\":false,\"offsetgroup\":\"VoIP_Call\",\"orientation\":\"v\",\"showlegend\":true,\"x\":[\"VoIP_Call\",\"VoIP_Call\",\"VoIP_Call\",\"VoIP_Call\",\"VoIP_Call\",\"VoIP_Call\",\"VoIP_Call\",\"VoIP_Call\",\"VoIP_Call\",\"VoIP_Call\",\"VoIP_Call\",\"VoIP_Call\",\"VoIP_Call\",\"VoIP_Call\",\"VoIP_Call\",\"VoIP_Call\",\"VoIP_Call\",\"VoIP_Call\",\"VoIP_Call\",\"VoIP_Call\",\"VoIP_Call\",\"VoIP_Call\",\"VoIP_Call\",\"VoIP_Call\",\"VoIP_Call\",\"VoIP_Call\",\"VoIP_Call\",\"VoIP_Call\",\"VoIP_Call\",\"VoIP_Call\",\"VoIP_Call\",\"VoIP_Call\",\"VoIP_Call\",\"VoIP_Call\",\"VoIP_Call\",\"VoIP_Call\",\"VoIP_Call\",\"VoIP_Call\",\"VoIP_Call\",\"VoIP_Call\",\"VoIP_Call\",\"VoIP_Call\",\"VoIP_Call\",\"VoIP_Call\",\"VoIP_Call\",\"VoIP_Call\"],\"x0\":\" \",\"xaxis\":\"x\",\"y\":[81,82,83,84,85,86,87,88,89,86,85,88,86,88,87,86,85,84,83,82,81,80,79,78,77,76,75,74,73,72,71,70,69,68,67,66,65,64,63,62,61,60,59,58,57,56],\"y0\":\" \",\"yaxis\":\"y\",\"type\":\"box\"}],                        {\"template\":{\"data\":{\"histogram2dcontour\":[{\"type\":\"histogram2dcontour\",\"colorbar\":{\"outlinewidth\":0,\"ticks\":\"\"},\"colorscale\":[[0.0,\"#0d0887\"],[0.1111111111111111,\"#46039f\"],[0.2222222222222222,\"#7201a8\"],[0.3333333333333333,\"#9c179e\"],[0.4444444444444444,\"#bd3786\"],[0.5555555555555556,\"#d8576b\"],[0.6666666666666666,\"#ed7953\"],[0.7777777777777778,\"#fb9f3a\"],[0.8888888888888888,\"#fdca26\"],[1.0,\"#f0f921\"]]}],\"choropleth\":[{\"type\":\"choropleth\",\"colorbar\":{\"outlinewidth\":0,\"ticks\":\"\"}}],\"histogram2d\":[{\"type\":\"histogram2d\",\"colorbar\":{\"outlinewidth\":0,\"ticks\":\"\"},\"colorscale\":[[0.0,\"#0d0887\"],[0.1111111111111111,\"#46039f\"],[0.2222222222222222,\"#7201a8\"],[0.3333333333333333,\"#9c179e\"],[0.4444444444444444,\"#bd3786\"],[0.5555555555555556,\"#d8576b\"],[0.6666666666666666,\"#ed7953\"],[0.7777777777777778,\"#fb9f3a\"],[0.8888888888888888,\"#fdca26\"],[1.0,\"#f0f921\"]]}],\"heatmap\":[{\"type\":\"heatmap\",\"colorbar\":{\"outlinewidth\":0,\"ticks\":\"\"},\"colorscale\":[[0.0,\"#0d0887\"],[0.1111111111111111,\"#46039f\"],[0.2222222222222222,\"#7201a8\"],[0.3333333333333333,\"#9c179e\"],[0.4444444444444444,\"#bd3786\"],[0.5555555555555556,\"#d8576b\"],[0.6666666666666666,\"#ed7953\"],[0.7777777777777778,\"#fb9f3a\"],[0.8888888888888888,\"#fdca26\"],[1.0,\"#f0f921\"]]}],\"heatmapgl\":[{\"type\":\"heatmapgl\",\"colorbar\":{\"outlinewidth\":0,\"ticks\":\"\"},\"colorscale\":[[0.0,\"#0d0887\"],[0.1111111111111111,\"#46039f\"],[0.2222222222222222,\"#7201a8\"],[0.3333333333333333,\"#9c179e\"],[0.4444444444444444,\"#bd3786\"],[0.5555555555555556,\"#d8576b\"],[0.6666666666666666,\"#ed7953\"],[0.7777777777777778,\"#fb9f3a\"],[0.8888888888888888,\"#fdca26\"],[1.0,\"#f0f921\"]]}],\"contourcarpet\":[{\"type\":\"contourcarpet\",\"colorbar\":{\"outlinewidth\":0,\"ticks\":\"\"}}],\"contour\":[{\"type\":\"contour\",\"colorbar\":{\"outlinewidth\":0,\"ticks\":\"\"},\"colorscale\":[[0.0,\"#0d0887\"],[0.1111111111111111,\"#46039f\"],[0.2222222222222222,\"#7201a8\"],[0.3333333333333333,\"#9c179e\"],[0.4444444444444444,\"#bd3786\"],[0.5555555555555556,\"#d8576b\"],[0.6666666666666666,\"#ed7953\"],[0.7777777777777778,\"#fb9f3a\"],[0.8888888888888888,\"#fdca26\"],[1.0,\"#f0f921\"]]}],\"surface\":[{\"type\":\"surface\",\"colorbar\":{\"outlinewidth\":0,\"ticks\":\"\"},\"colorscale\":[[0.0,\"#0d0887\"],[0.1111111111111111,\"#46039f\"],[0.2222222222222222,\"#7201a8\"],[0.3333333333333333,\"#9c179e\"],[0.4444444444444444,\"#bd3786\"],[0.5555555555555556,\"#d8576b\"],[0.6666666666666666,\"#ed7953\"],[0.7777777777777778,\"#fb9f3a\"],[0.8888888888888888,\"#fdca26\"],[1.0,\"#f0f921\"]]}],\"mesh3d\":[{\"type\":\"mesh3d\",\"colorbar\":{\"outlinewidth\":0,\"ticks\":\"\"}}],\"scatter\":[{\"fillpattern\":{\"fillmode\":\"overlay\",\"size\":10,\"solidity\":0.2},\"type\":\"scatter\"}],\"parcoords\":[{\"type\":\"parcoords\",\"line\":{\"colorbar\":{\"outlinewidth\":0,\"ticks\":\"\"}}}],\"scatterpolargl\":[{\"type\":\"scatterpolargl\",\"marker\":{\"colorbar\":{\"outlinewidth\":0,\"ticks\":\"\"}}}],\"bar\":[{\"error_x\":{\"color\":\"#2a3f5f\"},\"error_y\":{\"color\":\"#2a3f5f\"},\"marker\":{\"line\":{\"color\":\"#E5ECF6\",\"width\":0.5},\"pattern\":{\"fillmode\":\"overlay\",\"size\":10,\"solidity\":0.2}},\"type\":\"bar\"}],\"scattergeo\":[{\"type\":\"scattergeo\",\"marker\":{\"colorbar\":{\"outlinewidth\":0,\"ticks\":\"\"}}}],\"scatterpolar\":[{\"type\":\"scatterpolar\",\"marker\":{\"colorbar\":{\"outlinewidth\":0,\"ticks\":\"\"}}}],\"histogram\":[{\"marker\":{\"pattern\":{\"fillmode\":\"overlay\",\"size\":10,\"solidity\":0.2}},\"type\":\"histogram\"}],\"scattergl\":[{\"type\":\"scattergl\",\"marker\":{\"colorbar\":{\"outlinewidth\":0,\"ticks\":\"\"}}}],\"scatter3d\":[{\"type\":\"scatter3d\",\"line\":{\"colorbar\":{\"outlinewidth\":0,\"ticks\":\"\"}},\"marker\":{\"colorbar\":{\"outlinewidth\":0,\"ticks\":\"\"}}}],\"scattermapbox\":[{\"type\":\"scattermapbox\",\"marker\":{\"colorbar\":{\"outlinewidth\":0,\"ticks\":\"\"}}}],\"scatterternary\":[{\"type\":\"scatterternary\",\"marker\":{\"colorbar\":{\"outlinewidth\":0,\"ticks\":\"\"}}}],\"scattercarpet\":[{\"type\":\"scattercarpet\",\"marker\":{\"colorbar\":{\"outlinewidth\":0,\"ticks\":\"\"}}}],\"carpet\":[{\"aaxis\":{\"endlinecolor\":\"#2a3f5f\",\"gridcolor\":\"white\",\"linecolor\":\"white\",\"minorgridcolor\":\"white\",\"startlinecolor\":\"#2a3f5f\"},\"baxis\":{\"endlinecolor\":\"#2a3f5f\",\"gridcolor\":\"white\",\"linecolor\":\"white\",\"minorgridcolor\":\"white\",\"startlinecolor\":\"#2a3f5f\"},\"type\":\"carpet\"}],\"table\":[{\"cells\":{\"fill\":{\"color\":\"#EBF0F8\"},\"line\":{\"color\":\"white\"}},\"header\":{\"fill\":{\"color\":\"#C8D4E3\"},\"line\":{\"color\":\"white\"}},\"type\":\"table\"}],\"barpolar\":[{\"marker\":{\"line\":{\"color\":\"#E5ECF6\",\"width\":0.5},\"pattern\":{\"fillmode\":\"overlay\",\"size\":10,\"solidity\":0.2}},\"type\":\"barpolar\"}],\"pie\":[{\"automargin\":true,\"type\":\"pie\"}]},\"layout\":{\"autotypenumbers\":\"strict\",\"colorway\":[\"#636efa\",\"#EF553B\",\"#00cc96\",\"#ab63fa\",\"#FFA15A\",\"#19d3f3\",\"#FF6692\",\"#B6E880\",\"#FF97FF\",\"#FECB52\"],\"font\":{\"color\":\"#2a3f5f\"},\"hovermode\":\"closest\",\"hoverlabel\":{\"align\":\"left\"},\"paper_bgcolor\":\"white\",\"plot_bgcolor\":\"#E5ECF6\",\"polar\":{\"bgcolor\":\"#E5ECF6\",\"angularaxis\":{\"gridcolor\":\"white\",\"linecolor\":\"white\",\"ticks\":\"\"},\"radialaxis\":{\"gridcolor\":\"white\",\"linecolor\":\"white\",\"ticks\":\"\"}},\"ternary\":{\"bgcolor\":\"#E5ECF6\",\"aaxis\":{\"gridcolor\":\"white\",\"linecolor\":\"white\",\"ticks\":\"\"},\"baxis\":{\"gridcolor\":\"white\",\"linecolor\":\"white\",\"ticks\":\"\"},\"caxis\":{\"gridcolor\":\"white\",\"linecolor\":\"white\",\"ticks\":\"\"}},\"coloraxis\":{\"colorbar\":{\"outlinewidth\":0,\"ticks\":\"\"}},\"colorscale\":{\"sequential\":[[0.0,\"#0d0887\"],[0.1111111111111111,\"#46039f\"],[0.2222222222222222,\"#7201a8\"],[0.3333333333333333,\"#9c179e\"],[0.4444444444444444,\"#bd3786\"],[0.5555555555555556,\"#d8576b\"],[0.6666666666666666,\"#ed7953\"],[0.7777777777777778,\"#fb9f3a\"],[0.8888888888888888,\"#fdca26\"],[1.0,\"#f0f921\"]],\"sequentialminus\":[[0.0,\"#0d0887\"],[0.1111111111111111,\"#46039f\"],[0.2222222222222222,\"#7201a8\"],[0.3333333333333333,\"#9c179e\"],[0.4444444444444444,\"#bd3786\"],[0.5555555555555556,\"#d8576b\"],[0.6666666666666666,\"#ed7953\"],[0.7777777777777778,\"#fb9f3a\"],[0.8888888888888888,\"#fdca26\"],[1.0,\"#f0f921\"]],\"diverging\":[[0,\"#8e0152\"],[0.1,\"#c51b7d\"],[0.2,\"#de77ae\"],[0.3,\"#f1b6da\"],[0.4,\"#fde0ef\"],[0.5,\"#f7f7f7\"],[0.6,\"#e6f5d0\"],[0.7,\"#b8e186\"],[0.8,\"#7fbc41\"],[0.9,\"#4d9221\"],[1,\"#276419\"]]},\"xaxis\":{\"gridcolor\":\"white\",\"linecolor\":\"white\",\"ticks\":\"\",\"title\":{\"standoff\":15},\"zerolinecolor\":\"white\",\"automargin\":true,\"zerolinewidth\":2},\"yaxis\":{\"gridcolor\":\"white\",\"linecolor\":\"white\",\"ticks\":\"\",\"title\":{\"standoff\":15},\"zerolinecolor\":\"white\",\"automargin\":true,\"zerolinewidth\":2},\"scene\":{\"xaxis\":{\"backgroundcolor\":\"#E5ECF6\",\"gridcolor\":\"white\",\"linecolor\":\"white\",\"showbackground\":true,\"ticks\":\"\",\"zerolinecolor\":\"white\",\"gridwidth\":2},\"yaxis\":{\"backgroundcolor\":\"#E5ECF6\",\"gridcolor\":\"white\",\"linecolor\":\"white\",\"showbackground\":true,\"ticks\":\"\",\"zerolinecolor\":\"white\",\"gridwidth\":2},\"zaxis\":{\"backgroundcolor\":\"#E5ECF6\",\"gridcolor\":\"white\",\"linecolor\":\"white\",\"showbackground\":true,\"ticks\":\"\",\"zerolinecolor\":\"white\",\"gridwidth\":2}},\"shapedefaults\":{\"line\":{\"color\":\"#2a3f5f\"}},\"annotationdefaults\":{\"arrowcolor\":\"#2a3f5f\",\"arrowhead\":0,\"arrowwidth\":1},\"geo\":{\"bgcolor\":\"white\",\"landcolor\":\"#E5ECF6\",\"subunitcolor\":\"white\",\"showland\":true,\"showlakes\":true,\"lakecolor\":\"white\"},\"title\":{\"x\":0.05},\"mapbox\":{\"style\":\"light\"}}},\"xaxis\":{\"anchor\":\"y\",\"domain\":[0.0,1.0],\"title\":{\"text\":\"Application_Type\"},\"categoryorder\":\"array\",\"categoryarray\":[\"Video_Call\",\"Voice_Call\",\"Streaming\",\"Emergency_Service\",\"Online_Gaming\",\"Background_Download\",\"Web_Browsing\",\"IoT_Temperature\",\"Video_Streaming\",\"File_Download\",\"VoIP_Call\"],\"tickangle\":45},\"yaxis\":{\"anchor\":\"x\",\"domain\":[0.0,1.0],\"title\":{\"text\":\"Signal_Strength\"}},\"legend\":{\"title\":{\"text\":\"Application_Type\"},\"tracegroupgap\":0},\"title\":{\"text\":\"Signal_Strength by Application Type\",\"x\":0.5},\"boxmode\":\"overlay\",\"width\":900,\"height\":600},                        {\"responsive\": true}                    ).then(function(){\n",
       "                            \n",
       "var gd = document.getElementById('d8f0f0ac-e13c-439d-b68b-f9ba11824411');\n",
       "var x = new MutationObserver(function (mutations, observer) {{\n",
       "        var display = window.getComputedStyle(gd).display;\n",
       "        if (!display || display === 'none') {{\n",
       "            console.log([gd, 'removed!']);\n",
       "            Plotly.purge(gd);\n",
       "            observer.disconnect();\n",
       "        }}\n",
       "}});\n",
       "\n",
       "// Listen for the removal of the full notebook cells\n",
       "var notebookContainer = gd.closest('#notebook-container');\n",
       "if (notebookContainer) {{\n",
       "    x.observe(notebookContainer, {childList: true});\n",
       "}}\n",
       "\n",
       "// Listen for the clearing of the current output cell\n",
       "var outputEl = gd.closest('.output');\n",
       "if (outputEl) {{\n",
       "    x.observe(outputEl, {childList: true});\n",
       "}}\n",
       "\n",
       "                        })                };                });            </script>        </div>"
      ]
     },
     "metadata": {},
     "output_type": "display_data"
    }
   ],
   "source": [
    "import plotly.express as px\n",
    "\n",
    "# Assuming 'data' is a pandas DataFrame with columns 'Application_Type' and 'Latency'\n",
    "fig = px.box(data, x='Application_Type', y='Signal_Strength', color='Application_Type', title='Signal_Strength by Application Type')\n",
    "\n",
    "# Update layout for title and x-axis tick rotation\n",
    "fig.update_layout(\n",
    "    title={'text': 'Signal_Strength by Application Type', 'x': 0.5},\n",
    "    xaxis={'tickangle': 45},\n",
    "    width=900,\n",
    "    height=600\n",
    ")\n",
    "\n",
    "# Show the plot\n",
    "fig.show()"
   ]
  },
  {
   "cell_type": "code",
   "execution_count": 69,
   "id": "6948cbe5-4ccd-49e3-819d-82788acb1b6a",
   "metadata": {},
   "outputs": [
    {
     "data": {
      "application/vnd.plotly.v1+json": {
       "config": {
        "plotlyServerURL": "https://plot.ly"
       },
       "data": [
        {
         "alignmentgroup": "True",
         "hovertemplate": "Application_Type=%{x}<br>Required_Bandwidth=%{marker.color}<extra></extra>",
         "legendgroup": "",
         "marker": {
          "color": [
           0,
           0,
           0,
           0,
           0,
           0,
           0,
           1,
           1,
           1,
           1,
           1,
           2,
           3,
           4,
           5,
           5,
           6,
           7,
           8,
           10,
           10,
           15,
           20,
           25,
           30,
           35,
           40,
           45,
           50,
           55,
           60,
           65,
           70,
           75,
           80,
           85,
           90,
           95,
           100,
           100,
           102.4,
           102.4,
           102.4,
           102.4,
           102.4,
           102.4,
           102.4,
           102.4,
           102.4,
           102.4,
           102.4,
           102.4,
           102.4,
           102.4,
           102.4,
           102.4,
           105,
           110,
           115,
           120,
           125,
           130,
           140,
           145,
           145,
           150,
           150,
           150,
           150,
           155,
           155,
           155,
           160,
           160,
           165,
           170,
           204.8,
           204.8,
           204.8,
           307.2,
           307.2,
           307.2,
           350,
           360,
           370,
           380,
           390,
           400,
           409.6,
           409.6,
           409.6,
           409.6,
           409.6,
           409.6,
           409.6,
           409.6,
           409.6,
           409.6,
           410,
           420,
           430,
           440,
           450,
           460,
           470,
           480,
           490,
           500,
           500,
           510,
           512,
           512,
           512,
           512,
           512,
           512,
           512,
           512,
           512,
           512,
           512,
           512,
           512,
           512,
           520,
           530,
           540,
           550,
           560,
           570,
           580,
           590,
           600,
           600,
           610,
           610,
           614.4,
           614.4,
           614.4,
           614.4,
           614.4,
           614.4,
           614.4,
           614.4,
           614.4,
           614.4,
           614.4,
           614.4,
           614.4,
           620,
           620,
           620,
           630,
           630,
           640,
           640,
           650,
           650,
           660,
           660,
           670,
           670,
           670,
           680,
           680,
           690,
           716.8,
           716.8,
           716.8,
           716.8,
           716.8,
           716.8,
           716.8,
           716.8,
           716.8,
           819.2,
           819.2,
           819.2,
           819.2,
           819.2,
           819.2,
           819.2,
           819.2,
           921.6,
           921.6,
           921.6,
           921.6,
           1024,
           1024,
           1024,
           1024,
           1024,
           1024,
           1024,
           1126.4,
           1126.4,
           1126.4,
           1126.4,
           1228.8,
           1228.8,
           1228.8,
           1228.8,
           1331.2,
           1331.2,
           1331.2,
           1433.6,
           1433.6,
           1433.6,
           1536,
           1536,
           1536,
           1638.4,
           1638.4,
           1740.8,
           1740.8,
           1843.2,
           1843.2,
           1945.6,
           1945.6,
           2048,
           2048,
           2048,
           2048,
           2150.4,
           2150.4,
           2252.8,
           2252.8,
           2252.8,
           2355.2,
           2355.2,
           2355.2,
           2457.6,
           2457.6,
           2457.6,
           2560,
           2560,
           2560,
           2662.4,
           2662.4,
           2662.4,
           2764.8,
           2764.8,
           2764.8,
           2867.2,
           2867.2,
           2867.2,
           2969.6,
           2969.6,
           2969.6,
           2969.6,
           2969.6,
           3072,
           3072,
           3072,
           3072,
           3174.4,
           3174.4,
           3174.4,
           3276.8,
           3276.8,
           3276.8,
           3276.8,
           3379.2,
           3379.2,
           3379.2,
           3481.6,
           3481.6,
           3481.6,
           3481.6,
           3584,
           3584,
           3584,
           3584,
           3686.4,
           3686.4,
           3686.4,
           3686.4,
           3788.8,
           3788.8,
           3788.8,
           3788.8,
           3891.2,
           3891.2,
           3891.2,
           3891.2,
           3891.2,
           3993.6,
           3993.6,
           3993.6,
           3993.6,
           4096,
           4096,
           4096,
           4096,
           4096,
           4096,
           4096,
           4096,
           4198.4,
           4198.4,
           4198.4,
           4198.4,
           4198.4,
           4198.4,
           4300.8,
           4300.8,
           4300.8,
           4300.8,
           4403.2,
           4403.2,
           4403.2,
           4505.6,
           4505.6,
           4505.6,
           4505.6,
           4608,
           4608,
           4608,
           4608,
           4608,
           4710.4,
           4710.4,
           4710.4,
           4812.8,
           4915.2,
           5017.6,
           5120,
           5120,
           5120,
           5222.4,
           5324.8,
           5427.2,
           5529.6,
           5632,
           5734.4,
           5836.8,
           5939.2,
           6041.6,
           6144,
           6246.4,
           6348.8,
           6451.2,
           10240,
           10240,
           10444.8,
           10444.8,
           10547.2,
           10752,
           10752,
           10956.8,
           10956.8,
           11059.2,
           11059.2,
           11059.2,
           11161.6,
           11161.6,
           11264,
           11264,
           11264,
           11264,
           11366.4,
           11468.8,
           11468.8,
           11468.8,
           11571.2,
           11673.6,
           11673.6,
           11776,
           11878.4,
           11980.8,
           12083.2,
           12185.6,
           12288,
           12288,
           12390.4,
           12492.8,
           12595.2,
           12697.6,
           12800,
           12902.4,
           13004.8,
           13107.2,
           13209.6,
           13312,
           13414.4,
           13516.8,
           13619.2,
           13721.6,
           13824,
           13926.4,
           14028.8,
           14131.2,
           14233.6,
           14336,
           14438.4,
           14540.8,
           14643.2,
           14745.6,
           14848
          ],
          "coloraxis": "coloraxis",
          "pattern": {
           "shape": ""
          }
         },
         "name": "",
         "offsetgroup": "",
         "orientation": "v",
         "showlegend": false,
         "textposition": "auto",
         "type": "bar",
         "x": [
          "VoIP_Call",
          "VoIP_Call",
          "VoIP_Call",
          "VoIP_Call",
          "VoIP_Call",
          "VoIP_Call",
          "VoIP_Call",
          "IoT_Temperature",
          "IoT_Temperature",
          "IoT_Temperature",
          "IoT_Temperature",
          "IoT_Temperature",
          "IoT_Temperature",
          "IoT_Temperature",
          "IoT_Temperature",
          "VoIP_Call",
          "IoT_Temperature",
          "IoT_Temperature",
          "IoT_Temperature",
          "IoT_Temperature",
          "VoIP_Call",
          "IoT_Temperature",
          "VoIP_Call",
          "VoIP_Call",
          "VoIP_Call",
          "VoIP_Call",
          "VoIP_Call",
          "VoIP_Call",
          "VoIP_Call",
          "VoIP_Call",
          "VoIP_Call",
          "VoIP_Call",
          "VoIP_Call",
          "VoIP_Call",
          "VoIP_Call",
          "VoIP_Call",
          "VoIP_Call",
          "VoIP_Call",
          "VoIP_Call",
          "VoIP_Call",
          "Voice_Call",
          "Web_Browsing",
          "Web_Browsing",
          "Web_Browsing",
          "Web_Browsing",
          "Web_Browsing",
          "Web_Browsing",
          "Web_Browsing",
          "Web_Browsing",
          "Web_Browsing",
          "Web_Browsing",
          "Web_Browsing",
          "Web_Browsing",
          "Web_Browsing",
          "Web_Browsing",
          "Web_Browsing",
          "Web_Browsing",
          "VoIP_Call",
          "VoIP_Call",
          "VoIP_Call",
          "VoIP_Call",
          "VoIP_Call",
          "VoIP_Call",
          "VoIP_Call",
          "VoIP_Call",
          "VoIP_Call",
          "VoIP_Call",
          "VoIP_Call",
          "Video_Call",
          "VoIP_Call",
          "VoIP_Call",
          "VoIP_Call",
          "VoIP_Call",
          "VoIP_Call",
          "VoIP_Call",
          "VoIP_Call",
          "VoIP_Call",
          "Web_Browsing",
          "Web_Browsing",
          "Web_Browsing",
          "Web_Browsing",
          "Web_Browsing",
          "Web_Browsing",
          "Background_Download",
          "Background_Download",
          "Background_Download",
          "Background_Download",
          "Background_Download",
          "Background_Download",
          "Web_Browsing",
          "Emergency_Service",
          "Web_Browsing",
          "Emergency_Service",
          "Web_Browsing",
          "Web_Browsing",
          "Emergency_Service",
          "Emergency_Service",
          "Emergency_Service",
          "Web_Browsing",
          "Background_Download",
          "Background_Download",
          "Background_Download",
          "Background_Download",
          "Background_Download",
          "Background_Download",
          "Background_Download",
          "Background_Download",
          "Background_Download",
          "Background_Download",
          "Background_Download",
          "Background_Download",
          "Emergency_Service",
          "Web_Browsing",
          "Emergency_Service",
          "Emergency_Service",
          "Emergency_Service",
          "Emergency_Service",
          "Emergency_Service",
          "Web_Browsing",
          "Emergency_Service",
          "Web_Browsing",
          "Emergency_Service",
          "Emergency_Service",
          "Emergency_Service",
          "Web_Browsing",
          "Background_Download",
          "Background_Download",
          "Background_Download",
          "Background_Download",
          "Background_Download",
          "Background_Download",
          "Background_Download",
          "Background_Download",
          "Background_Download",
          "Background_Download",
          "Background_Download",
          "Background_Download",
          "Emergency_Service",
          "Emergency_Service",
          "Emergency_Service",
          "Emergency_Service",
          "Emergency_Service",
          "Emergency_Service",
          "Emergency_Service",
          "Web_Browsing",
          "Emergency_Service",
          "Emergency_Service",
          "Emergency_Service",
          "Emergency_Service",
          "Web_Browsing",
          "Background_Download",
          "Background_Download",
          "Background_Download",
          "Background_Download",
          "Background_Download",
          "Background_Download",
          "Background_Download",
          "Background_Download",
          "Background_Download",
          "Background_Download",
          "Background_Download",
          "Background_Download",
          "Background_Download",
          "Background_Download",
          "Background_Download",
          "Background_Download",
          "Background_Download",
          "Web_Browsing",
          "Emergency_Service",
          "Emergency_Service",
          "Emergency_Service",
          "Web_Browsing",
          "Emergency_Service",
          "Emergency_Service",
          "Web_Browsing",
          "Emergency_Service",
          "Emergency_Service",
          "Emergency_Service",
          "Web_Browsing",
          "Emergency_Service",
          "Emergency_Service",
          "Web_Browsing",
          "Web_Browsing",
          "Emergency_Service",
          "Emergency_Service",
          "Emergency_Service",
          "Web_Browsing",
          "Emergency_Service",
          "Emergency_Service",
          "Web_Browsing",
          "Emergency_Service",
          "Emergency_Service",
          "Video_Streaming",
          "Web_Browsing",
          "Emergency_Service",
          "Video_Streaming",
          "Web_Browsing",
          "Emergency_Service",
          "Emergency_Service",
          "Video_Streaming",
          "Emergency_Service",
          "Web_Browsing",
          "Web_Browsing",
          "Streaming",
          "Web_Browsing",
          "Video_Streaming",
          "Web_Browsing",
          "Video_Streaming",
          "Streaming",
          "Video_Streaming",
          "Web_Browsing",
          "Streaming",
          "Video_Streaming",
          "Streaming",
          "Streaming",
          "Video_Streaming",
          "Streaming",
          "Video_Streaming",
          "Streaming",
          "Video_Streaming",
          "File_Download",
          "Streaming",
          "Video_Streaming",
          "Online_Gaming",
          "Video_Streaming",
          "Streaming",
          "Streaming",
          "Video_Streaming",
          "Online_Gaming",
          "Online_Gaming",
          "Video_Streaming",
          "Streaming",
          "Video_Streaming",
          "Streaming",
          "Online_Gaming",
          "Video_Streaming",
          "Streaming",
          "Online_Gaming",
          "Video_Streaming",
          "Streaming",
          "Online_Gaming",
          "Video_Streaming",
          "Online_Gaming",
          "Streaming",
          "Online_Gaming",
          "Video_Streaming",
          "Streaming",
          "Streaming",
          "Video_Streaming",
          "Online_Gaming",
          "Online_Gaming",
          "Online_Gaming",
          "Video_Streaming",
          "Online_Gaming",
          "Streaming",
          "Video_Streaming",
          "Online_Gaming",
          "Video_Streaming",
          "Streaming",
          "Video_Streaming",
          "Online_Gaming",
          "Video_Streaming",
          "Streaming",
          "Streaming",
          "Online_Gaming",
          "Video_Streaming",
          "Video_Streaming",
          "Online_Gaming",
          "Streaming",
          "Video_Streaming",
          "Video_Streaming",
          "Online_Gaming",
          "Streaming",
          "Video_Streaming",
          "Video_Streaming",
          "Online_Gaming",
          "Video_Streaming",
          "Streaming",
          "Video_Streaming",
          "Video_Streaming",
          "Streaming",
          "Online_Gaming",
          "Streaming",
          "Streaming",
          "Video_Streaming",
          "Video_Streaming",
          "Online_Gaming",
          "Video_Streaming",
          "Online_Gaming",
          "Video_Streaming",
          "Streaming",
          "Video_Streaming",
          "Video_Streaming",
          "Streaming",
          "Streaming",
          "Online_Gaming",
          "Video_Streaming",
          "Video_Streaming",
          "Video_Streaming",
          "Video_Streaming",
          "Video_Streaming",
          "Online_Gaming",
          "Video_Streaming",
          "Streaming",
          "Streaming",
          "Online_Gaming",
          "Video_Streaming",
          "Streaming",
          "Streaming",
          "Streaming",
          "Online_Gaming",
          "Streaming",
          "Online_Gaming",
          "Streaming",
          "Streaming",
          "Streaming",
          "Online_Gaming",
          "Streaming",
          "Streaming",
          "Streaming",
          "Streaming",
          "Streaming",
          "Streaming",
          "Online_Gaming",
          "Online_Gaming",
          "Online_Gaming",
          "Online_Gaming",
          "Online_Gaming",
          "Streaming",
          "Streaming",
          "Online_Gaming",
          "Online_Gaming",
          "Online_Gaming",
          "Online_Gaming",
          "Online_Gaming",
          "Online_Gaming",
          "Online_Gaming",
          "Online_Gaming",
          "Online_Gaming",
          "Online_Gaming",
          "Online_Gaming",
          "Online_Gaming",
          "Online_Gaming",
          "Video_Call",
          "Video_Call",
          "Video_Call",
          "Video_Call",
          "Video_Call",
          "Video_Call",
          "Video_Call",
          "Video_Call",
          "Video_Call",
          "Video_Call",
          "Video_Call",
          "Video_Call",
          "Video_Call",
          "Video_Call",
          "Video_Call",
          "Video_Call",
          "Video_Call",
          "Video_Call",
          "Video_Call",
          "Video_Call",
          "Video_Call",
          "Video_Call",
          "Video_Call",
          "Video_Call",
          "Video_Call",
          "Video_Call",
          "Video_Call",
          "Video_Call",
          "Video_Call",
          "Video_Call",
          "Video_Call",
          "Video_Call",
          "Video_Call",
          "Video_Call",
          "Video_Call",
          "Video_Call",
          "Video_Call",
          "Video_Call",
          "Video_Call",
          "Video_Call",
          "Video_Call",
          "Video_Call",
          "Video_Call",
          "Video_Call",
          "Video_Call",
          "Video_Call",
          "Video_Call",
          "Video_Call",
          "Video_Call",
          "Video_Call",
          "Video_Call",
          "Video_Call",
          "Video_Call",
          "Video_Call",
          "Video_Call",
          "Video_Call",
          "Video_Call"
         ],
         "xaxis": "x",
         "y": [
          0,
          0,
          0,
          0,
          0,
          0,
          0,
          1,
          1,
          1,
          1,
          1,
          2,
          3,
          4,
          5,
          5,
          6,
          7,
          8,
          10,
          10,
          15,
          20,
          25,
          30,
          35,
          40,
          45,
          50,
          55,
          60,
          65,
          70,
          75,
          80,
          85,
          90,
          95,
          100,
          100,
          102.4,
          102.4,
          102.4,
          102.4,
          102.4,
          102.4,
          102.4,
          102.4,
          102.4,
          102.4,
          102.4,
          102.4,
          102.4,
          102.4,
          102.4,
          102.4,
          105,
          110,
          115,
          120,
          125,
          130,
          140,
          145,
          145,
          150,
          150,
          150,
          150,
          155,
          155,
          155,
          160,
          160,
          165,
          170,
          204.8,
          204.8,
          204.8,
          307.2,
          307.2,
          307.2,
          350,
          360,
          370,
          380,
          390,
          400,
          409.6,
          409.6,
          409.6,
          409.6,
          409.6,
          409.6,
          409.6,
          409.6,
          409.6,
          409.6,
          410,
          420,
          430,
          440,
          450,
          460,
          470,
          480,
          490,
          500,
          500,
          510,
          512,
          512,
          512,
          512,
          512,
          512,
          512,
          512,
          512,
          512,
          512,
          512,
          512,
          512,
          520,
          530,
          540,
          550,
          560,
          570,
          580,
          590,
          600,
          600,
          610,
          610,
          614.4,
          614.4,
          614.4,
          614.4,
          614.4,
          614.4,
          614.4,
          614.4,
          614.4,
          614.4,
          614.4,
          614.4,
          614.4,
          620,
          620,
          620,
          630,
          630,
          640,
          640,
          650,
          650,
          660,
          660,
          670,
          670,
          670,
          680,
          680,
          690,
          716.8,
          716.8,
          716.8,
          716.8,
          716.8,
          716.8,
          716.8,
          716.8,
          716.8,
          819.2,
          819.2,
          819.2,
          819.2,
          819.2,
          819.2,
          819.2,
          819.2,
          921.6,
          921.6,
          921.6,
          921.6,
          1024,
          1024,
          1024,
          1024,
          1024,
          1024,
          1024,
          1126.4,
          1126.4,
          1126.4,
          1126.4,
          1228.8,
          1228.8,
          1228.8,
          1228.8,
          1331.2,
          1331.2,
          1331.2,
          1433.6,
          1433.6,
          1433.6,
          1536,
          1536,
          1536,
          1638.4,
          1638.4,
          1740.8,
          1740.8,
          1843.2,
          1843.2,
          1945.6,
          1945.6,
          2048,
          2048,
          2048,
          2048,
          2150.4,
          2150.4,
          2252.8,
          2252.8,
          2252.8,
          2355.2,
          2355.2,
          2355.2,
          2457.6,
          2457.6,
          2457.6,
          2560,
          2560,
          2560,
          2662.4,
          2662.4,
          2662.4,
          2764.8,
          2764.8,
          2764.8,
          2867.2,
          2867.2,
          2867.2,
          2969.6,
          2969.6,
          2969.6,
          2969.6,
          2969.6,
          3072,
          3072,
          3072,
          3072,
          3174.4,
          3174.4,
          3174.4,
          3276.8,
          3276.8,
          3276.8,
          3276.8,
          3379.2,
          3379.2,
          3379.2,
          3481.6,
          3481.6,
          3481.6,
          3481.6,
          3584,
          3584,
          3584,
          3584,
          3686.4,
          3686.4,
          3686.4,
          3686.4,
          3788.8,
          3788.8,
          3788.8,
          3788.8,
          3891.2,
          3891.2,
          3891.2,
          3891.2,
          3891.2,
          3993.6,
          3993.6,
          3993.6,
          3993.6,
          4096,
          4096,
          4096,
          4096,
          4096,
          4096,
          4096,
          4096,
          4198.4,
          4198.4,
          4198.4,
          4198.4,
          4198.4,
          4198.4,
          4300.8,
          4300.8,
          4300.8,
          4300.8,
          4403.2,
          4403.2,
          4403.2,
          4505.6,
          4505.6,
          4505.6,
          4505.6,
          4608,
          4608,
          4608,
          4608,
          4608,
          4710.4,
          4710.4,
          4710.4,
          4812.8,
          4915.2,
          5017.6,
          5120,
          5120,
          5120,
          5222.4,
          5324.8,
          5427.2,
          5529.6,
          5632,
          5734.4,
          5836.8,
          5939.2,
          6041.6,
          6144,
          6246.4,
          6348.8,
          6451.2,
          10240,
          10240,
          10444.8,
          10444.8,
          10547.2,
          10752,
          10752,
          10956.8,
          10956.8,
          11059.2,
          11059.2,
          11059.2,
          11161.6,
          11161.6,
          11264,
          11264,
          11264,
          11264,
          11366.4,
          11468.8,
          11468.8,
          11468.8,
          11571.2,
          11673.6,
          11673.6,
          11776,
          11878.4,
          11980.8,
          12083.2,
          12185.6,
          12288,
          12288,
          12390.4,
          12492.8,
          12595.2,
          12697.6,
          12800,
          12902.4,
          13004.8,
          13107.2,
          13209.6,
          13312,
          13414.4,
          13516.8,
          13619.2,
          13721.6,
          13824,
          13926.4,
          14028.8,
          14131.2,
          14233.6,
          14336,
          14438.4,
          14540.8,
          14643.2,
          14745.6,
          14848
         ],
         "yaxis": "y"
        }
       ],
       "layout": {
        "barmode": "relative",
        "coloraxis": {
         "colorbar": {
          "title": {
           "text": "Required_Bandwidth"
          }
         },
         "colorscale": [
          [
           0,
           "#0d0887"
          ],
          [
           0.1111111111111111,
           "#46039f"
          ],
          [
           0.2222222222222222,
           "#7201a8"
          ],
          [
           0.3333333333333333,
           "#9c179e"
          ],
          [
           0.4444444444444444,
           "#bd3786"
          ],
          [
           0.5555555555555556,
           "#d8576b"
          ],
          [
           0.6666666666666666,
           "#ed7953"
          ],
          [
           0.7777777777777778,
           "#fb9f3a"
          ],
          [
           0.8888888888888888,
           "#fdca26"
          ],
          [
           1,
           "#f0f921"
          ]
         ]
        },
        "height": 500,
        "legend": {
         "tracegroupgap": 0
        },
        "template": {
         "data": {
          "bar": [
           {
            "error_x": {
             "color": "#2a3f5f"
            },
            "error_y": {
             "color": "#2a3f5f"
            },
            "marker": {
             "line": {
              "color": "#E5ECF6",
              "width": 0.5
             },
             "pattern": {
              "fillmode": "overlay",
              "size": 10,
              "solidity": 0.2
             }
            },
            "type": "bar"
           }
          ],
          "barpolar": [
           {
            "marker": {
             "line": {
              "color": "#E5ECF6",
              "width": 0.5
             },
             "pattern": {
              "fillmode": "overlay",
              "size": 10,
              "solidity": 0.2
             }
            },
            "type": "barpolar"
           }
          ],
          "carpet": [
           {
            "aaxis": {
             "endlinecolor": "#2a3f5f",
             "gridcolor": "white",
             "linecolor": "white",
             "minorgridcolor": "white",
             "startlinecolor": "#2a3f5f"
            },
            "baxis": {
             "endlinecolor": "#2a3f5f",
             "gridcolor": "white",
             "linecolor": "white",
             "minorgridcolor": "white",
             "startlinecolor": "#2a3f5f"
            },
            "type": "carpet"
           }
          ],
          "choropleth": [
           {
            "colorbar": {
             "outlinewidth": 0,
             "ticks": ""
            },
            "type": "choropleth"
           }
          ],
          "contour": [
           {
            "colorbar": {
             "outlinewidth": 0,
             "ticks": ""
            },
            "colorscale": [
             [
              0,
              "#0d0887"
             ],
             [
              0.1111111111111111,
              "#46039f"
             ],
             [
              0.2222222222222222,
              "#7201a8"
             ],
             [
              0.3333333333333333,
              "#9c179e"
             ],
             [
              0.4444444444444444,
              "#bd3786"
             ],
             [
              0.5555555555555556,
              "#d8576b"
             ],
             [
              0.6666666666666666,
              "#ed7953"
             ],
             [
              0.7777777777777778,
              "#fb9f3a"
             ],
             [
              0.8888888888888888,
              "#fdca26"
             ],
             [
              1,
              "#f0f921"
             ]
            ],
            "type": "contour"
           }
          ],
          "contourcarpet": [
           {
            "colorbar": {
             "outlinewidth": 0,
             "ticks": ""
            },
            "type": "contourcarpet"
           }
          ],
          "heatmap": [
           {
            "colorbar": {
             "outlinewidth": 0,
             "ticks": ""
            },
            "colorscale": [
             [
              0,
              "#0d0887"
             ],
             [
              0.1111111111111111,
              "#46039f"
             ],
             [
              0.2222222222222222,
              "#7201a8"
             ],
             [
              0.3333333333333333,
              "#9c179e"
             ],
             [
              0.4444444444444444,
              "#bd3786"
             ],
             [
              0.5555555555555556,
              "#d8576b"
             ],
             [
              0.6666666666666666,
              "#ed7953"
             ],
             [
              0.7777777777777778,
              "#fb9f3a"
             ],
             [
              0.8888888888888888,
              "#fdca26"
             ],
             [
              1,
              "#f0f921"
             ]
            ],
            "type": "heatmap"
           }
          ],
          "heatmapgl": [
           {
            "colorbar": {
             "outlinewidth": 0,
             "ticks": ""
            },
            "colorscale": [
             [
              0,
              "#0d0887"
             ],
             [
              0.1111111111111111,
              "#46039f"
             ],
             [
              0.2222222222222222,
              "#7201a8"
             ],
             [
              0.3333333333333333,
              "#9c179e"
             ],
             [
              0.4444444444444444,
              "#bd3786"
             ],
             [
              0.5555555555555556,
              "#d8576b"
             ],
             [
              0.6666666666666666,
              "#ed7953"
             ],
             [
              0.7777777777777778,
              "#fb9f3a"
             ],
             [
              0.8888888888888888,
              "#fdca26"
             ],
             [
              1,
              "#f0f921"
             ]
            ],
            "type": "heatmapgl"
           }
          ],
          "histogram": [
           {
            "marker": {
             "pattern": {
              "fillmode": "overlay",
              "size": 10,
              "solidity": 0.2
             }
            },
            "type": "histogram"
           }
          ],
          "histogram2d": [
           {
            "colorbar": {
             "outlinewidth": 0,
             "ticks": ""
            },
            "colorscale": [
             [
              0,
              "#0d0887"
             ],
             [
              0.1111111111111111,
              "#46039f"
             ],
             [
              0.2222222222222222,
              "#7201a8"
             ],
             [
              0.3333333333333333,
              "#9c179e"
             ],
             [
              0.4444444444444444,
              "#bd3786"
             ],
             [
              0.5555555555555556,
              "#d8576b"
             ],
             [
              0.6666666666666666,
              "#ed7953"
             ],
             [
              0.7777777777777778,
              "#fb9f3a"
             ],
             [
              0.8888888888888888,
              "#fdca26"
             ],
             [
              1,
              "#f0f921"
             ]
            ],
            "type": "histogram2d"
           }
          ],
          "histogram2dcontour": [
           {
            "colorbar": {
             "outlinewidth": 0,
             "ticks": ""
            },
            "colorscale": [
             [
              0,
              "#0d0887"
             ],
             [
              0.1111111111111111,
              "#46039f"
             ],
             [
              0.2222222222222222,
              "#7201a8"
             ],
             [
              0.3333333333333333,
              "#9c179e"
             ],
             [
              0.4444444444444444,
              "#bd3786"
             ],
             [
              0.5555555555555556,
              "#d8576b"
             ],
             [
              0.6666666666666666,
              "#ed7953"
             ],
             [
              0.7777777777777778,
              "#fb9f3a"
             ],
             [
              0.8888888888888888,
              "#fdca26"
             ],
             [
              1,
              "#f0f921"
             ]
            ],
            "type": "histogram2dcontour"
           }
          ],
          "mesh3d": [
           {
            "colorbar": {
             "outlinewidth": 0,
             "ticks": ""
            },
            "type": "mesh3d"
           }
          ],
          "parcoords": [
           {
            "line": {
             "colorbar": {
              "outlinewidth": 0,
              "ticks": ""
             }
            },
            "type": "parcoords"
           }
          ],
          "pie": [
           {
            "automargin": true,
            "type": "pie"
           }
          ],
          "scatter": [
           {
            "fillpattern": {
             "fillmode": "overlay",
             "size": 10,
             "solidity": 0.2
            },
            "type": "scatter"
           }
          ],
          "scatter3d": [
           {
            "line": {
             "colorbar": {
              "outlinewidth": 0,
              "ticks": ""
             }
            },
            "marker": {
             "colorbar": {
              "outlinewidth": 0,
              "ticks": ""
             }
            },
            "type": "scatter3d"
           }
          ],
          "scattercarpet": [
           {
            "marker": {
             "colorbar": {
              "outlinewidth": 0,
              "ticks": ""
             }
            },
            "type": "scattercarpet"
           }
          ],
          "scattergeo": [
           {
            "marker": {
             "colorbar": {
              "outlinewidth": 0,
              "ticks": ""
             }
            },
            "type": "scattergeo"
           }
          ],
          "scattergl": [
           {
            "marker": {
             "colorbar": {
              "outlinewidth": 0,
              "ticks": ""
             }
            },
            "type": "scattergl"
           }
          ],
          "scattermapbox": [
           {
            "marker": {
             "colorbar": {
              "outlinewidth": 0,
              "ticks": ""
             }
            },
            "type": "scattermapbox"
           }
          ],
          "scatterpolar": [
           {
            "marker": {
             "colorbar": {
              "outlinewidth": 0,
              "ticks": ""
             }
            },
            "type": "scatterpolar"
           }
          ],
          "scatterpolargl": [
           {
            "marker": {
             "colorbar": {
              "outlinewidth": 0,
              "ticks": ""
             }
            },
            "type": "scatterpolargl"
           }
          ],
          "scatterternary": [
           {
            "marker": {
             "colorbar": {
              "outlinewidth": 0,
              "ticks": ""
             }
            },
            "type": "scatterternary"
           }
          ],
          "surface": [
           {
            "colorbar": {
             "outlinewidth": 0,
             "ticks": ""
            },
            "colorscale": [
             [
              0,
              "#0d0887"
             ],
             [
              0.1111111111111111,
              "#46039f"
             ],
             [
              0.2222222222222222,
              "#7201a8"
             ],
             [
              0.3333333333333333,
              "#9c179e"
             ],
             [
              0.4444444444444444,
              "#bd3786"
             ],
             [
              0.5555555555555556,
              "#d8576b"
             ],
             [
              0.6666666666666666,
              "#ed7953"
             ],
             [
              0.7777777777777778,
              "#fb9f3a"
             ],
             [
              0.8888888888888888,
              "#fdca26"
             ],
             [
              1,
              "#f0f921"
             ]
            ],
            "type": "surface"
           }
          ],
          "table": [
           {
            "cells": {
             "fill": {
              "color": "#EBF0F8"
             },
             "line": {
              "color": "white"
             }
            },
            "header": {
             "fill": {
              "color": "#C8D4E3"
             },
             "line": {
              "color": "white"
             }
            },
            "type": "table"
           }
          ]
         },
         "layout": {
          "annotationdefaults": {
           "arrowcolor": "#2a3f5f",
           "arrowhead": 0,
           "arrowwidth": 1
          },
          "autotypenumbers": "strict",
          "coloraxis": {
           "colorbar": {
            "outlinewidth": 0,
            "ticks": ""
           }
          },
          "colorscale": {
           "diverging": [
            [
             0,
             "#8e0152"
            ],
            [
             0.1,
             "#c51b7d"
            ],
            [
             0.2,
             "#de77ae"
            ],
            [
             0.3,
             "#f1b6da"
            ],
            [
             0.4,
             "#fde0ef"
            ],
            [
             0.5,
             "#f7f7f7"
            ],
            [
             0.6,
             "#e6f5d0"
            ],
            [
             0.7,
             "#b8e186"
            ],
            [
             0.8,
             "#7fbc41"
            ],
            [
             0.9,
             "#4d9221"
            ],
            [
             1,
             "#276419"
            ]
           ],
           "sequential": [
            [
             0,
             "#0d0887"
            ],
            [
             0.1111111111111111,
             "#46039f"
            ],
            [
             0.2222222222222222,
             "#7201a8"
            ],
            [
             0.3333333333333333,
             "#9c179e"
            ],
            [
             0.4444444444444444,
             "#bd3786"
            ],
            [
             0.5555555555555556,
             "#d8576b"
            ],
            [
             0.6666666666666666,
             "#ed7953"
            ],
            [
             0.7777777777777778,
             "#fb9f3a"
            ],
            [
             0.8888888888888888,
             "#fdca26"
            ],
            [
             1,
             "#f0f921"
            ]
           ],
           "sequentialminus": [
            [
             0,
             "#0d0887"
            ],
            [
             0.1111111111111111,
             "#46039f"
            ],
            [
             0.2222222222222222,
             "#7201a8"
            ],
            [
             0.3333333333333333,
             "#9c179e"
            ],
            [
             0.4444444444444444,
             "#bd3786"
            ],
            [
             0.5555555555555556,
             "#d8576b"
            ],
            [
             0.6666666666666666,
             "#ed7953"
            ],
            [
             0.7777777777777778,
             "#fb9f3a"
            ],
            [
             0.8888888888888888,
             "#fdca26"
            ],
            [
             1,
             "#f0f921"
            ]
           ]
          },
          "colorway": [
           "#636efa",
           "#EF553B",
           "#00cc96",
           "#ab63fa",
           "#FFA15A",
           "#19d3f3",
           "#FF6692",
           "#B6E880",
           "#FF97FF",
           "#FECB52"
          ],
          "font": {
           "color": "#2a3f5f"
          },
          "geo": {
           "bgcolor": "white",
           "lakecolor": "white",
           "landcolor": "#E5ECF6",
           "showlakes": true,
           "showland": true,
           "subunitcolor": "white"
          },
          "hoverlabel": {
           "align": "left"
          },
          "hovermode": "closest",
          "mapbox": {
           "style": "light"
          },
          "paper_bgcolor": "white",
          "plot_bgcolor": "#E5ECF6",
          "polar": {
           "angularaxis": {
            "gridcolor": "white",
            "linecolor": "white",
            "ticks": ""
           },
           "bgcolor": "#E5ECF6",
           "radialaxis": {
            "gridcolor": "white",
            "linecolor": "white",
            "ticks": ""
           }
          },
          "scene": {
           "xaxis": {
            "backgroundcolor": "#E5ECF6",
            "gridcolor": "white",
            "gridwidth": 2,
            "linecolor": "white",
            "showbackground": true,
            "ticks": "",
            "zerolinecolor": "white"
           },
           "yaxis": {
            "backgroundcolor": "#E5ECF6",
            "gridcolor": "white",
            "gridwidth": 2,
            "linecolor": "white",
            "showbackground": true,
            "ticks": "",
            "zerolinecolor": "white"
           },
           "zaxis": {
            "backgroundcolor": "#E5ECF6",
            "gridcolor": "white",
            "gridwidth": 2,
            "linecolor": "white",
            "showbackground": true,
            "ticks": "",
            "zerolinecolor": "white"
           }
          },
          "shapedefaults": {
           "line": {
            "color": "#2a3f5f"
           }
          },
          "ternary": {
           "aaxis": {
            "gridcolor": "white",
            "linecolor": "white",
            "ticks": ""
           },
           "baxis": {
            "gridcolor": "white",
            "linecolor": "white",
            "ticks": ""
           },
           "bgcolor": "#E5ECF6",
           "caxis": {
            "gridcolor": "white",
            "linecolor": "white",
            "ticks": ""
           }
          },
          "title": {
           "x": 0.05
          },
          "xaxis": {
           "automargin": true,
           "gridcolor": "white",
           "linecolor": "white",
           "ticks": "",
           "title": {
            "standoff": 15
           },
           "zerolinecolor": "white",
           "zerolinewidth": 2
          },
          "yaxis": {
           "automargin": true,
           "gridcolor": "white",
           "linecolor": "white",
           "ticks": "",
           "title": {
            "standoff": 15
           },
           "zerolinecolor": "white",
           "zerolinewidth": 2
          }
         }
        },
        "title": {
         "text": "Required Bandwidth by Application Type"
        },
        "width": 800,
        "xaxis": {
         "anchor": "y",
         "autorange": true,
         "domain": [
          0,
          1
         ],
         "range": [
          -0.5,
          10.5
         ],
         "title": {
          "text": "Application_Type"
         },
         "type": "category"
        },
        "yaxis": {
         "anchor": "x",
         "autorange": true,
         "domain": [
          0,
          1
         ],
         "range": [
          0,
          738623.5789473683
         ],
         "title": {
          "text": "Required_Bandwidth"
         },
         "type": "linear"
        }
       }
      },
      "image/png": "[encoded data removed]",
      "text/html": [
       "<div>                            <div id=\"2feeffe8-f44a-4ae5-8426-d21116b79c99\" class=\"plotly-graph-div\" style=\"height:500px; width:800px;\"></div>            <script type=\"text/javascript\">                require([\"plotly\"], function(Plotly) {                    window.PLOTLYENV=window.PLOTLYENV || {};                                    if (document.getElementById(\"2feeffe8-f44a-4ae5-8426-d21116b79c99\")) {                    Plotly.newPlot(                        \"2feeffe8-f44a-4ae5-8426-d21116b79c99\",                        [{\"alignmentgroup\":\"True\",\"hovertemplate\":\"Application_Type=%{x}\\u003cbr\\u003eRequired_Bandwidth=%{marker.color}\\u003cextra\\u003e\\u003c\\u002fextra\\u003e\",\"legendgroup\":\"\",\"marker\":{\"color\":[0.0,0.0,0.0,0.0,0.0,0.0,0.0,1.0,1.0,1.0,1.0,1.0,2.0,3.0,4.0,5.0,5.0,6.0,7.0,8.0,10.0,10.0,15.0,20.0,25.0,30.0,35.0,40.0,45.0,50.0,55.0,60.0,65.0,70.0,75.0,80.0,85.0,90.0,95.0,100.0,100.0,102.4,102.4,102.4,102.4,102.4,102.4,102.4,102.4,102.4,102.4,102.4,102.4,102.4,102.4,102.4,102.4,105.0,110.0,115.0,120.0,125.0,130.0,140.0,145.0,145.0,150.0,150.0,150.0,150.0,155.0,155.0,155.0,160.0,160.0,165.0,170.0,204.8,204.8,204.8,307.2,307.2,307.2,350.0,360.0,370.0,380.0,390.0,400.0,409.6,409.6,409.6,409.6,409.6,409.6,409.6,409.6,409.6,409.6,410.0,420.0,430.0,440.0,450.0,460.0,470.0,480.0,490.0,500.0,500.0,510.0,512.0,512.0,512.0,512.0,512.0,512.0,512.0,512.0,512.0,512.0,512.0,512.0,512.0,512.0,520.0,530.0,540.0,550.0,560.0,570.0,580.0,590.0,600.0,600.0,610.0,610.0,614.4,614.4,614.4,614.4,614.4,614.4,614.4,614.4,614.4,614.4,614.4,614.4,614.4,620.0,620.0,620.0,630.0,630.0,640.0,640.0,650.0,650.0,660.0,660.0,670.0,670.0,670.0,680.0,680.0,690.0,716.8,716.8,716.8,716.8,716.8,716.8,716.8,716.8,716.8,819.2,819.2,819.2,819.2,819.2,819.2,819.2,819.2,921.6,921.6,921.6,921.6,1024.0,1024.0,1024.0,1024.0,1024.0,1024.0,1024.0,1126.4,1126.4,1126.4,1126.4,1228.8,1228.8,1228.8,1228.8,1331.2,1331.2,1331.2,1433.6,1433.6,1433.6,1536.0,1536.0,1536.0,1638.4,1638.4,1740.8,1740.8,1843.2,1843.2,1945.6,1945.6,2048.0,2048.0,2048.0,2048.0,2150.4,2150.4,2252.8,2252.8,2252.8,2355.2,2355.2,2355.2,2457.6,2457.6,2457.6,2560.0,2560.0,2560.0,2662.4,2662.4,2662.4,2764.8,2764.8,2764.8,2867.2,2867.2,2867.2,2969.6,2969.6,2969.6,2969.6,2969.6,3072.0,3072.0,3072.0,3072.0,3174.4,3174.4,3174.4,3276.8,3276.8,3276.8,3276.8,3379.2,3379.2,3379.2,3481.6,3481.6,3481.6,3481.6,3584.0,3584.0,3584.0,3584.0,3686.4,3686.4,3686.4,3686.4,3788.8,3788.8,3788.8,3788.8,3891.2,3891.2,3891.2,3891.2,3891.2,3993.6,3993.6,3993.6,3993.6,4096.0,4096.0,4096.0,4096.0,4096.0,4096.0,4096.0,4096.0,4198.4,4198.4,4198.4,4198.4,4198.4,4198.4,4300.8,4300.8,4300.8,4300.8,4403.2,4403.2,4403.2,4505.6,4505.6,4505.6,4505.6,4608.0,4608.0,4608.0,4608.0,4608.0,4710.4,4710.4,4710.4,4812.8,4915.2,5017.6,5120.0,5120.0,5120.0,5222.4,5324.8,5427.2,5529.6,5632.0,5734.4,5836.8,5939.2,6041.6,6144.0,6246.4,6348.8,6451.2,10240.0,10240.0,10444.8,10444.8,10547.2,10752.0,10752.0,10956.8,10956.8,11059.2,11059.2,11059.2,11161.6,11161.6,11264.0,11264.0,11264.0,11264.0,11366.4,11468.8,11468.8,11468.8,11571.2,11673.6,11673.6,11776.0,11878.4,11980.8,12083.2,12185.6,12288.0,12288.0,12390.4,12492.8,12595.2,12697.6,12800.0,12902.4,13004.8,13107.2,13209.6,13312.0,13414.4,13516.8,13619.2,13721.6,13824.0,13926.4,14028.8,14131.2,14233.6,14336.0,14438.4,14540.8,14643.2,14745.6,14848.0],\"coloraxis\":\"coloraxis\",\"pattern\":{\"shape\":\"\"}},\"name\":\"\",\"offsetgroup\":\"\",\"orientation\":\"v\",\"showlegend\":false,\"textposition\":\"auto\",\"x\":[\"VoIP_Call\",\"VoIP_Call\",\"VoIP_Call\",\"VoIP_Call\",\"VoIP_Call\",\"VoIP_Call\",\"VoIP_Call\",\"IoT_Temperature\",\"IoT_Temperature\",\"IoT_Temperature\",\"IoT_Temperature\",\"IoT_Temperature\",\"IoT_Temperature\",\"IoT_Temperature\",\"IoT_Temperature\",\"VoIP_Call\",\"IoT_Temperature\",\"IoT_Temperature\",\"IoT_Temperature\",\"IoT_Temperature\",\"VoIP_Call\",\"IoT_Temperature\",\"VoIP_Call\",\"VoIP_Call\",\"VoIP_Call\",\"VoIP_Call\",\"VoIP_Call\",\"VoIP_Call\",\"VoIP_Call\",\"VoIP_Call\",\"VoIP_Call\",\"VoIP_Call\",\"VoIP_Call\",\"VoIP_Call\",\"VoIP_Call\",\"VoIP_Call\",\"VoIP_Call\",\"VoIP_Call\",\"VoIP_Call\",\"VoIP_Call\",\"Voice_Call\",\"Web_Browsing\",\"Web_Browsing\",\"Web_Browsing\",\"Web_Browsing\",\"Web_Browsing\",\"Web_Browsing\",\"Web_Browsing\",\"Web_Browsing\",\"Web_Browsing\",\"Web_Browsing\",\"Web_Browsing\",\"Web_Browsing\",\"Web_Browsing\",\"Web_Browsing\",\"Web_Browsing\",\"Web_Browsing\",\"VoIP_Call\",\"VoIP_Call\",\"VoIP_Call\",\"VoIP_Call\",\"VoIP_Call\",\"VoIP_Call\",\"VoIP_Call\",\"VoIP_Call\",\"VoIP_Call\",\"VoIP_Call\",\"VoIP_Call\",\"Video_Call\",\"VoIP_Call\",\"VoIP_Call\",\"VoIP_Call\",\"VoIP_Call\",\"VoIP_Call\",\"VoIP_Call\",\"VoIP_Call\",\"VoIP_Call\",\"Web_Browsing\",\"Web_Browsing\",\"Web_Browsing\",\"Web_Browsing\",\"Web_Browsing\",\"Web_Browsing\",\"Background_Download\",\"Background_Download\",\"Background_Download\",\"Background_Download\",\"Background_Download\",\"Background_Download\",\"Web_Browsing\",\"Emergency_Service\",\"Web_Browsing\",\"Emergency_Service\",\"Web_Browsing\",\"Web_Browsing\",\"Emergency_Service\",\"Emergency_Service\",\"Emergency_Service\",\"Web_Browsing\",\"Background_Download\",\"Background_Download\",\"Background_Download\",\"Background_Download\",\"Background_Download\",\"Background_Download\",\"Background_Download\",\"Background_Download\",\"Background_Download\",\"Background_Download\",\"Background_Download\",\"Background_Download\",\"Emergency_Service\",\"Web_Browsing\",\"Emergency_Service\",\"Emergency_Service\",\"Emergency_Service\",\"Emergency_Service\",\"Emergency_Service\",\"Web_Browsing\",\"Emergency_Service\",\"Web_Browsing\",\"Emergency_Service\",\"Emergency_Service\",\"Emergency_Service\",\"Web_Browsing\",\"Background_Download\",\"Background_Download\",\"Background_Download\",\"Background_Download\",\"Background_Download\",\"Background_Download\",\"Background_Download\",\"Background_Download\",\"Background_Download\",\"Background_Download\",\"Background_Download\",\"Background_Download\",\"Emergency_Service\",\"Emergency_Service\",\"Emergency_Service\",\"Emergency_Service\",\"Emergency_Service\",\"Emergency_Service\",\"Emergency_Service\",\"Web_Browsing\",\"Emergency_Service\",\"Emergency_Service\",\"Emergency_Service\",\"Emergency_Service\",\"Web_Browsing\",\"Background_Download\",\"Background_Download\",\"Background_Download\",\"Background_Download\",\"Background_Download\",\"Background_Download\",\"Background_Download\",\"Background_Download\",\"Background_Download\",\"Background_Download\",\"Background_Download\",\"Background_Download\",\"Background_Download\",\"Background_Download\",\"Background_Download\",\"Background_Download\",\"Background_Download\",\"Web_Browsing\",\"Emergency_Service\",\"Emergency_Service\",\"Emergency_Service\",\"Web_Browsing\",\"Emergency_Service\",\"Emergency_Service\",\"Web_Browsing\",\"Emergency_Service\",\"Emergency_Service\",\"Emergency_Service\",\"Web_Browsing\",\"Emergency_Service\",\"Emergency_Service\",\"Web_Browsing\",\"Web_Browsing\",\"Emergency_Service\",\"Emergency_Service\",\"Emergency_Service\",\"Web_Browsing\",\"Emergency_Service\",\"Emergency_Service\",\"Web_Browsing\",\"Emergency_Service\",\"Emergency_Service\",\"Video_Streaming\",\"Web_Browsing\",\"Emergency_Service\",\"Video_Streaming\",\"Web_Browsing\",\"Emergency_Service\",\"Emergency_Service\",\"Video_Streaming\",\"Emergency_Service\",\"Web_Browsing\",\"Web_Browsing\",\"Streaming\",\"Web_Browsing\",\"Video_Streaming\",\"Web_Browsing\",\"Video_Streaming\",\"Streaming\",\"Video_Streaming\",\"Web_Browsing\",\"Streaming\",\"Video_Streaming\",\"Streaming\",\"Streaming\",\"Video_Streaming\",\"Streaming\",\"Video_Streaming\",\"Streaming\",\"Video_Streaming\",\"File_Download\",\"Streaming\",\"Video_Streaming\",\"Online_Gaming\",\"Video_Streaming\",\"Streaming\",\"Streaming\",\"Video_Streaming\",\"Online_Gaming\",\"Online_Gaming\",\"Video_Streaming\",\"Streaming\",\"Video_Streaming\",\"Streaming\",\"Online_Gaming\",\"Video_Streaming\",\"Streaming\",\"Online_Gaming\",\"Video_Streaming\",\"Streaming\",\"Online_Gaming\",\"Video_Streaming\",\"Online_Gaming\",\"Streaming\",\"Online_Gaming\",\"Video_Streaming\",\"Streaming\",\"Streaming\",\"Video_Streaming\",\"Online_Gaming\",\"Online_Gaming\",\"Online_Gaming\",\"Video_Streaming\",\"Online_Gaming\",\"Streaming\",\"Video_Streaming\",\"Online_Gaming\",\"Video_Streaming\",\"Streaming\",\"Video_Streaming\",\"Online_Gaming\",\"Video_Streaming\",\"Streaming\",\"Streaming\",\"Online_Gaming\",\"Video_Streaming\",\"Video_Streaming\",\"Online_Gaming\",\"Streaming\",\"Video_Streaming\",\"Video_Streaming\",\"Online_Gaming\",\"Streaming\",\"Video_Streaming\",\"Video_Streaming\",\"Online_Gaming\",\"Video_Streaming\",\"Streaming\",\"Video_Streaming\",\"Video_Streaming\",\"Streaming\",\"Online_Gaming\",\"Streaming\",\"Streaming\",\"Video_Streaming\",\"Video_Streaming\",\"Online_Gaming\",\"Video_Streaming\",\"Online_Gaming\",\"Video_Streaming\",\"Streaming\",\"Video_Streaming\",\"Video_Streaming\",\"Streaming\",\"Streaming\",\"Online_Gaming\",\"Video_Streaming\",\"Video_Streaming\",\"Video_Streaming\",\"Video_Streaming\",\"Video_Streaming\",\"Online_Gaming\",\"Video_Streaming\",\"Streaming\",\"Streaming\",\"Online_Gaming\",\"Video_Streaming\",\"Streaming\",\"Streaming\",\"Streaming\",\"Online_Gaming\",\"Streaming\",\"Online_Gaming\",\"Streaming\",\"Streaming\",\"Streaming\",\"Online_Gaming\",\"Streaming\",\"Streaming\",\"Streaming\",\"Streaming\",\"Streaming\",\"Streaming\",\"Online_Gaming\",\"Online_Gaming\",\"Online_Gaming\",\"Online_Gaming\",\"Online_Gaming\",\"Streaming\",\"Streaming\",\"Online_Gaming\",\"Online_Gaming\",\"Online_Gaming\",\"Online_Gaming\",\"Online_Gaming\",\"Online_Gaming\",\"Online_Gaming\",\"Online_Gaming\",\"Online_Gaming\",\"Online_Gaming\",\"Online_Gaming\",\"Online_Gaming\",\"Online_Gaming\",\"Video_Call\",\"Video_Call\",\"Video_Call\",\"Video_Call\",\"Video_Call\",\"Video_Call\",\"Video_Call\",\"Video_Call\",\"Video_Call\",\"Video_Call\",\"Video_Call\",\"Video_Call\",\"Video_Call\",\"Video_Call\",\"Video_Call\",\"Video_Call\",\"Video_Call\",\"Video_Call\",\"Video_Call\",\"Video_Call\",\"Video_Call\",\"Video_Call\",\"Video_Call\",\"Video_Call\",\"Video_Call\",\"Video_Call\",\"Video_Call\",\"Video_Call\",\"Video_Call\",\"Video_Call\",\"Video_Call\",\"Video_Call\",\"Video_Call\",\"Video_Call\",\"Video_Call\",\"Video_Call\",\"Video_Call\",\"Video_Call\",\"Video_Call\",\"Video_Call\",\"Video_Call\",\"Video_Call\",\"Video_Call\",\"Video_Call\",\"Video_Call\",\"Video_Call\",\"Video_Call\",\"Video_Call\",\"Video_Call\",\"Video_Call\",\"Video_Call\",\"Video_Call\",\"Video_Call\",\"Video_Call\",\"Video_Call\",\"Video_Call\",\"Video_Call\"],\"xaxis\":\"x\",\"y\":[0.0,0.0,0.0,0.0,0.0,0.0,0.0,1.0,1.0,1.0,1.0,1.0,2.0,3.0,4.0,5.0,5.0,6.0,7.0,8.0,10.0,10.0,15.0,20.0,25.0,30.0,35.0,40.0,45.0,50.0,55.0,60.0,65.0,70.0,75.0,80.0,85.0,90.0,95.0,100.0,100.0,102.4,102.4,102.4,102.4,102.4,102.4,102.4,102.4,102.4,102.4,102.4,102.4,102.4,102.4,102.4,102.4,105.0,110.0,115.0,120.0,125.0,130.0,140.0,145.0,145.0,150.0,150.0,150.0,150.0,155.0,155.0,155.0,160.0,160.0,165.0,170.0,204.8,204.8,204.8,307.2,307.2,307.2,350.0,360.0,370.0,380.0,390.0,400.0,409.6,409.6,409.6,409.6,409.6,409.6,409.6,409.6,409.6,409.6,410.0,420.0,430.0,440.0,450.0,460.0,470.0,480.0,490.0,500.0,500.0,510.0,512.0,512.0,512.0,512.0,512.0,512.0,512.0,512.0,512.0,512.0,512.0,512.0,512.0,512.0,520.0,530.0,540.0,550.0,560.0,570.0,580.0,590.0,600.0,600.0,610.0,610.0,614.4,614.4,614.4,614.4,614.4,614.4,614.4,614.4,614.4,614.4,614.4,614.4,614.4,620.0,620.0,620.0,630.0,630.0,640.0,640.0,650.0,650.0,660.0,660.0,670.0,670.0,670.0,680.0,680.0,690.0,716.8,716.8,716.8,716.8,716.8,716.8,716.8,716.8,716.8,819.2,819.2,819.2,819.2,819.2,819.2,819.2,819.2,921.6,921.6,921.6,921.6,1024.0,1024.0,1024.0,1024.0,1024.0,1024.0,1024.0,1126.4,1126.4,1126.4,1126.4,1228.8,1228.8,1228.8,1228.8,1331.2,1331.2,1331.2,1433.6,1433.6,1433.6,1536.0,1536.0,1536.0,1638.4,1638.4,1740.8,1740.8,1843.2,1843.2,1945.6,1945.6,2048.0,2048.0,2048.0,2048.0,2150.4,2150.4,2252.8,2252.8,2252.8,2355.2,2355.2,2355.2,2457.6,2457.6,2457.6,2560.0,2560.0,2560.0,2662.4,2662.4,2662.4,2764.8,2764.8,2764.8,2867.2,2867.2,2867.2,2969.6,2969.6,2969.6,2969.6,2969.6,3072.0,3072.0,3072.0,3072.0,3174.4,3174.4,3174.4,3276.8,3276.8,3276.8,3276.8,3379.2,3379.2,3379.2,3481.6,3481.6,3481.6,3481.6,3584.0,3584.0,3584.0,3584.0,3686.4,3686.4,3686.4,3686.4,3788.8,3788.8,3788.8,3788.8,3891.2,3891.2,3891.2,3891.2,3891.2,3993.6,3993.6,3993.6,3993.6,4096.0,4096.0,4096.0,4096.0,4096.0,4096.0,4096.0,4096.0,4198.4,4198.4,4198.4,4198.4,4198.4,4198.4,4300.8,4300.8,4300.8,4300.8,4403.2,4403.2,4403.2,4505.6,4505.6,4505.6,4505.6,4608.0,4608.0,4608.0,4608.0,4608.0,4710.4,4710.4,4710.4,4812.8,4915.2,5017.6,5120.0,5120.0,5120.0,5222.4,5324.8,5427.2,5529.6,5632.0,5734.4,5836.8,5939.2,6041.6,6144.0,6246.4,6348.8,6451.2,10240.0,10240.0,10444.8,10444.8,10547.2,10752.0,10752.0,10956.8,10956.8,11059.2,11059.2,11059.2,11161.6,11161.6,11264.0,11264.0,11264.0,11264.0,11366.4,11468.8,11468.8,11468.8,11571.2,11673.6,11673.6,11776.0,11878.4,11980.8,12083.2,12185.6,12288.0,12288.0,12390.4,12492.8,12595.2,12697.6,12800.0,12902.4,13004.8,13107.2,13209.6,13312.0,13414.4,13516.8,13619.2,13721.6,13824.0,13926.4,14028.8,14131.2,14233.6,14336.0,14438.4,14540.8,14643.2,14745.6,14848.0],\"yaxis\":\"y\",\"type\":\"bar\"}],                        {\"template\":{\"data\":{\"histogram2dcontour\":[{\"type\":\"histogram2dcontour\",\"colorbar\":{\"outlinewidth\":0,\"ticks\":\"\"},\"colorscale\":[[0.0,\"#0d0887\"],[0.1111111111111111,\"#46039f\"],[0.2222222222222222,\"#7201a8\"],[0.3333333333333333,\"#9c179e\"],[0.4444444444444444,\"#bd3786\"],[0.5555555555555556,\"#d8576b\"],[0.6666666666666666,\"#ed7953\"],[0.7777777777777778,\"#fb9f3a\"],[0.8888888888888888,\"#fdca26\"],[1.0,\"#f0f921\"]]}],\"choropleth\":[{\"type\":\"choropleth\",\"colorbar\":{\"outlinewidth\":0,\"ticks\":\"\"}}],\"histogram2d\":[{\"type\":\"histogram2d\",\"colorbar\":{\"outlinewidth\":0,\"ticks\":\"\"},\"colorscale\":[[0.0,\"#0d0887\"],[0.1111111111111111,\"#46039f\"],[0.2222222222222222,\"#7201a8\"],[0.3333333333333333,\"#9c179e\"],[0.4444444444444444,\"#bd3786\"],[0.5555555555555556,\"#d8576b\"],[0.6666666666666666,\"#ed7953\"],[0.7777777777777778,\"#fb9f3a\"],[0.8888888888888888,\"#fdca26\"],[1.0,\"#f0f921\"]]}],\"heatmap\":[{\"type\":\"heatmap\",\"colorbar\":{\"outlinewidth\":0,\"ticks\":\"\"},\"colorscale\":[[0.0,\"#0d0887\"],[0.1111111111111111,\"#46039f\"],[0.2222222222222222,\"#7201a8\"],[0.3333333333333333,\"#9c179e\"],[0.4444444444444444,\"#bd3786\"],[0.5555555555555556,\"#d8576b\"],[0.6666666666666666,\"#ed7953\"],[0.7777777777777778,\"#fb9f3a\"],[0.8888888888888888,\"#fdca26\"],[1.0,\"#f0f921\"]]}],\"heatmapgl\":[{\"type\":\"heatmapgl\",\"colorbar\":{\"outlinewidth\":0,\"ticks\":\"\"},\"colorscale\":[[0.0,\"#0d0887\"],[0.1111111111111111,\"#46039f\"],[0.2222222222222222,\"#7201a8\"],[0.3333333333333333,\"#9c179e\"],[0.4444444444444444,\"#bd3786\"],[0.5555555555555556,\"#d8576b\"],[0.6666666666666666,\"#ed7953\"],[0.7777777777777778,\"#fb9f3a\"],[0.8888888888888888,\"#fdca26\"],[1.0,\"#f0f921\"]]}],\"contourcarpet\":[{\"type\":\"contourcarpet\",\"colorbar\":{\"outlinewidth\":0,\"ticks\":\"\"}}],\"contour\":[{\"type\":\"contour\",\"colorbar\":{\"outlinewidth\":0,\"ticks\":\"\"},\"colorscale\":[[0.0,\"#0d0887\"],[0.1111111111111111,\"#46039f\"],[0.2222222222222222,\"#7201a8\"],[0.3333333333333333,\"#9c179e\"],[0.4444444444444444,\"#bd3786\"],[0.5555555555555556,\"#d8576b\"],[0.6666666666666666,\"#ed7953\"],[0.7777777777777778,\"#fb9f3a\"],[0.8888888888888888,\"#fdca26\"],[1.0,\"#f0f921\"]]}],\"surface\":[{\"type\":\"surface\",\"colorbar\":{\"outlinewidth\":0,\"ticks\":\"\"},\"colorscale\":[[0.0,\"#0d0887\"],[0.1111111111111111,\"#46039f\"],[0.2222222222222222,\"#7201a8\"],[0.3333333333333333,\"#9c179e\"],[0.4444444444444444,\"#bd3786\"],[0.5555555555555556,\"#d8576b\"],[0.6666666666666666,\"#ed7953\"],[0.7777777777777778,\"#fb9f3a\"],[0.8888888888888888,\"#fdca26\"],[1.0,\"#f0f921\"]]}],\"mesh3d\":[{\"type\":\"mesh3d\",\"colorbar\":{\"outlinewidth\":0,\"ticks\":\"\"}}],\"scatter\":[{\"fillpattern\":{\"fillmode\":\"overlay\",\"size\":10,\"solidity\":0.2},\"type\":\"scatter\"}],\"parcoords\":[{\"type\":\"parcoords\",\"line\":{\"colorbar\":{\"outlinewidth\":0,\"ticks\":\"\"}}}],\"scatterpolargl\":[{\"type\":\"scatterpolargl\",\"marker\":{\"colorbar\":{\"outlinewidth\":0,\"ticks\":\"\"}}}],\"bar\":[{\"error_x\":{\"color\":\"#2a3f5f\"},\"error_y\":{\"color\":\"#2a3f5f\"},\"marker\":{\"line\":{\"color\":\"#E5ECF6\",\"width\":0.5},\"pattern\":{\"fillmode\":\"overlay\",\"size\":10,\"solidity\":0.2}},\"type\":\"bar\"}],\"scattergeo\":[{\"type\":\"scattergeo\",\"marker\":{\"colorbar\":{\"outlinewidth\":0,\"ticks\":\"\"}}}],\"scatterpolar\":[{\"type\":\"scatterpolar\",\"marker\":{\"colorbar\":{\"outlinewidth\":0,\"ticks\":\"\"}}}],\"histogram\":[{\"marker\":{\"pattern\":{\"fillmode\":\"overlay\",\"size\":10,\"solidity\":0.2}},\"type\":\"histogram\"}],\"scattergl\":[{\"type\":\"scattergl\",\"marker\":{\"colorbar\":{\"outlinewidth\":0,\"ticks\":\"\"}}}],\"scatter3d\":[{\"type\":\"scatter3d\",\"line\":{\"colorbar\":{\"outlinewidth\":0,\"ticks\":\"\"}},\"marker\":{\"colorbar\":{\"outlinewidth\":0,\"ticks\":\"\"}}}],\"scattermapbox\":[{\"type\":\"scattermapbox\",\"marker\":{\"colorbar\":{\"outlinewidth\":0,\"ticks\":\"\"}}}],\"scatterternary\":[{\"type\":\"scatterternary\",\"marker\":{\"colorbar\":{\"outlinewidth\":0,\"ticks\":\"\"}}}],\"scattercarpet\":[{\"type\":\"scattercarpet\",\"marker\":{\"colorbar\":{\"outlinewidth\":0,\"ticks\":\"\"}}}],\"carpet\":[{\"aaxis\":{\"endlinecolor\":\"#2a3f5f\",\"gridcolor\":\"white\",\"linecolor\":\"white\",\"minorgridcolor\":\"white\",\"startlinecolor\":\"#2a3f5f\"},\"baxis\":{\"endlinecolor\":\"#2a3f5f\",\"gridcolor\":\"white\",\"linecolor\":\"white\",\"minorgridcolor\":\"white\",\"startlinecolor\":\"#2a3f5f\"},\"type\":\"carpet\"}],\"table\":[{\"cells\":{\"fill\":{\"color\":\"#EBF0F8\"},\"line\":{\"color\":\"white\"}},\"header\":{\"fill\":{\"color\":\"#C8D4E3\"},\"line\":{\"color\":\"white\"}},\"type\":\"table\"}],\"barpolar\":[{\"marker\":{\"line\":{\"color\":\"#E5ECF6\",\"width\":0.5},\"pattern\":{\"fillmode\":\"overlay\",\"size\":10,\"solidity\":0.2}},\"type\":\"barpolar\"}],\"pie\":[{\"automargin\":true,\"type\":\"pie\"}]},\"layout\":{\"autotypenumbers\":\"strict\",\"colorway\":[\"#636efa\",\"#EF553B\",\"#00cc96\",\"#ab63fa\",\"#FFA15A\",\"#19d3f3\",\"#FF6692\",\"#B6E880\",\"#FF97FF\",\"#FECB52\"],\"font\":{\"color\":\"#2a3f5f\"},\"hovermode\":\"closest\",\"hoverlabel\":{\"align\":\"left\"},\"paper_bgcolor\":\"white\",\"plot_bgcolor\":\"#E5ECF6\",\"polar\":{\"bgcolor\":\"#E5ECF6\",\"angularaxis\":{\"gridcolor\":\"white\",\"linecolor\":\"white\",\"ticks\":\"\"},\"radialaxis\":{\"gridcolor\":\"white\",\"linecolor\":\"white\",\"ticks\":\"\"}},\"ternary\":{\"bgcolor\":\"#E5ECF6\",\"aaxis\":{\"gridcolor\":\"white\",\"linecolor\":\"white\",\"ticks\":\"\"},\"baxis\":{\"gridcolor\":\"white\",\"linecolor\":\"white\",\"ticks\":\"\"},\"caxis\":{\"gridcolor\":\"white\",\"linecolor\":\"white\",\"ticks\":\"\"}},\"coloraxis\":{\"colorbar\":{\"outlinewidth\":0,\"ticks\":\"\"}},\"colorscale\":{\"sequential\":[[0.0,\"#0d0887\"],[0.1111111111111111,\"#46039f\"],[0.2222222222222222,\"#7201a8\"],[0.3333333333333333,\"#9c179e\"],[0.4444444444444444,\"#bd3786\"],[0.5555555555555556,\"#d8576b\"],[0.6666666666666666,\"#ed7953\"],[0.7777777777777778,\"#fb9f3a\"],[0.8888888888888888,\"#fdca26\"],[1.0,\"#f0f921\"]],\"sequentialminus\":[[0.0,\"#0d0887\"],[0.1111111111111111,\"#46039f\"],[0.2222222222222222,\"#7201a8\"],[0.3333333333333333,\"#9c179e\"],[0.4444444444444444,\"#bd3786\"],[0.5555555555555556,\"#d8576b\"],[0.6666666666666666,\"#ed7953\"],[0.7777777777777778,\"#fb9f3a\"],[0.8888888888888888,\"#fdca26\"],[1.0,\"#f0f921\"]],\"diverging\":[[0,\"#8e0152\"],[0.1,\"#c51b7d\"],[0.2,\"#de77ae\"],[0.3,\"#f1b6da\"],[0.4,\"#fde0ef\"],[0.5,\"#f7f7f7\"],[0.6,\"#e6f5d0\"],[0.7,\"#b8e186\"],[0.8,\"#7fbc41\"],[0.9,\"#4d9221\"],[1,\"#276419\"]]},\"xaxis\":{\"gridcolor\":\"white\",\"linecolor\":\"white\",\"ticks\":\"\",\"title\":{\"standoff\":15},\"zerolinecolor\":\"white\",\"automargin\":true,\"zerolinewidth\":2},\"yaxis\":{\"gridcolor\":\"white\",\"linecolor\":\"white\",\"ticks\":\"\",\"title\":{\"standoff\":15},\"zerolinecolor\":\"white\",\"automargin\":true,\"zerolinewidth\":2},\"scene\":{\"xaxis\":{\"backgroundcolor\":\"#E5ECF6\",\"gridcolor\":\"white\",\"linecolor\":\"white\",\"showbackground\":true,\"ticks\":\"\",\"zerolinecolor\":\"white\",\"gridwidth\":2},\"yaxis\":{\"backgroundcolor\":\"#E5ECF6\",\"gridcolor\":\"white\",\"linecolor\":\"white\",\"showbackground\":true,\"ticks\":\"\",\"zerolinecolor\":\"white\",\"gridwidth\":2},\"zaxis\":{\"backgroundcolor\":\"#E5ECF6\",\"gridcolor\":\"white\",\"linecolor\":\"white\",\"showbackground\":true,\"ticks\":\"\",\"zerolinecolor\":\"white\",\"gridwidth\":2}},\"shapedefaults\":{\"line\":{\"color\":\"#2a3f5f\"}},\"annotationdefaults\":{\"arrowcolor\":\"#2a3f5f\",\"arrowhead\":0,\"arrowwidth\":1},\"geo\":{\"bgcolor\":\"white\",\"landcolor\":\"#E5ECF6\",\"subunitcolor\":\"white\",\"showland\":true,\"showlakes\":true,\"lakecolor\":\"white\"},\"title\":{\"x\":0.05},\"mapbox\":{\"style\":\"light\"}}},\"xaxis\":{\"anchor\":\"y\",\"domain\":[0.0,1.0],\"title\":{\"text\":\"Application_Type\"}},\"yaxis\":{\"anchor\":\"x\",\"domain\":[0.0,1.0],\"title\":{\"text\":\"Required_Bandwidth\"}},\"coloraxis\":{\"colorbar\":{\"title\":{\"text\":\"Required_Bandwidth\"}},\"colorscale\":[[0.0,\"#0d0887\"],[0.1111111111111111,\"#46039f\"],[0.2222222222222222,\"#7201a8\"],[0.3333333333333333,\"#9c179e\"],[0.4444444444444444,\"#bd3786\"],[0.5555555555555556,\"#d8576b\"],[0.6666666666666666,\"#ed7953\"],[0.7777777777777778,\"#fb9f3a\"],[0.8888888888888888,\"#fdca26\"],[1.0,\"#f0f921\"]]},\"legend\":{\"tracegroupgap\":0},\"title\":{\"text\":\"Required Bandwidth by Application Type\"},\"barmode\":\"relative\",\"width\":800,\"height\":500},                        {\"responsive\": true}                    ).then(function(){\n",
       "                            \n",
       "var gd = document.getElementById('2feeffe8-f44a-4ae5-8426-d21116b79c99');\n",
       "var x = new MutationObserver(function (mutations, observer) {{\n",
       "        var display = window.getComputedStyle(gd).display;\n",
       "        if (!display || display === 'none') {{\n",
       "            console.log([gd, 'removed!']);\n",
       "            Plotly.purge(gd);\n",
       "            observer.disconnect();\n",
       "        }}\n",
       "}});\n",
       "\n",
       "// Listen for the removal of the full notebook cells\n",
       "var notebookContainer = gd.closest('#notebook-container');\n",
       "if (notebookContainer) {{\n",
       "    x.observe(notebookContainer, {childList: true});\n",
       "}}\n",
       "\n",
       "// Listen for the clearing of the current output cell\n",
       "var outputEl = gd.closest('.output');\n",
       "if (outputEl) {{\n",
       "    x.observe(outputEl, {childList: true});\n",
       "}}\n",
       "\n",
       "                        })                };                });            </script>        </div>"
      ]
     },
     "metadata": {},
     "output_type": "display_data"
    }
   ],
   "source": [
    "# Sort data by 'Required_Bandwidth'\n",
    "data_sorted = data.sort_values(by='Required_Bandwidth')\n",
    "\n",
    "# Create the bar plot using Plotly\n",
    "fig = px.bar(\n",
    "    data_sorted,\n",
    "    x='Application_Type',\n",
    "    y='Required_Bandwidth',\n",
    "    color='Required_Bandwidth',  # Different colors for each bar\n",
    "    #color_continuous_scale='Viridis',  # Optional: set a color scale\n",
    "    title='Required Bandwidth by Application Type'\n",
    ")\n",
    "\n",
    "# Update the layout to match the specified figure size\n",
    "fig.update_layout(\n",
    "    width=800,  # 16 inches * 50 pixels per inch\n",
    "    height=500,  # 10 inches * 50 pixels per inch\n",
    ")\n",
    "\n",
    "# Show the plot\n",
    "fig.show()"
   ]
  },
  {
   "cell_type": "code",
   "execution_count": 71,
   "id": "c7ef907f-369e-4ca8-ace1-e8f88d72e538",
   "metadata": {},
   "outputs": [
    {
     "data": {
      "image/png": "[encoded data removed]",
      "text/plain": [
       "<Figure size 640x480 with 1 Axes>"
      ]
     },
     "metadata": {},
     "output_type": "display_data"
    }
   ],
   "source": [
    "sns.countplot(x=data['Resource_Allocation'])\n",
    "plt.show()"
   ]
  },
  {
   "cell_type": "code",
   "execution_count": 72,
   "id": "318ba4a5-a0ee-48e4-a5a3-369e15f2ec1c",
   "metadata": {},
   "outputs": [
    {
     "data": {
      "image/png": "[encoded data removed]",
      "text/plain": [
       "<Figure size 1000x600 with 1 Axes>"
      ]
     },
     "metadata": {},
     "output_type": "display_data"
    }
   ],
   "source": [
    "plt.figure(figsize=(10, 6))\n",
    "sns.histplot(data=data, x='Resource_Allocation', bins=10 ,kde=True)\n",
    "plt.title('Distribution of Resource Allocation')\n",
    "plt.xlabel('Resource Allocation (%)')\n",
    "plt.ylabel('Count')\n",
    "plt.show()"
   ]
  },
  {
   "cell_type": "code",
   "execution_count": 73,
   "id": "aa6d1992-84da-4651-873a-d828792d70b2",
   "metadata": {},
   "outputs": [
    {
     "data": {
      "image/png": "[encoded data removed]",
      "text/plain": [
       "<Figure size 1000x600 with 1 Axes>"
      ]
     },
     "metadata": {},
     "output_type": "display_data"
    }
   ],
   "source": [
    "plt.figure(figsize=(10, 6))\n",
    "sns.histplot(data=data, x='Signal_Strength', bins=20, kde=True)\n",
    "plt.title('Distribution of Signal Strength')\n",
    "plt.xlabel('Signal Strength')\n",
    "plt.ylabel('Frequency')\n",
    "plt.show()"
   ]
  },
  {
   "cell_type": "code",
   "execution_count": 77,
   "id": "fe0dac69-dfa6-4640-a927-fad91987048f",
   "metadata": {},
   "outputs": [
    {
     "data": {
      "image/png": "[encoded data removed]",
      "text/plain": [
       "<Figure size 800x500 with 1 Axes>"
      ]
     },
     "metadata": {},
     "output_type": "display_data"
    }
   ],
   "source": [
    "plt.figure(figsize=(8, 5))\n",
    "application_counts = data['Application_Type'].value_counts()\n",
    "sns.barplot(x=application_counts.index, y=application_counts.values, palette=\"viridis\")\n",
    "plt.title('Most Commonly Used Application Types')\n",
    "plt.xlabel('Application Type')\n",
    "plt.ylabel('Count')\n",
    "plt.xticks(rotation=90)  \n",
    "plt.show()"
   ]
  },
  {
   "cell_type": "code",
   "execution_count": 79,
   "id": "99608217-6fe2-4bb2-a4aa-0fe738d4f96b",
   "metadata": {},
   "outputs": [
    {
     "data": {
      "image/png": "[encoded data removed]",
      "text/plain": [
       "<Figure size 800x600 with 1 Axes>"
      ]
     },
     "metadata": {},
     "output_type": "display_data"
    },
    {
     "name": "stdout",
     "output_type": "stream",
     "text": [
      "Correlation Coefficient: -0.44728878034938635\n"
     ]
    }
   ],
   "source": [
    "plt.figure(figsize=(8, 6))\n",
    "sns.scatterplot(data=data, x='Signal_Strength', y='Allocated_Bandwidth',)\n",
    "plt.title('Correlation Between Signal Strength and Allocated Bandwidth')\n",
    "plt.xlabel('Signal Strength')\n",
    "plt.ylabel('Allocated Bandwidth')\n",
    "plt.grid(True)\n",
    "plt.show()\n",
    "\n",
    "correlation_coefficient = data['Signal_Strength'].corr(data['Allocated_Bandwidth'])\n",
    "print(f\"Correlation Coefficient: {correlation_coefficient}\")"
   ]
  },
  {
   "cell_type": "markdown",
   "id": "81769425-818f-4164-b88d-425cd6fd2e6d",
   "metadata": {},
   "source": [
    "* Negative Correlation: "
   ]
  },
  {
   "cell_type": "markdown",
   "id": "e83e18dc-3362-418a-a34a-5784136c998e",
   "metadata": {},
   "source": [
    "### 3. Statistical Analysis\n",
    "We would like to compare the impact of 'Application Type' to the Resources 'Allocation'\n",
    "\n",
    "Hypothesis:\n",
    "* •\tNull Hypothesis (H0): There is *NO* difference in the Resources  Allocation  between Application Type\n",
    "  \n",
    "* •\tAlternative Hypothesis (H1): There is difference in the Resources  Allocation  between Application Type\n"
   ]
  },
  {
   "cell_type": "code",
   "execution_count": 80,
   "id": "76b9e7ef-7f08-45b1-a331-da6e7ec2a302",
   "metadata": {},
   "outputs": [],
   "source": [
    "# Convert Signal_Strength, Latency, Required_Bandwidth, Allocated_Bandwidth, and Resource_Allocation to numerical types\n",
    "# Converting columns to their appropriate data types for analysis. For example, Signal_Strength is converted from object type to integer.\n",
    "\n",
    "data = pd.read_csv('5gqos.csv')\n",
    "data['Signal_Strength'] = data['Signal_Strength'].str.extract('(-\\d+)').astype(int)\n",
    "data['Latency'] = data['Latency'].str.extract('(\\d+)').astype(int)\n",
    "data['Required_Bandwidth'] = data['Required_Bandwidth'].str.extract('(\\d+)').astype(float)\n",
    "data['Allocated_Bandwidth'] = data['Allocated_Bandwidth'].str.extract('(\\d+)').astype(float)\n",
    "data['Resource_Allocation'] = data['Resource_Allocation'].str.extract('(\\d+)').astype(int)\n",
    "\n"
   ]
  },
  {
   "cell_type": "code",
   "execution_count": 81,
   "id": "04b6ad22-9b77-4939-b179-76fa0851ec50",
   "metadata": {},
   "outputs": [],
   "source": [
    "# Standardize Signal_Strength and Latency\n",
    "from sklearn.preprocessing import StandardScaler\n",
    "scaler = StandardScaler()\n",
    "data[['Signal_Strength', 'Latency']] = scaler.fit_transform(data[['Signal_Strength', 'Latency']])\n",
    "\n",
    "# Annotation: Standardizing the Signal_Strength and Latency columns to have zero mean and unit variance."
   ]
  },
  {
   "cell_type": "code",
   "execution_count": 82,
   "id": "87fc605b-da19-41cb-a036-fd010747e1fa",
   "metadata": {},
   "outputs": [],
   "source": [
    "# Create a new feature: Bandwidth Utilization Ratio\n",
    "data['Bandwidth_Utilization_Ratio'] = data['Allocated_Bandwidth'] / data['Required_Bandwidth']\n",
    "\n",
    "# Annotation: Creating a new feature called Bandwidth Utilization Ratio, which is the ratio of Allocated_Bandwidth to Required_Bandwidth. \n",
    "# This could enhance the analysis."
   ]
  },
  {
   "cell_type": "code",
   "execution_count": 83,
   "id": "628f5a23-dd39-4768-8500-051f4cf56749",
   "metadata": {},
   "outputs": [
    {
     "name": "stdout",
     "output_type": "stream",
     "text": [
      "<pandas.core.groupby.generic.DataFrameGroupBy object at 0x00000250FF923C80>\n"
     ]
    }
   ],
   "source": [
    "# Segment the data based on Application_Type\n",
    "segmented_data = data.groupby('Application_Type')\n",
    "print(segmented_data)\n",
    "# Annotation: The data is segmented based on the 'Application_Type' to facilitate focused analysis on each application type."
   ]
  },
  {
   "cell_type": "code",
   "execution_count": 84,
   "id": "9dcae663-78a6-49da-b0b6-434ce1f1b2d2",
   "metadata": {},
   "outputs": [
    {
     "name": "stdout",
     "output_type": "stream",
     "text": [
      "F-statistic: 435.5218983437554\n",
      "P-value: 2.4041349903988285e-204\n",
      "Reject the null hypothesis: There is a significant of resoources application difference among the application type.\n"
     ]
    }
   ],
   "source": [
    "import scipy.stats as stats\n",
    "\n",
    "# Segment the data based on Application_Type\n",
    "segmented_data = data.groupby('Application_Type')\n",
    "\n",
    "f_stat, p_value = stats.f_oneway(*[group['Resource_Allocation'].values for name, group in segmented_data])\n",
    "\n",
    "print(f\"F-statistic: {f_stat}\")\n",
    "print(f\"P-value: {p_value}\")\n",
    "\n",
    "if p_value < 0.05:\n",
    "    print(\"Reject the null hypothesis: There is a significant of resoources application difference among the application type.\")\n",
    "else:\n",
    "    print(\"Fail to reject the null hypothesis: No significant difference of resources application among the application type.\")"
   ]
  },
  {
   "cell_type": "markdown",
   "id": "58cafbee-2b42-443c-a7d5-1b13961b306d",
   "metadata": {},
   "source": [
    "* The ANOVA test showed a significant impact of Application_Type on Resource_Allocation. This suggests that network resources are not uniformly required across different types of applications. Therefore, a dynamic resource allocation strategy should be implemented to optimize network performance for each application type."
   ]
  },
  {
   "cell_type": "code",
   "execution_count": null,
   "id": "4deab687-ca66-45fd-bb42-ba41f1af83a2",
   "metadata": {},
   "outputs": [],
   "source": []
  }
 ],
 "metadata": {
  "kernelspec": {
   "display_name": "Python 3 (ipykernel)",
   "language": "python",
   "name": "python3"
  },
  "language_info": {
   "codemirror_mode": {
    "name": "ipython",
    "version": 3
   },
   "file_extension": ".py",
   "mimetype": "text/x-python",
   "name": "python",
   "nbconvert_exporter": "python",
   "pygments_lexer": "ipython3",
   "version": "3.12.3"
  }
 },
 "nbformat": 4,
 "nbformat_minor": 5
}
